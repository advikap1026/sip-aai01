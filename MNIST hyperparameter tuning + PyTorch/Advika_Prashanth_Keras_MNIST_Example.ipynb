{
  "cells": [
    {
      "cell_type": "markdown",
      "metadata": {
        "id": "CGofEoWno2sE"
      },
      "source": [
        "This is a companion notebook for the book [Deep Learning with Python, Second Edition](https://www.manning.com/books/deep-learning-with-python-second-edition?a_aid=keras&a_bid=76564dff). For readability, it only contains runnable code blocks and section titles, and omits everything else in the book: text paragraphs, figures, and pseudocode.\n",
        "\n",
        "**If you want to be able to follow what's going on, I recommend reading the notebook side by side with your copy of the book.**\n",
        "\n",
        "This notebook was generated for TensorFlow 2.6."
      ]
    },
    {
      "cell_type": "markdown",
      "metadata": {
        "id": "tsOWSZgEo2sI"
      },
      "source": [
        "# The mathematical building blocks of neural networks"
      ]
    },
    {
      "cell_type": "markdown",
      "metadata": {
        "id": "eEJko-jZo2sI"
      },
      "source": [
        "## A first look at a neural network"
      ]
    },
    {
      "cell_type": "markdown",
      "source": [],
      "metadata": {
        "id": "SrSLKLZSqJxW"
      }
    },
    {
      "cell_type": "markdown",
      "metadata": {
        "id": "eGqGQuJpo2sJ"
      },
      "source": [
        "**Loading the MNIST dataset in Keras**"
      ]
    },
    {
      "cell_type": "code",
      "execution_count": null,
      "metadata": {
        "id": "ZEgMIKHco2sJ"
      },
      "outputs": [],
      "source": [
        "from tensorflow.keras.datasets import mnist\n",
        "(train_images, train_labels), (test_images, test_labels) = mnist.load_data()"
      ]
    },
    {
      "cell_type": "code",
      "execution_count": null,
      "metadata": {
        "id": "pbScW5eYo2sK",
        "colab": {
          "base_uri": "https://localhost:8080/"
        },
        "outputId": "7b374332-74db-46a2-9438-8cbd8d2d88b6"
      },
      "outputs": [
        {
          "output_type": "execute_result",
          "data": {
            "text/plain": [
              "(60000, 28, 28)"
            ]
          },
          "metadata": {},
          "execution_count": 3
        }
      ],
      "source": [
        "train_images.shape"
      ]
    },
    {
      "cell_type": "code",
      "source": [
        "import matplotlib.pyplot as plt\n",
        "plt.figure()\n",
        "plt.imshow(train_images[0])\n",
        "print('Image of a hand-written number ', train_labels[0])"
      ],
      "metadata": {
        "colab": {
          "base_uri": "https://localhost:8080/",
          "height": 448
        },
        "id": "Tc6p5q26rMQF",
        "outputId": "1ad83931-85ad-407b-d1e8-c7f9bfe85c7e"
      },
      "execution_count": null,
      "outputs": [
        {
          "output_type": "stream",
          "name": "stdout",
          "text": [
            "Image of a hand-written number  5\n"
          ]
        },
        {
          "output_type": "display_data",
          "data": {
            "text/plain": [
              "<Figure size 640x480 with 1 Axes>"
            ],
            "image/png": "[encoded data removed]"
          },
          "metadata": {}
        }
      ]
    },
    {
      "cell_type": "code",
      "source": [
        "plt.figure()\n",
        "plt.imshow(train_images[1])\n",
        "print('Image of a hand-written number ', train_labels[1])"
      ],
      "metadata": {
        "colab": {
          "base_uri": "https://localhost:8080/",
          "height": 448
        },
        "id": "YJ_i0KBtskAx",
        "outputId": "c7d2361c-2537-4f8a-b9c8-15fd03ebb694"
      },
      "execution_count": null,
      "outputs": [
        {
          "output_type": "stream",
          "name": "stdout",
          "text": [
            "Image of a hand-written number  0\n"
          ]
        },
        {
          "output_type": "display_data",
          "data": {
            "text/plain": [
              "<Figure size 640x480 with 1 Axes>"
            ],
            "image/png": "[encoded data removed]"
          },
          "metadata": {}
        }
      ]
    },
    {
      "cell_type": "code",
      "source": [
        "for row in train_images[1]:\n",
        "  for pixel in row:\n",
        "    print(pixel, end=' ')\n",
        "  print('\\n')"
      ],
      "metadata": {
        "colab": {
          "base_uri": "https://localhost:8080/"
        },
        "id": "e-TNFZ2psotm",
        "outputId": "3091f21e-3714-4370-ea5a-dd7d46fc97df"
      },
      "execution_count": null,
      "outputs": [
        {
          "output_type": "stream",
          "name": "stdout",
          "text": [
            "0 0 0 0 0 0 0 0 0 0 0 0 0 0 0 0 0 0 0 0 0 0 0 0 0 0 0 0 \n",
            "\n",
            "0 0 0 0 0 0 0 0 0 0 0 0 0 0 0 0 0 0 0 0 0 0 0 0 0 0 0 0 \n",
            "\n",
            "0 0 0 0 0 0 0 0 0 0 0 0 0 0 0 0 0 0 0 0 0 0 0 0 0 0 0 0 \n",
            "\n",
            "0 0 0 0 0 0 0 0 0 0 0 0 0 0 0 0 0 0 0 0 0 0 0 0 0 0 0 0 \n",
            "\n",
            "0 0 0 0 0 0 0 0 0 0 0 0 0 0 0 51 159 253 159 50 0 0 0 0 0 0 0 0 \n",
            "\n",
            "0 0 0 0 0 0 0 0 0 0 0 0 0 0 48 238 252 252 252 237 0 0 0 0 0 0 0 0 \n",
            "\n",
            "0 0 0 0 0 0 0 0 0 0 0 0 0 54 227 253 252 239 233 252 57 6 0 0 0 0 0 0 \n",
            "\n",
            "0 0 0 0 0 0 0 0 0 0 0 10 60 224 252 253 252 202 84 252 253 122 0 0 0 0 0 0 \n",
            "\n",
            "0 0 0 0 0 0 0 0 0 0 0 163 252 252 252 253 252 252 96 189 253 167 0 0 0 0 0 0 \n",
            "\n",
            "0 0 0 0 0 0 0 0 0 0 51 238 253 253 190 114 253 228 47 79 255 168 0 0 0 0 0 0 \n",
            "\n",
            "0 0 0 0 0 0 0 0 0 48 238 252 252 179 12 75 121 21 0 0 253 243 50 0 0 0 0 0 \n",
            "\n",
            "0 0 0 0 0 0 0 0 38 165 253 233 208 84 0 0 0 0 0 0 253 252 165 0 0 0 0 0 \n",
            "\n",
            "0 0 0 0 0 0 0 7 178 252 240 71 19 28 0 0 0 0 0 0 253 252 195 0 0 0 0 0 \n",
            "\n",
            "0 0 0 0 0 0 0 57 252 252 63 0 0 0 0 0 0 0 0 0 253 252 195 0 0 0 0 0 \n",
            "\n",
            "0 0 0 0 0 0 0 198 253 190 0 0 0 0 0 0 0 0 0 0 255 253 196 0 0 0 0 0 \n",
            "\n",
            "0 0 0 0 0 0 76 246 252 112 0 0 0 0 0 0 0 0 0 0 253 252 148 0 0 0 0 0 \n",
            "\n",
            "0 0 0 0 0 0 85 252 230 25 0 0 0 0 0 0 0 0 7 135 253 186 12 0 0 0 0 0 \n",
            "\n",
            "0 0 0 0 0 0 85 252 223 0 0 0 0 0 0 0 0 7 131 252 225 71 0 0 0 0 0 0 \n",
            "\n",
            "0 0 0 0 0 0 85 252 145 0 0 0 0 0 0 0 48 165 252 173 0 0 0 0 0 0 0 0 \n",
            "\n",
            "0 0 0 0 0 0 86 253 225 0 0 0 0 0 0 114 238 253 162 0 0 0 0 0 0 0 0 0 \n",
            "\n",
            "0 0 0 0 0 0 85 252 249 146 48 29 85 178 225 253 223 167 56 0 0 0 0 0 0 0 0 0 \n",
            "\n",
            "0 0 0 0 0 0 85 252 252 252 229 215 252 252 252 196 130 0 0 0 0 0 0 0 0 0 0 0 \n",
            "\n",
            "0 0 0 0 0 0 28 199 252 252 253 252 252 233 145 0 0 0 0 0 0 0 0 0 0 0 0 0 \n",
            "\n",
            "0 0 0 0 0 0 0 25 128 252 253 252 141 37 0 0 0 0 0 0 0 0 0 0 0 0 0 0 \n",
            "\n",
            "0 0 0 0 0 0 0 0 0 0 0 0 0 0 0 0 0 0 0 0 0 0 0 0 0 0 0 0 \n",
            "\n",
            "0 0 0 0 0 0 0 0 0 0 0 0 0 0 0 0 0 0 0 0 0 0 0 0 0 0 0 0 \n",
            "\n",
            "0 0 0 0 0 0 0 0 0 0 0 0 0 0 0 0 0 0 0 0 0 0 0 0 0 0 0 0 \n",
            "\n",
            "0 0 0 0 0 0 0 0 0 0 0 0 0 0 0 0 0 0 0 0 0 0 0 0 0 0 0 0 \n",
            "\n"
          ]
        }
      ]
    },
    {
      "cell_type": "code",
      "execution_count": null,
      "metadata": {
        "id": "FNY74ZM0o2sL",
        "colab": {
          "base_uri": "https://localhost:8080/"
        },
        "outputId": "a4fa8ada-67f3-4ec5-8c9d-7e101732effe"
      },
      "outputs": [
        {
          "output_type": "execute_result",
          "data": {
            "text/plain": [
              "60000"
            ]
          },
          "metadata": {},
          "execution_count": 6
        }
      ],
      "source": [
        "len(train_labels)"
      ]
    },
    {
      "cell_type": "code",
      "execution_count": null,
      "metadata": {
        "id": "1vY7WIB-o2sL",
        "colab": {
          "base_uri": "https://localhost:8080/"
        },
        "outputId": "4554b2a6-fe57-41c4-fa59-3a2207906e3b"
      },
      "outputs": [
        {
          "output_type": "execute_result",
          "data": {
            "text/plain": [
              "array([5, 0, 4, ..., 5, 6, 8], dtype=uint8)"
            ]
          },
          "metadata": {},
          "execution_count": 7
        }
      ],
      "source": [
        "train_labels"
      ]
    },
    {
      "cell_type": "code",
      "execution_count": null,
      "metadata": {
        "id": "kMOGJYKZo2sL",
        "colab": {
          "base_uri": "https://localhost:8080/"
        },
        "outputId": "3d074a9b-1f6b-49f7-ea9f-d7a528c74b48"
      },
      "outputs": [
        {
          "output_type": "execute_result",
          "data": {
            "text/plain": [
              "(10000, 28, 28)"
            ]
          },
          "metadata": {},
          "execution_count": 8
        }
      ],
      "source": [
        "test_images.shape"
      ]
    },
    {
      "cell_type": "code",
      "execution_count": null,
      "metadata": {
        "id": "NqEsJYgno2sL",
        "colab": {
          "base_uri": "https://localhost:8080/"
        },
        "outputId": "5dd5b319-f2fe-45d5-d6c6-9051fd7995b8"
      },
      "outputs": [
        {
          "output_type": "execute_result",
          "data": {
            "text/plain": [
              "10000"
            ]
          },
          "metadata": {},
          "execution_count": 9
        }
      ],
      "source": [
        "len(test_labels)"
      ]
    },
    {
      "cell_type": "code",
      "execution_count": null,
      "metadata": {
        "id": "Xp15GGhlo2sM",
        "colab": {
          "base_uri": "https://localhost:8080/"
        },
        "outputId": "36c53338-3bf7-4a85-8310-a3087c1d270b"
      },
      "outputs": [
        {
          "output_type": "execute_result",
          "data": {
            "text/plain": [
              "array([7, 2, 1, ..., 4, 5, 6], dtype=uint8)"
            ]
          },
          "metadata": {},
          "execution_count": 10
        }
      ],
      "source": [
        "test_labels"
      ]
    },
    {
      "cell_type": "code",
      "source": [
        "plt.figure()\n",
        "plt.imshow(test_images[0])\n",
        "print('Image of a hand-written number ', test_labels[0])"
      ],
      "metadata": {
        "colab": {
          "base_uri": "https://localhost:8080/",
          "height": 448
        },
        "id": "vcLRaWQDzRZ-",
        "outputId": "4baab02f-5d47-4e0d-fe96-565aae7952e7"
      },
      "execution_count": null,
      "outputs": [
        {
          "output_type": "stream",
          "name": "stdout",
          "text": [
            "Image of a hand-written number  7\n"
          ]
        },
        {
          "output_type": "display_data",
          "data": {
            "text/plain": [
              "<Figure size 640x480 with 1 Axes>"
            ],
            "image/png": "[encoded data removed]"
          },
          "metadata": {}
        }
      ]
    },
    {
      "cell_type": "markdown",
      "metadata": {
        "id": "Ma6to-Nlo2sM"
      },
      "source": [
        "**The network architecture**"
      ]
    },
    {
      "cell_type": "code",
      "execution_count": null,
      "metadata": {
        "id": "q24777Sko2sM"
      },
      "outputs": [],
      "source": [
        "from tensorflow import keras\n",
        "from tensorflow.keras import layers\n",
        "model = keras.Sequential([\n",
        "    layers.Dense(512, activation=\"relu\"),\n",
        "    layers.Dense(512, activation=\"relu\"),\n",
        "    layers.Dense(10, activation=\"softmax\")\n",
        "])"
      ]
    },
    {
      "cell_type": "markdown",
      "metadata": {
        "id": "3DuIwwjQo2sN"
      },
      "source": [
        "**The compilation step**"
      ]
    },
    {
      "cell_type": "code",
      "execution_count": null,
      "metadata": {
        "id": "23qUMS1Yo2sN"
      },
      "outputs": [],
      "source": [
        "model.compile(optimizer=\"rmsprop\",\n",
        "              loss=\"sparse_categorical_crossentropy\",\n",
        "              metrics=[\"accuracy\"])"
      ]
    },
    {
      "cell_type": "markdown",
      "metadata": {
        "id": "snf94dvlo2sO"
      },
      "source": [
        "**Preparing the image data**"
      ]
    },
    {
      "cell_type": "code",
      "execution_count": null,
      "metadata": {
        "id": "LIu6XY5Yo2sO"
      },
      "outputs": [],
      "source": [
        "train_images = train_images.reshape((60000, 28 * 28))\n",
        "train_images = train_images.astype(\"float32\") / 255\n",
        "test_images = test_images.reshape((10000, 28 * 28))\n",
        "test_images = test_images.astype(\"float32\") / 255"
      ]
    },
    {
      "cell_type": "markdown",
      "metadata": {
        "id": "aoHu80m5o2sO"
      },
      "source": [
        "**\"Fitting\" the model**"
      ]
    },
    {
      "cell_type": "code",
      "execution_count": null,
      "metadata": {
        "id": "WvQ25He2o2sP",
        "colab": {
          "base_uri": "https://localhost:8080/"
        },
        "outputId": "634492a0-a302-4d7b-b8a2-a1fb207067e1"
      },
      "outputs": [
        {
          "output_type": "stream",
          "name": "stdout",
          "text": [
            "Epoch 1/5\n",
            "469/469 [==============================] - 8s 16ms/step - loss: 0.2288 - accuracy: 0.9306\n",
            "Epoch 2/5\n",
            "469/469 [==============================] - 9s 19ms/step - loss: 0.0851 - accuracy: 0.9741\n",
            "Epoch 3/5\n",
            "469/469 [==============================] - 7s 16ms/step - loss: 0.0544 - accuracy: 0.9827\n",
            "Epoch 4/5\n",
            "469/469 [==============================] - 9s 19ms/step - loss: 0.0385 - accuracy: 0.9874\n",
            "Epoch 5/5\n",
            "469/469 [==============================] - 9s 18ms/step - loss: 0.0274 - accuracy: 0.9912\n",
            "313/313 [==============================] - 2s 4ms/step - loss: 0.0858 - accuracy: 0.9759\n",
            "test_acc: 0.9758999943733215\n"
          ]
        }
      ],
      "source": [
        "model.fit(train_images, train_labels, epochs=5, batch_size=128)\n",
        "test_loss, test_acc = model.evaluate(test_images, test_labels)\n",
        "print(f\"test_acc: {test_acc}\")"
      ]
    },
    {
      "cell_type": "code",
      "source": [],
      "metadata": {
        "id": "DhTDzGL3Nf8J"
      },
      "execution_count": null,
      "outputs": []
    },
    {
      "cell_type": "markdown",
      "source": [
        "# Original Model - Confusion Matrix"
      ],
      "metadata": {
        "id": "mUer4qnELlij"
      }
    },
    {
      "cell_type": "code",
      "source": [
        "import numpy as np\n",
        "from tensorflow import keras\n",
        "from tensorflow.keras import layers\n",
        "from sklearn.metrics import confusion_matrix, ConfusionMatrixDisplay\n",
        "import matplotlib.pyplot as plt\n",
        "\n",
        "# Make predictions on the test data\n",
        "predictions = model.predict(test_images)\n",
        "\n",
        "# Convert the predicted probabilities to class labels\n",
        "predicted_labels = np.argmax(predictions, axis=1)\n",
        "\n",
        "# Generate the confusion matrix\n",
        "cm = confusion_matrix(test_labels, predicted_labels)\n",
        "\n",
        "# Plot the confusion matrix\n",
        "disp = ConfusionMatrixDisplay(confusion_matrix=cm, display_labels=range(10))\n",
        "disp.plot(cmap=plt.cm.Blues)\n",
        "plt.show()"
      ],
      "metadata": {
        "colab": {
          "base_uri": "https://localhost:8080/",
          "height": 467
        },
        "id": "x4LKwWwrLrAK",
        "outputId": "952c14fb-d055-43f1-d477-38c6c8285604"
      },
      "execution_count": null,
      "outputs": [
        {
          "output_type": "stream",
          "name": "stdout",
          "text": [
            "313/313 [==============================] - 3s 7ms/step\n"
          ]
        },
        {
          "output_type": "display_data",
          "data": {
            "text/plain": [
              "<Figure size 640x480 with 2 Axes>"
            ],
            "image/png": "[encoded data removed]"
          },
          "metadata": {}
        }
      ]
    },
    {
      "cell_type": "markdown",
      "source": [
        "# Testing epochs"
      ],
      "metadata": {
        "id": "fCWFwjEsHNxv"
      }
    },
    {
      "cell_type": "markdown",
      "source": [
        "**5 epoch model**"
      ],
      "metadata": {
        "id": "4leflYcYt1kp"
      }
    },
    {
      "cell_type": "code",
      "source": [
        "from tensorflow import keras\n",
        "from tensorflow.keras import layers\n",
        "from tensorflow.keras.datasets import mnist\n",
        "(train_images, train_labels), (test_images, test_labels) = mnist.load_data()\n",
        "\n",
        "model = keras.Sequential([\n",
        "    layers.Dense(512, activation=\"relu\"),\n",
        "    layers.Dense(512, activation=\"relu\"),\n",
        "    layers.Dense(10, activation=\"softmax\")\n",
        "])\n",
        "\n",
        "model.compile(optimizer=\"rmsprop\",\n",
        "              loss=\"sparse_categorical_crossentropy\",\n",
        "              metrics=[\"accuracy\"])\n",
        "\n",
        "train_images = train_images.reshape((60000, 28 * 28))\n",
        "train_images = train_images.astype(\"float32\") / 255\n",
        "test_images = test_images.reshape((10000, 28 * 28))\n",
        "test_images = test_images.astype(\"float32\") / 255\n",
        "\n",
        "model.fit(train_images, train_labels, epochs=5, batch_size=128)\n",
        "test_loss, test_acc = model.evaluate(test_images, test_labels)\n",
        "print(f\"test_acc: {test_acc}\")\n",
        "\n",
        "\n"
      ],
      "metadata": {
        "colab": {
          "base_uri": "https://localhost:8080/"
        },
        "id": "6sKZV6_Ft3Qu",
        "outputId": "33a230d9-2a79-4258-b3a7-bbd5cf33f119"
      },
      "execution_count": null,
      "outputs": [
        {
          "output_type": "stream",
          "name": "stdout",
          "text": [
            "Downloading data from https://storage.googleapis.com/tensorflow/tf-keras-datasets/mnist.npz\n",
            "11490434/11490434 [==============================] - 0s 0us/step\n",
            "Epoch 1/5\n",
            "469/469 [==============================] - 13s 23ms/step - loss: 0.2291 - accuracy: 0.9293\n",
            "Epoch 2/5\n",
            "469/469 [==============================] - 7s 15ms/step - loss: 0.0834 - accuracy: 0.9748\n",
            "Epoch 3/5\n",
            "469/469 [==============================] - 6s 12ms/step - loss: 0.0544 - accuracy: 0.9829\n",
            "Epoch 4/5\n",
            "469/469 [==============================] - 7s 16ms/step - loss: 0.0379 - accuracy: 0.9872\n",
            "Epoch 5/5\n",
            "469/469 [==============================] - 6s 13ms/step - loss: 0.0275 - accuracy: 0.9910\n",
            "313/313 [==============================] - 1s 3ms/step - loss: 0.1067 - accuracy: 0.9718\n",
            "test_acc: 0.9718000292778015\n"
          ]
        }
      ]
    },
    {
      "cell_type": "markdown",
      "source": [
        "**10 epoch model - 98.3% accuracy**"
      ],
      "metadata": {
        "id": "TSBYqd5Gmi0W"
      }
    },
    {
      "cell_type": "code",
      "source": [
        "from tensorflow import keras\n",
        "from tensorflow.keras import layers\n",
        "from tensorflow.keras.datasets import mnist\n",
        "(train_images, train_labels), (test_images, test_labels) = mnist.load_data()\n",
        "\n",
        "model = keras.Sequential([\n",
        "    layers.Dense(512, activation=\"relu\"),\n",
        "    layers.Dense(512, activation=\"relu\"),\n",
        "    layers.Dense(10, activation=\"softmax\")\n",
        "])\n",
        "\n",
        "model.compile(optimizer=\"rmsprop\",\n",
        "              loss=\"sparse_categorical_crossentropy\",\n",
        "              metrics=[\"accuracy\"])\n",
        "\n",
        "train_images = train_images.reshape((60000, 28 * 28))\n",
        "train_images = train_images.astype(\"float32\") / 255\n",
        "test_images = test_images.reshape((10000, 28 * 28))\n",
        "test_images = test_images.astype(\"float32\") / 255\n",
        "\n",
        "model.fit(train_images, train_labels, epochs=10, batch_size=128)\n",
        "test_loss, test_acc = model.evaluate(test_images, test_labels)\n",
        "print(f\"test_acc: {test_acc}\")\n",
        "\n",
        "\n"
      ],
      "metadata": {
        "colab": {
          "base_uri": "https://localhost:8080/"
        },
        "id": "jqJvXpbXhVIf",
        "outputId": "989ed8b9-be80-496c-f6ad-580e6159717b"
      },
      "execution_count": null,
      "outputs": [
        {
          "output_type": "stream",
          "name": "stdout",
          "text": [
            "Epoch 1/10\n",
            "469/469 [==============================] - 15s 28ms/step - loss: 0.2322 - accuracy: 0.9288\n",
            "Epoch 2/10\n",
            "469/469 [==============================] - 11s 24ms/step - loss: 0.0836 - accuracy: 0.9748\n",
            "Epoch 3/10\n",
            "469/469 [==============================] - 11s 23ms/step - loss: 0.0550 - accuracy: 0.9829\n",
            "Epoch 4/10\n",
            "469/469 [==============================] - 6s 13ms/step - loss: 0.0365 - accuracy: 0.9890\n",
            "Epoch 5/10\n",
            "469/469 [==============================] - 7s 15ms/step - loss: 0.0273 - accuracy: 0.9911\n",
            "Epoch 6/10\n",
            "469/469 [==============================] - 6s 13ms/step - loss: 0.0197 - accuracy: 0.9936\n",
            "Epoch 7/10\n",
            "469/469 [==============================] - 9s 18ms/step - loss: 0.0148 - accuracy: 0.9952\n",
            "Epoch 8/10\n",
            "469/469 [==============================] - 6s 13ms/step - loss: 0.0108 - accuracy: 0.9964\n",
            "Epoch 9/10\n",
            "469/469 [==============================] - 9s 19ms/step - loss: 0.0096 - accuracy: 0.9970\n",
            "Epoch 10/10\n",
            "469/469 [==============================] - 6s 13ms/step - loss: 0.0065 - accuracy: 0.9977\n",
            "313/313 [==============================] - 1s 3ms/step - loss: 0.0751 - accuracy: 0.9842\n",
            "test_acc: 0.9842000007629395\n"
          ]
        }
      ]
    },
    {
      "cell_type": "markdown",
      "source": [
        "**15 epoch model**"
      ],
      "metadata": {
        "id": "UcK2USgU4DB2"
      }
    },
    {
      "cell_type": "code",
      "source": [
        "from tensorflow import keras\n",
        "from tensorflow.keras import layers\n",
        "from tensorflow.keras.datasets import mnist\n",
        "(train_images, train_labels), (test_images, test_labels) = mnist.load_data()\n",
        "\n",
        "model = keras.Sequential([\n",
        "    layers.Dense(512, activation=\"relu\"),\n",
        "    layers.Dense(512, activation=\"relu\"),\n",
        "    layers.Dense(10, activation=\"softmax\")\n",
        "])\n",
        "\n",
        "model.compile(optimizer=\"rmsprop\",\n",
        "              loss=\"sparse_categorical_crossentropy\",\n",
        "              metrics=[\"accuracy\"])\n",
        "\n",
        "train_images = train_images.reshape((60000, 28 * 28))\n",
        "train_images = train_images.astype(\"float32\") / 255\n",
        "test_images = test_images.reshape((10000, 28 * 28))\n",
        "test_images = test_images.astype(\"float32\") / 255\n",
        "\n",
        "model.fit(train_images, train_labels, epochs=15, batch_size=128)\n",
        "test_loss, test_acc = model.evaluate(test_images, test_labels)\n",
        "print(f\"test_acc: {test_acc}\")"
      ],
      "metadata": {
        "colab": {
          "base_uri": "https://localhost:8080/"
        },
        "id": "R3a7jpix4Eh9",
        "outputId": "d390e556-9ff6-4e0c-a447-75d052dc1d29"
      },
      "execution_count": null,
      "outputs": [
        {
          "output_type": "stream",
          "name": "stdout",
          "text": [
            "Epoch 1/15\n",
            "469/469 [==============================] - 15s 29ms/step - loss: 0.2318 - accuracy: 0.9284\n",
            "Epoch 2/15\n",
            "469/469 [==============================] - 11s 23ms/step - loss: 0.0841 - accuracy: 0.9738\n",
            "Epoch 3/15\n",
            "469/469 [==============================] - 11s 23ms/step - loss: 0.0537 - accuracy: 0.9829\n",
            "Epoch 4/15\n",
            "469/469 [==============================] - 7s 15ms/step - loss: 0.0385 - accuracy: 0.9877\n",
            "Epoch 5/15\n",
            "469/469 [==============================] - 6s 13ms/step - loss: 0.0278 - accuracy: 0.9910\n",
            "Epoch 6/15\n",
            "469/469 [==============================] - 7s 16ms/step - loss: 0.0195 - accuracy: 0.9938\n",
            "Epoch 7/15\n",
            "469/469 [==============================] - 6s 13ms/step - loss: 0.0147 - accuracy: 0.9948\n",
            "Epoch 8/15\n",
            "469/469 [==============================] - 7s 16ms/step - loss: 0.0118 - accuracy: 0.9962\n",
            "Epoch 9/15\n",
            "469/469 [==============================] - 6s 13ms/step - loss: 0.0093 - accuracy: 0.9971\n",
            "Epoch 10/15\n",
            "469/469 [==============================] - 7s 16ms/step - loss: 0.0065 - accuracy: 0.9980\n",
            "Epoch 11/15\n",
            "469/469 [==============================] - 6s 13ms/step - loss: 0.0059 - accuracy: 0.9981\n",
            "Epoch 12/15\n",
            "469/469 [==============================] - 7s 16ms/step - loss: 0.0041 - accuracy: 0.9987\n",
            "Epoch 13/15\n",
            "469/469 [==============================] - 6s 13ms/step - loss: 0.0035 - accuracy: 0.9989\n",
            "Epoch 14/15\n",
            "469/469 [==============================] - 7s 16ms/step - loss: 0.0015 - accuracy: 0.9996\n",
            "Epoch 15/15\n",
            "469/469 [==============================] - 6s 13ms/step - loss: 0.0012 - accuracy: 0.9997\n",
            "313/313 [==============================] - 1s 3ms/step - loss: 0.0835 - accuracy: 0.9853\n",
            "test_acc: 0.9853000044822693\n"
          ]
        }
      ]
    },
    {
      "cell_type": "markdown",
      "source": [
        "**25 epoch model**"
      ],
      "metadata": {
        "id": "-3xt3lbNQRat"
      }
    },
    {
      "cell_type": "code",
      "source": [
        "from tensorflow import keras\n",
        "from tensorflow.keras import layers\n",
        "from tensorflow.keras.datasets import mnist\n",
        "(train_images, train_labels), (test_images, test_labels) = mnist.load_data()\n",
        "\n",
        "model = keras.Sequential([\n",
        "    layers.Dense(512, activation=\"relu\"),\n",
        "    layers.Dense(512, activation=\"relu\"),\n",
        "    layers.Dense(10, activation=\"softmax\")\n",
        "])\n",
        "\n",
        "model.compile(optimizer=\"rmsprop\",\n",
        "              loss=\"sparse_categorical_crossentropy\",\n",
        "              metrics=[\"accuracy\"])\n",
        "\n",
        "train_images = train_images.reshape((60000, 28 * 28))\n",
        "train_images = train_images.astype(\"float32\") / 255\n",
        "test_images = test_images.reshape((10000, 28 * 28))\n",
        "test_images = test_images.astype(\"float32\") / 255\n",
        "\n",
        "model.fit(train_images, train_labels, epochs=25, batch_size=128)\n",
        "test_loss, test_acc = model.evaluate(test_images, test_labels)\n",
        "print(f\"test_acc: {test_acc}\")"
      ],
      "metadata": {
        "colab": {
          "base_uri": "https://localhost:8080/"
        },
        "id": "O6eO-PwGQbD3",
        "outputId": "9e3058b7-ab9e-4bac-e614-00316df274f5"
      },
      "execution_count": null,
      "outputs": [
        {
          "output_type": "stream",
          "name": "stdout",
          "text": [
            "Epoch 1/25\n",
            "469/469 [==============================] - 14s 29ms/step - loss: 0.2283 - accuracy: 0.9291\n",
            "Epoch 2/25\n",
            "469/469 [==============================] - 12s 25ms/step - loss: 0.0829 - accuracy: 0.9742\n",
            "Epoch 3/25\n",
            "469/469 [==============================] - 12s 25ms/step - loss: 0.0539 - accuracy: 0.9829\n",
            "Epoch 4/25\n",
            "469/469 [==============================] - 9s 18ms/step - loss: 0.0372 - accuracy: 0.9890\n",
            "Epoch 5/25\n",
            "469/469 [==============================] - 8s 17ms/step - loss: 0.0266 - accuracy: 0.9918\n",
            "Epoch 6/25\n",
            "469/469 [==============================] - 7s 15ms/step - loss: 0.0201 - accuracy: 0.9934\n",
            "Epoch 7/25\n",
            "469/469 [==============================] - 8s 16ms/step - loss: 0.0174 - accuracy: 0.9943\n",
            "Epoch 8/25\n",
            "469/469 [==============================] - 8s 16ms/step - loss: 0.0127 - accuracy: 0.9961\n",
            "Epoch 9/25\n",
            "469/469 [==============================] - 7s 16ms/step - loss: 0.0084 - accuracy: 0.9973\n",
            "Epoch 10/25\n",
            "469/469 [==============================] - 6s 13ms/step - loss: 0.0065 - accuracy: 0.9977\n",
            "Epoch 11/25\n",
            "469/469 [==============================] - 8s 16ms/step - loss: 0.0060 - accuracy: 0.9980\n",
            "Epoch 12/25\n",
            "469/469 [==============================] - 7s 14ms/step - loss: 0.0035 - accuracy: 0.9987\n",
            "Epoch 13/25\n",
            "469/469 [==============================] - 8s 16ms/step - loss: 0.0037 - accuracy: 0.9988\n",
            "Epoch 14/25\n",
            "469/469 [==============================] - 7s 15ms/step - loss: 0.0026 - accuracy: 0.9992\n",
            "Epoch 15/25\n",
            "469/469 [==============================] - 7s 15ms/step - loss: 0.0013 - accuracy: 0.9997\n",
            "Epoch 16/25\n",
            "469/469 [==============================] - 7s 16ms/step - loss: 9.6778e-04 - accuracy: 0.9997\n",
            "Epoch 17/25\n",
            "469/469 [==============================] - 7s 16ms/step - loss: 0.0011 - accuracy: 0.9996\n",
            "Epoch 18/25\n",
            "469/469 [==============================] - 8s 16ms/step - loss: 4.9867e-04 - accuracy: 0.9999\n",
            "Epoch 19/25\n",
            "469/469 [==============================] - 6s 13ms/step - loss: 2.4652e-05 - accuracy: 1.0000\n",
            "Epoch 20/25\n",
            "469/469 [==============================] - 8s 16ms/step - loss: 1.4578e-05 - accuracy: 1.0000\n",
            "Epoch 21/25\n",
            "469/469 [==============================] - 6s 14ms/step - loss: 1.1001e-05 - accuracy: 1.0000\n",
            "Epoch 22/25\n",
            "469/469 [==============================] - 8s 16ms/step - loss: 9.6118e-06 - accuracy: 1.0000\n",
            "Epoch 23/25\n",
            "469/469 [==============================] - 6s 14ms/step - loss: 8.6455e-06 - accuracy: 1.0000\n",
            "Epoch 24/25\n",
            "469/469 [==============================] - 8s 16ms/step - loss: 7.9172e-06 - accuracy: 1.0000\n",
            "Epoch 25/25\n",
            "469/469 [==============================] - 6s 14ms/step - loss: 7.3271e-06 - accuracy: 1.0000\n",
            "313/313 [==============================] - 1s 3ms/step - loss: 0.0792 - accuracy: 0.9864\n",
            "test_acc: 0.9864000082015991\n"
          ]
        }
      ]
    },
    {
      "cell_type": "markdown",
      "source": [
        "**30 epochs**"
      ],
      "metadata": {
        "id": "4aehIAQFS_Cu"
      }
    },
    {
      "cell_type": "code",
      "source": [
        "from tensorflow import keras\n",
        "from tensorflow.keras import layers\n",
        "from tensorflow.keras.datasets import mnist\n",
        "(train_images, train_labels), (test_images, test_labels) = mnist.load_data()\n",
        "\n",
        "model = keras.Sequential([\n",
        "    layers.Dense(512, activation=\"relu\"),\n",
        "    layers.Dense(512, activation=\"relu\"),\n",
        "    layers.Dense(10, activation=\"softmax\")\n",
        "])\n",
        "\n",
        "model.compile(optimizer=\"rmsprop\",\n",
        "              loss=\"sparse_categorical_crossentropy\",\n",
        "              metrics=[\"accuracy\"])\n",
        "\n",
        "train_images = train_images.reshape((60000, 28 * 28))\n",
        "train_images = train_images.astype(\"float32\") / 255\n",
        "test_images = test_images.reshape((10000, 28 * 28))\n",
        "test_images = test_images.astype(\"float32\") / 255\n",
        "\n",
        "model.fit(train_images, train_labels, epochs=30, batch_size=128)\n",
        "test_loss, test_acc = model.evaluate(test_images, test_labels)\n",
        "print(f\"test_acc: {test_acc}\")"
      ],
      "metadata": {
        "colab": {
          "base_uri": "https://localhost:8080/"
        },
        "id": "WbT2Y7nvS8vm",
        "outputId": "b865191b-84c4-4455-d106-29d8c8cca701"
      },
      "execution_count": null,
      "outputs": [
        {
          "output_type": "stream",
          "name": "stdout",
          "text": [
            "Epoch 1/30\n",
            "469/469 [==============================] - 15s 29ms/step - loss: 0.2287 - accuracy: 0.9298\n",
            "Epoch 2/30\n",
            "469/469 [==============================] - 11s 24ms/step - loss: 0.0828 - accuracy: 0.9740\n",
            "Epoch 3/30\n",
            "469/469 [==============================] - 13s 27ms/step - loss: 0.0538 - accuracy: 0.9831\n",
            "Epoch 4/30\n",
            "469/469 [==============================] - 8s 17ms/step - loss: 0.0375 - accuracy: 0.9878\n",
            "Epoch 5/30\n",
            "469/469 [==============================] - 8s 18ms/step - loss: 0.0265 - accuracy: 0.9916\n",
            "Epoch 6/30\n",
            "469/469 [==============================] - 7s 14ms/step - loss: 0.0206 - accuracy: 0.9934\n",
            "Epoch 7/30\n",
            "469/469 [==============================] - 9s 20ms/step - loss: 0.0148 - accuracy: 0.9954\n",
            "Epoch 8/30\n",
            "469/469 [==============================] - 7s 14ms/step - loss: 0.0120 - accuracy: 0.9960\n",
            "Epoch 9/30\n",
            "469/469 [==============================] - 8s 17ms/step - loss: 0.0091 - accuracy: 0.9971\n",
            "Epoch 10/30\n",
            "469/469 [==============================] - 7s 14ms/step - loss: 0.0069 - accuracy: 0.9977\n",
            "Epoch 11/30\n",
            "469/469 [==============================] - 8s 17ms/step - loss: 0.0052 - accuracy: 0.9984\n",
            "Epoch 12/30\n",
            "469/469 [==============================] - 6s 14ms/step - loss: 0.0047 - accuracy: 0.9984\n",
            "Epoch 13/30\n",
            "469/469 [==============================] - 8s 17ms/step - loss: 0.0022 - accuracy: 0.9994\n",
            "Epoch 14/30\n",
            "469/469 [==============================] - 6s 14ms/step - loss: 0.0023 - accuracy: 0.9993\n",
            "Epoch 15/30\n",
            "469/469 [==============================] - 8s 17ms/step - loss: 0.0013 - accuracy: 0.9996\n",
            "Epoch 16/30\n",
            "469/469 [==============================] - 7s 14ms/step - loss: 3.9549e-04 - accuracy: 0.9999\n",
            "Epoch 17/30\n",
            "469/469 [==============================] - 8s 18ms/step - loss: 4.0784e-04 - accuracy: 0.9998\n",
            "Epoch 18/30\n",
            "469/469 [==============================] - 7s 15ms/step - loss: 7.2340e-05 - accuracy: 1.0000\n",
            "Epoch 19/30\n",
            "469/469 [==============================] - 8s 18ms/step - loss: 2.3194e-05 - accuracy: 1.0000\n",
            "Epoch 20/30\n",
            "469/469 [==============================] - 8s 17ms/step - loss: 1.3548e-05 - accuracy: 1.0000\n",
            "Epoch 21/30\n",
            "469/469 [==============================] - 6s 14ms/step - loss: 1.0805e-05 - accuracy: 1.0000\n",
            "Epoch 22/30\n",
            "469/469 [==============================] - 8s 17ms/step - loss: 9.4733e-06 - accuracy: 1.0000\n",
            "Epoch 23/30\n",
            "469/469 [==============================] - 6s 14ms/step - loss: 8.6057e-06 - accuracy: 1.0000\n",
            "Epoch 24/30\n",
            "469/469 [==============================] - 8s 17ms/step - loss: 7.9475e-06 - accuracy: 1.0000\n",
            "Epoch 25/30\n",
            "469/469 [==============================] - 6s 14ms/step - loss: 7.4193e-06 - accuracy: 1.0000\n",
            "Epoch 26/30\n",
            "469/469 [==============================] - 8s 17ms/step - loss: 6.9620e-06 - accuracy: 1.0000\n",
            "Epoch 27/30\n",
            "469/469 [==============================] - 7s 15ms/step - loss: 6.5679e-06 - accuracy: 1.0000\n",
            "Epoch 28/30\n",
            "469/469 [==============================] - 8s 18ms/step - loss: 6.2297e-06 - accuracy: 1.0000\n",
            "Epoch 29/30\n",
            "469/469 [==============================] - 7s 14ms/step - loss: 5.9314e-06 - accuracy: 1.0000\n",
            "Epoch 30/30\n",
            "469/469 [==============================] - 7s 16ms/step - loss: 5.6609e-06 - accuracy: 1.0000\n",
            "313/313 [==============================] - 1s 3ms/step - loss: 0.0859 - accuracy: 0.9857\n",
            "test_acc: 0.9857000112533569\n"
          ]
        }
      ]
    },
    {
      "cell_type": "markdown",
      "source": [
        "# Testing Number of Layers"
      ],
      "metadata": {
        "id": "9CTeWr3DxKe_"
      }
    },
    {
      "cell_type": "markdown",
      "source": [
        "**3 layers**"
      ],
      "metadata": {
        "id": "nbmPeua9yFNV"
      }
    },
    {
      "cell_type": "code",
      "source": [
        "from tensorflow import keras\n",
        "from tensorflow.keras import layers\n",
        "from tensorflow.keras.datasets import mnist\n",
        "(train_images, train_labels), (test_images, test_labels) = mnist.load_data()\n",
        "\n",
        "model = keras.Sequential([\n",
        "    layers.Dense(512, activation=\"relu\"),\n",
        "    layers.Dense(512, activation=\"relu\"),\n",
        "    layers.Dense(512, activation=\"relu\"),\n",
        "    layers.Dense(10, activation=\"softmax\")\n",
        "])\n",
        "\n",
        "model.compile(optimizer=\"rmsprop\",\n",
        "              loss=\"sparse_categorical_crossentropy\",\n",
        "              metrics=[\"accuracy\"])\n",
        "\n",
        "train_images = train_images.reshape((60000, 28 * 28))\n",
        "train_images = train_images.astype(\"float32\") / 255\n",
        "test_images = test_images.reshape((10000, 28 * 28))\n",
        "test_images = test_images.astype(\"float32\") / 255\n",
        "\n",
        "model.fit(train_images, train_labels, epochs=10, batch_size=128)\n",
        "test_loss, test_acc = model.evaluate(test_images, test_labels)\n",
        "print(f\"test_acc: {test_acc}\")\n",
        "\n",
        "\n"
      ],
      "metadata": {
        "colab": {
          "base_uri": "https://localhost:8080/"
        },
        "id": "vNn10ubjxMaD",
        "outputId": "b261b659-a4c4-4a67-d431-7613d38cc65f"
      },
      "execution_count": null,
      "outputs": [
        {
          "output_type": "stream",
          "name": "stdout",
          "text": [
            "Epoch 1/10\n",
            "469/469 [==============================] - 20s 41ms/step - loss: 0.2399 - accuracy: 0.9251\n",
            "Epoch 2/10\n",
            "469/469 [==============================] - 16s 34ms/step - loss: 0.0866 - accuracy: 0.9732\n",
            "Epoch 3/10\n",
            "469/469 [==============================] - 9s 20ms/step - loss: 0.0567 - accuracy: 0.9831\n",
            "Epoch 4/10\n",
            "469/469 [==============================] - 10s 21ms/step - loss: 0.0407 - accuracy: 0.9876\n",
            "Epoch 5/10\n",
            "469/469 [==============================] - 9s 19ms/step - loss: 0.0317 - accuracy: 0.9900\n",
            "Epoch 6/10\n",
            "469/469 [==============================] - 9s 19ms/step - loss: 0.0239 - accuracy: 0.9920\n",
            "Epoch 7/10\n",
            "469/469 [==============================] - 10s 21ms/step - loss: 0.0184 - accuracy: 0.9941\n",
            "Epoch 8/10\n",
            "469/469 [==============================] - 10s 21ms/step - loss: 0.0150 - accuracy: 0.9952\n",
            "Epoch 9/10\n",
            "469/469 [==============================] - 8s 18ms/step - loss: 0.0125 - accuracy: 0.9962\n",
            "Epoch 10/10\n",
            "469/469 [==============================] - 10s 21ms/step - loss: 0.0110 - accuracy: 0.9965\n",
            "313/313 [==============================] - 1s 3ms/step - loss: 0.1102 - accuracy: 0.9799\n",
            "test_acc: 0.9799000024795532\n"
          ]
        }
      ]
    },
    {
      "cell_type": "markdown",
      "source": [
        "**4 layers**"
      ],
      "metadata": {
        "id": "0UaWGWMcyJpT"
      }
    },
    {
      "cell_type": "code",
      "source": [
        "from tensorflow import keras\n",
        "from tensorflow.keras import layers\n",
        "from tensorflow.keras.datasets import mnist\n",
        "(train_images, train_labels), (test_images, test_labels) = mnist.load_data()\n",
        "\n",
        "model = keras.Sequential([\n",
        "    layers.Dense(512, activation=\"relu\"),\n",
        "    layers.Dense(512, activation=\"relu\"),\n",
        "    layers.Dense(512, activation=\"relu\"),\n",
        "    layers.Dense(512, activation=\"relu\"),\n",
        "    layers.Dense(10, activation=\"softmax\")\n",
        "])\n",
        "\n",
        "model.compile(optimizer=\"rmsprop\",\n",
        "              loss=\"sparse_categorical_crossentropy\",\n",
        "              metrics=[\"accuracy\"])\n",
        "\n",
        "train_images = train_images.reshape((60000, 28 * 28))\n",
        "train_images = train_images.astype(\"float32\") / 255\n",
        "test_images = test_images.reshape((10000, 28 * 28))\n",
        "test_images = test_images.astype(\"float32\") / 255\n",
        "\n",
        "model.fit(train_images, train_labels, epochs=10, batch_size=128)\n",
        "test_loss, test_acc = model.evaluate(test_images, test_labels)\n",
        "print(f\"test_acc: {test_acc}\")\n",
        "\n",
        "\n"
      ],
      "metadata": {
        "colab": {
          "base_uri": "https://localhost:8080/"
        },
        "id": "xlv2PeYtyLSU",
        "outputId": "f24aca5e-5899-41e5-c763-4b994d97d574"
      },
      "execution_count": null,
      "outputs": [
        {
          "output_type": "stream",
          "name": "stdout",
          "text": [
            "Epoch 1/10\n",
            "469/469 [==============================] - 24s 47ms/step - loss: 0.2719 - accuracy: 0.9150\n",
            "Epoch 2/10\n",
            "469/469 [==============================] - 12s 25ms/step - loss: 0.0957 - accuracy: 0.9718\n",
            "Epoch 3/10\n",
            "469/469 [==============================] - 12s 25ms/step - loss: 0.0633 - accuracy: 0.9813\n",
            "Epoch 4/10\n",
            "469/469 [==============================] - 12s 25ms/step - loss: 0.0479 - accuracy: 0.9855\n",
            "Epoch 5/10\n",
            "469/469 [==============================] - 11s 24ms/step - loss: 0.0359 - accuracy: 0.9888\n",
            "Epoch 6/10\n",
            "469/469 [==============================] - 12s 26ms/step - loss: 0.0284 - accuracy: 0.9914\n",
            "Epoch 7/10\n",
            "469/469 [==============================] - 12s 26ms/step - loss: 0.0240 - accuracy: 0.9925\n",
            "Epoch 8/10\n",
            "469/469 [==============================] - 13s 28ms/step - loss: 0.0175 - accuracy: 0.9947\n",
            "Epoch 9/10\n",
            "469/469 [==============================] - 12s 26ms/step - loss: 0.0150 - accuracy: 0.9955\n",
            "Epoch 10/10\n",
            "469/469 [==============================] - 13s 27ms/step - loss: 0.0161 - accuracy: 0.9952\n",
            "313/313 [==============================] - 1s 4ms/step - loss: 0.0754 - accuracy: 0.9833\n",
            "test_acc: 0.983299970626831\n"
          ]
        }
      ]
    },
    {
      "cell_type": "markdown",
      "source": [
        "**5 layers**"
      ],
      "metadata": {
        "id": "mHd7IzPwzyU8"
      }
    },
    {
      "cell_type": "code",
      "source": [
        "from tensorflow import keras\n",
        "from tensorflow.keras import layers\n",
        "from tensorflow.keras.datasets import mnist\n",
        "(train_images, train_labels), (test_images, test_labels) = mnist.load_data()\n",
        "\n",
        "model = keras.Sequential([\n",
        "    layers.Dense(512, activation=\"relu\"),\n",
        "    layers.Dense(512, activation=\"relu\"),\n",
        "    layers.Dense(512, activation=\"relu\"),\n",
        "    layers.Dense(512, activation=\"relu\"),\n",
        "    layers.Dense(512, activation=\"relu\"),\n",
        "    layers.Dense(10, activation=\"softmax\")\n",
        "])\n",
        "\n",
        "model.compile(optimizer=\"rmsprop\",\n",
        "              loss=\"sparse_categorical_crossentropy\",\n",
        "              metrics=[\"accuracy\"])\n",
        "\n",
        "train_images = train_images.reshape((60000, 28 * 28))\n",
        "train_images = train_images.astype(\"float32\") / 255\n",
        "test_images = test_images.reshape((10000, 28 * 28))\n",
        "test_images = test_images.astype(\"float32\") / 255\n",
        "\n",
        "model.fit(train_images, train_labels, epochs=10, batch_size=128)\n",
        "test_loss, test_acc = model.evaluate(test_images, test_labels)\n",
        "print(f\"test_acc: {test_acc}\")\n",
        "\n",
        "\n"
      ],
      "metadata": {
        "colab": {
          "base_uri": "https://localhost:8080/"
        },
        "id": "oT_7stCCzz2U",
        "outputId": "76b01556-3704-40ab-a759-05b109fa849d"
      },
      "execution_count": null,
      "outputs": [
        {
          "output_type": "stream",
          "name": "stdout",
          "text": [
            "Epoch 1/10\n",
            "469/469 [==============================] - 29s 56ms/step - loss: 0.3159 - accuracy: 0.9031\n",
            "Epoch 2/10\n",
            "469/469 [==============================] - 19s 41ms/step - loss: 0.1064 - accuracy: 0.9693\n",
            "Epoch 3/10\n",
            "469/469 [==============================] - 15s 32ms/step - loss: 0.0699 - accuracy: 0.9800\n",
            "Epoch 4/10\n",
            "469/469 [==============================] - 15s 31ms/step - loss: 0.0504 - accuracy: 0.9847\n",
            "Epoch 5/10\n",
            "469/469 [==============================] - 15s 31ms/step - loss: 0.0379 - accuracy: 0.9887\n",
            "Epoch 6/10\n",
            "469/469 [==============================] - 15s 31ms/step - loss: 0.0295 - accuracy: 0.9912\n",
            "Epoch 7/10\n",
            "469/469 [==============================] - 15s 31ms/step - loss: 0.0243 - accuracy: 0.9930\n",
            "Epoch 8/10\n",
            "469/469 [==============================] - 17s 36ms/step - loss: 0.0193 - accuracy: 0.9940\n",
            "Epoch 9/10\n",
            "469/469 [==============================] - 15s 31ms/step - loss: 0.0163 - accuracy: 0.9954\n",
            "Epoch 10/10\n",
            "469/469 [==============================] - 15s 32ms/step - loss: 0.0132 - accuracy: 0.9961\n",
            "313/313 [==============================] - 1s 4ms/step - loss: 0.1007 - accuracy: 0.9810\n",
            "test_acc: 0.9810000061988831\n"
          ]
        }
      ]
    },
    {
      "cell_type": "markdown",
      "source": [
        "**6 layers**"
      ],
      "metadata": {
        "id": "nLgjikMs0wsz"
      }
    },
    {
      "cell_type": "code",
      "source": [
        "from tensorflow import keras\n",
        "from tensorflow.keras import layers\n",
        "from tensorflow.keras.datasets import mnist\n",
        "(train_images, train_labels), (test_images, test_labels) = mnist.load_data()\n",
        "\n",
        "model = keras.Sequential([\n",
        "    layers.Dense(512, activation=\"relu\"),\n",
        "    layers.Dense(512, activation=\"relu\"),\n",
        "    layers.Dense(512, activation=\"relu\"),\n",
        "    layers.Dense(512, activation=\"relu\"),\n",
        "    layers.Dense(512, activation=\"relu\"),\n",
        "    layers.Dense(512, activation=\"relu\"),\n",
        "    layers.Dense(10, activation=\"softmax\")\n",
        "])\n",
        "\n",
        "model.compile(optimizer=\"rmsprop\",\n",
        "              loss=\"sparse_categorical_crossentropy\",\n",
        "              metrics=[\"accuracy\"])\n",
        "\n",
        "train_images = train_images.reshape((60000, 28 * 28))\n",
        "train_images = train_images.astype(\"float32\") / 255\n",
        "test_images = test_images.reshape((10000, 28 * 28))\n",
        "test_images = test_images.astype(\"float32\") / 255\n",
        "\n",
        "model.fit(train_images, train_labels, epochs=10, batch_size=128)\n",
        "test_loss, test_acc = model.evaluate(test_images, test_labels)\n",
        "print(f\"test_acc: {test_acc}\")\n",
        "\n",
        "\n"
      ],
      "metadata": {
        "colab": {
          "base_uri": "https://localhost:8080/"
        },
        "id": "8cv3t-bt0x8E",
        "outputId": "8cdc0544-15e0-439f-cd20-0d7695734ce3"
      },
      "execution_count": null,
      "outputs": [
        {
          "output_type": "stream",
          "name": "stdout",
          "text": [
            "Epoch 1/10\n",
            "469/469 [==============================] - 34s 67ms/step - loss: 0.3573 - accuracy: 0.8906\n",
            "Epoch 2/10\n",
            "469/469 [==============================] - 17s 36ms/step - loss: 0.1145 - accuracy: 0.9679\n",
            "Epoch 3/10\n",
            "469/469 [==============================] - 18s 39ms/step - loss: 0.0782 - accuracy: 0.9779\n",
            "Epoch 4/10\n",
            "469/469 [==============================] - 17s 36ms/step - loss: 0.0552 - accuracy: 0.9843\n",
            "Epoch 5/10\n",
            "469/469 [==============================] - 18s 39ms/step - loss: 0.0430 - accuracy: 0.9874\n",
            "Epoch 6/10\n",
            "469/469 [==============================] - 18s 38ms/step - loss: 0.0330 - accuracy: 0.9907\n",
            "Epoch 7/10\n",
            "469/469 [==============================] - 18s 38ms/step - loss: 0.0280 - accuracy: 0.9923\n",
            "Epoch 8/10\n",
            "469/469 [==============================] - 17s 36ms/step - loss: 0.0232 - accuracy: 0.9935\n",
            "Epoch 9/10\n",
            "469/469 [==============================] - 19s 41ms/step - loss: 0.0198 - accuracy: 0.9945\n",
            "Epoch 10/10\n",
            "469/469 [==============================] - 18s 39ms/step - loss: 0.0162 - accuracy: 0.9952\n",
            "313/313 [==============================] - 2s 5ms/step - loss: 0.1036 - accuracy: 0.9812\n",
            "test_acc: 0.9811999797821045\n"
          ]
        }
      ]
    },
    {
      "cell_type": "markdown",
      "source": [
        "**7 layers**"
      ],
      "metadata": {
        "id": "rnZMwiEx1yzV"
      }
    },
    {
      "cell_type": "code",
      "source": [
        "from tensorflow import keras\n",
        "from tensorflow.keras import layers\n",
        "from tensorflow.keras.datasets import mnist\n",
        "(train_images, train_labels), (test_images, test_labels) = mnist.load_data()\n",
        "\n",
        "model = keras.Sequential([\n",
        "    layers.Dense(512, activation=\"relu\"),\n",
        "    layers.Dense(512, activation=\"relu\"),\n",
        "    layers.Dense(512, activation=\"relu\"),\n",
        "    layers.Dense(512, activation=\"relu\"),\n",
        "    layers.Dense(512, activation=\"relu\"),\n",
        "    layers.Dense(512, activation=\"relu\"),\n",
        "    layers.Dense(512, activation=\"relu\"),\n",
        "    layers.Dense(10, activation=\"softmax\")\n",
        "])\n",
        "\n",
        "model.compile(optimizer=\"rmsprop\",\n",
        "              loss=\"sparse_categorical_crossentropy\",\n",
        "              metrics=[\"accuracy\"])\n",
        "\n",
        "train_images = train_images.reshape((60000, 28 * 28))\n",
        "train_images = train_images.astype(\"float32\") / 255\n",
        "test_images = test_images.reshape((10000, 28 * 28))\n",
        "test_images = test_images.astype(\"float32\") / 255\n",
        "\n",
        "model.fit(train_images, train_labels, epochs=10, batch_size=128)\n",
        "test_loss, test_acc = model.evaluate(test_images, test_labels)\n",
        "print(f\"test_acc: {test_acc}\")\n",
        "\n",
        "\n"
      ],
      "metadata": {
        "colab": {
          "base_uri": "https://localhost:8080/"
        },
        "id": "aOxCTK_A10KU",
        "outputId": "41f88247-029b-4a7a-fd37-84c395571e34"
      },
      "execution_count": null,
      "outputs": [
        {
          "output_type": "stream",
          "name": "stdout",
          "text": [
            "Epoch 1/10\n",
            "469/469 [==============================] - 21s 42ms/step - loss: 0.4008 - accuracy: 0.8803\n",
            "Epoch 2/10\n",
            "469/469 [==============================] - 20s 43ms/step - loss: 0.1272 - accuracy: 0.9659\n",
            "Epoch 3/10\n",
            "469/469 [==============================] - 20s 44ms/step - loss: 0.0836 - accuracy: 0.9768\n",
            "Epoch 4/10\n",
            "469/469 [==============================] - 20s 43ms/step - loss: 0.0605 - accuracy: 0.9831\n",
            "Epoch 5/10\n",
            "469/469 [==============================] - 19s 40ms/step - loss: 0.0487 - accuracy: 0.9869\n",
            "Epoch 6/10\n",
            "469/469 [==============================] - 20s 43ms/step - loss: 0.0371 - accuracy: 0.9897\n",
            "Epoch 7/10\n",
            "469/469 [==============================] - 20s 44ms/step - loss: 0.0311 - accuracy: 0.9917\n",
            "Epoch 8/10\n",
            "469/469 [==============================] - 20s 43ms/step - loss: 0.0249 - accuracy: 0.9929\n",
            "Epoch 9/10\n",
            "469/469 [==============================] - 19s 40ms/step - loss: 0.0221 - accuracy: 0.9940\n",
            "Epoch 10/10\n",
            "469/469 [==============================] - 20s 43ms/step - loss: 0.0186 - accuracy: 0.9952\n",
            "313/313 [==============================] - 2s 5ms/step - loss: 0.0923 - accuracy: 0.9822\n",
            "test_acc: 0.982200026512146\n"
          ]
        }
      ]
    },
    {
      "cell_type": "markdown",
      "source": [
        "# Expiramenting with Layers (Relu, tanh, sigmoid)"
      ],
      "metadata": {
        "id": "rpUpcFLMHQ64"
      }
    },
    {
      "cell_type": "markdown",
      "source": [
        "**3 relu layers + 10 epochs**"
      ],
      "metadata": {
        "id": "_khOAi2Hnbj2"
      }
    },
    {
      "cell_type": "code",
      "source": [
        "from tensorflow import keras\n",
        "from tensorflow.keras import layers\n",
        "tenEpochThreeLayerModel = keras.Sequential([\n",
        "    layers.Dense(512, activation=\"relu\"),\n",
        "    layers.Dense(512, activation=\"relu\"),\n",
        "    layers.Dense(512, activation=\"relu\"),\n",
        "    layers.Dense(10, activation=\"softmax\")\n",
        "])\n",
        "\n",
        "tenEpochThreeLayerModel.compile(optimizer=\"rmsprop\",\n",
        "              loss=\"sparse_categorical_crossentropy\",\n",
        "              metrics=[\"accuracy\"])\n",
        "\n",
        "train_images = train_images.reshape((60000, 28 * 28))\n",
        "train_images = train_images.astype(\"float32\") / 255\n",
        "test_images = test_images.reshape((10000, 28 * 28))\n",
        "test_images = test_images.astype(\"float32\") / 255\n",
        "\n",
        "tenEpochThreeLayerModel.fit(train_images, train_labels, epochs=10, batch_size=128)\n",
        "test_loss, test_acc = tenEpochThreeLayerModel.evaluate(test_images, test_labels)\n",
        "print(f\"test_acc: {test_acc}\")\n",
        "\n",
        "\n"
      ],
      "metadata": {
        "colab": {
          "base_uri": "https://localhost:8080/"
        },
        "id": "CH9X1fVGmtgm",
        "outputId": "0d4786b0-df69-4432-c9e1-35ecec1d9d75"
      },
      "execution_count": null,
      "outputs": [
        {
          "output_type": "stream",
          "name": "stdout",
          "text": [
            "Epoch 1/10\n",
            "469/469 [==============================] - 12s 23ms/step - loss: 2.3017 - accuracy: 0.1122\n",
            "Epoch 2/10\n",
            "469/469 [==============================] - 11s 24ms/step - loss: 2.3015 - accuracy: 0.1124\n",
            "Epoch 3/10\n",
            "469/469 [==============================] - 12s 25ms/step - loss: 2.3014 - accuracy: 0.1124\n",
            "Epoch 4/10\n",
            "469/469 [==============================] - 12s 25ms/step - loss: 2.3014 - accuracy: 0.1124\n",
            "Epoch 5/10\n",
            "469/469 [==============================] - 12s 25ms/step - loss: 2.3014 - accuracy: 0.1124\n",
            "Epoch 6/10\n",
            "469/469 [==============================] - 11s 24ms/step - loss: 2.3014 - accuracy: 0.1124\n",
            "Epoch 7/10\n",
            "469/469 [==============================] - 11s 23ms/step - loss: 2.3013 - accuracy: 0.1124\n",
            "Epoch 8/10\n",
            "469/469 [==============================] - 12s 25ms/step - loss: 2.3013 - accuracy: 0.1124\n",
            "Epoch 9/10\n",
            "469/469 [==============================] - 12s 26ms/step - loss: 2.3013 - accuracy: 0.1124\n",
            "Epoch 10/10\n",
            "469/469 [==============================] - 13s 27ms/step - loss: 2.3013 - accuracy: 0.1124\n",
            "313/313 [==============================] - 2s 4ms/step - loss: 2.3012 - accuracy: 0.1135\n",
            "test_acc: 0.11349999904632568\n"
          ]
        }
      ]
    },
    {
      "cell_type": "markdown",
      "source": [
        "**2 relu + 1 tanh + 10 epochs**"
      ],
      "metadata": {
        "id": "RVWkV7Umn4lD"
      }
    },
    {
      "cell_type": "code",
      "source": [
        "from tensorflow import keras\n",
        "from tensorflow.keras import layers\n",
        "tenEpochThreeLayerModel = keras.Sequential([\n",
        "    layers.Dense(512, activation=\"relu\"),\n",
        "    layers.Dense(512, activation=\"relu\"),\n",
        "    layers.Dense(512, activation=\"tanh\"),\n",
        "    layers.Dense(10, activation=\"softmax\")\n",
        "])\n",
        "\n",
        "tenEpochThreeLayerModel.compile(optimizer=\"rmsprop\",\n",
        "              loss=\"sparse_categorical_crossentropy\",\n",
        "              metrics=[\"accuracy\"])\n",
        "\n",
        "train_images = train_images.reshape((60000, 28 * 28))\n",
        "train_images = train_images.astype(\"float32\") / 255\n",
        "test_images = test_images.reshape((10000, 28 * 28))\n",
        "test_images = test_images.astype(\"float32\") / 255\n",
        "\n",
        "tenEpochThreeLayerModel.fit(train_images, train_labels, epochs=10, batch_size=128)\n",
        "test_loss, test_acc = tenEpochThreeLayerModel.evaluate(test_images, test_labels)\n",
        "print(f\"test_acc: {test_acc}\")\n"
      ],
      "metadata": {
        "colab": {
          "base_uri": "https://localhost:8080/"
        },
        "id": "M4NuWitoniZp",
        "outputId": "2c6c8355-730a-4709-c699-fd22f43b101b"
      },
      "execution_count": null,
      "outputs": [
        {
          "output_type": "stream",
          "name": "stdout",
          "text": [
            "Epoch 1/10\n",
            "469/469 [==============================] - 17s 34ms/step - loss: 0.2334 - accuracy: 0.9280\n",
            "Epoch 2/10\n",
            "469/469 [==============================] - 14s 30ms/step - loss: 0.0845 - accuracy: 0.9733\n",
            "Epoch 3/10\n",
            "469/469 [==============================] - 11s 25ms/step - loss: 0.0555 - accuracy: 0.9829\n",
            "Epoch 4/10\n",
            "469/469 [==============================] - 17s 35ms/step - loss: 0.0399 - accuracy: 0.9874\n",
            "Epoch 5/10\n",
            "469/469 [==============================] - 12s 25ms/step - loss: 0.0281 - accuracy: 0.9908\n",
            "Epoch 6/10\n",
            "469/469 [==============================] - 13s 27ms/step - loss: 0.0223 - accuracy: 0.9931\n",
            "Epoch 7/10\n",
            "469/469 [==============================] - 12s 25ms/step - loss: 0.0156 - accuracy: 0.9949\n",
            "Epoch 8/10\n",
            "469/469 [==============================] - 10s 22ms/step - loss: 0.0133 - accuracy: 0.9959\n",
            "Epoch 9/10\n",
            "469/469 [==============================] - 12s 25ms/step - loss: 0.0124 - accuracy: 0.9960\n",
            "Epoch 10/10\n",
            "469/469 [==============================] - 12s 25ms/step - loss: 0.0089 - accuracy: 0.9973\n",
            "313/313 [==============================] - 1s 4ms/step - loss: 0.0809 - accuracy: 0.9832\n",
            "test_acc: 0.9832000136375427\n"
          ]
        }
      ]
    },
    {
      "cell_type": "markdown",
      "source": [
        "**2 relu + 2 tanh + 10 epochs**"
      ],
      "metadata": {
        "id": "-SI0kihjolWz"
      }
    },
    {
      "cell_type": "code",
      "source": [
        "from tensorflow import keras\n",
        "from tensorflow.keras import layers\n",
        "model = keras.Sequential([\n",
        "    layers.Dense(512, activation=\"relu\"),\n",
        "    layers.Dense(512, activation=\"relu\"),\n",
        "    layers.Dense(512, activation=\"tanh\"),\n",
        "    layers.Dense(512, activation=\"tanh\"),\n",
        "    layers.Dense(10, activation=\"softmax\")\n",
        "])\n",
        "\n",
        "model.compile(optimizer=\"rmsprop\",\n",
        "              loss=\"sparse_categorical_crossentropy\",\n",
        "              metrics=[\"accuracy\"])\n",
        "\n",
        "train_images = train_images.reshape((60000, 28 * 28))\n",
        "train_images = train_images.astype(\"float32\") / 255\n",
        "test_images = test_images.reshape((10000, 28 * 28))\n",
        "test_images = test_images.astype(\"float32\") / 255\n",
        "\n",
        "model.fit(train_images, train_labels, epochs=10, batch_size=128)\n",
        "test_loss, test_acc = model.evaluate(test_images, test_labels)\n",
        "print(f\"test_acc: {test_acc}\")\n"
      ],
      "metadata": {
        "colab": {
          "base_uri": "https://localhost:8080/"
        },
        "id": "HyWWCsXVoewW",
        "outputId": "b22ddc18-7044-42b9-c2be-d42d4fb8cc89"
      },
      "execution_count": null,
      "outputs": [
        {
          "output_type": "stream",
          "name": "stdout",
          "text": [
            "Epoch 1/10\n",
            "469/469 [==============================] - 15s 31ms/step - loss: 0.2480 - accuracy: 0.9227\n",
            "Epoch 2/10\n",
            "469/469 [==============================] - 15s 31ms/step - loss: 0.0917 - accuracy: 0.9722\n",
            "Epoch 3/10\n",
            "469/469 [==============================] - 15s 31ms/step - loss: 0.0608 - accuracy: 0.9809\n",
            "Epoch 4/10\n",
            "469/469 [==============================] - 14s 31ms/step - loss: 0.0448 - accuracy: 0.9862\n",
            "Epoch 5/10\n",
            "469/469 [==============================] - 15s 31ms/step - loss: 0.0318 - accuracy: 0.9902\n",
            "Epoch 6/10\n",
            "469/469 [==============================] - 16s 34ms/step - loss: 0.0254 - accuracy: 0.9918\n",
            "Epoch 7/10\n",
            "469/469 [==============================] - 15s 31ms/step - loss: 0.0193 - accuracy: 0.9936\n",
            "Epoch 8/10\n",
            "469/469 [==============================] - 15s 31ms/step - loss: 0.0173 - accuracy: 0.9946\n",
            "Epoch 9/10\n",
            "469/469 [==============================] - 14s 31ms/step - loss: 0.0150 - accuracy: 0.9952\n",
            "Epoch 10/10\n",
            "469/469 [==============================] - 15s 31ms/step - loss: 0.0115 - accuracy: 0.9966\n",
            "313/313 [==============================] - 2s 5ms/step - loss: 0.0687 - accuracy: 0.9840\n",
            "test_acc: 0.984000027179718\n"
          ]
        }
      ]
    },
    {
      "cell_type": "code",
      "source": [
        "from tensorflow import keras\n",
        "from tensorflow.keras import layers\n",
        "from tensorflow.keras.datasets import mnist\n",
        "(train_images, train_labels), (test_images, test_labels) = mnist.load_data()\n",
        "model = keras.Sequential([\n",
        "    layers.Dense(512, activation=\"relu\"),\n",
        "    layers.Dense(512, activation=\"relu\"),\n",
        "    layers.Dense(512, activation=\"tanh\"),\n",
        "    layers.Dense(512, activation=\"tanh\"),\n",
        "    layers.Dense(10, activation=\"softmax\")\n",
        "])\n",
        "\n",
        "model.compile(optimizer=\"rmsprop\",\n",
        "              loss=\"sparse_categorical_crossentropy\",\n",
        "              metrics=[\"accuracy\"])\n",
        "\n",
        "train_images = train_images.reshape((60000, 28 * 28))\n",
        "train_images = train_images.astype(\"float32\") / 255\n",
        "test_images = test_images.reshape((10000, 28 * 28))\n",
        "test_images = test_images.astype(\"float32\") / 255\n",
        "\n",
        "model.fit(train_images, train_labels, epochs=10, batch_size=128)\n",
        "test_loss, test_acc = model.evaluate(test_images, test_labels)\n",
        "print(f\"test_acc: {test_acc}\")\n"
      ],
      "metadata": {
        "colab": {
          "base_uri": "https://localhost:8080/"
        },
        "id": "SqCjSHbxveCJ",
        "outputId": "c55b18a6-d70d-43e1-dd6a-0e9724cd944d"
      },
      "execution_count": null,
      "outputs": [
        {
          "output_type": "stream",
          "name": "stdout",
          "text": [
            "Epoch 1/10\n",
            "469/469 [==============================] - 24s 45ms/step - loss: 0.2556 - accuracy: 0.9216\n",
            "Epoch 2/10\n",
            "469/469 [==============================] - 18s 39ms/step - loss: 0.0921 - accuracy: 0.9725\n",
            "Epoch 3/10\n",
            "469/469 [==============================] - 11s 24ms/step - loss: 0.0623 - accuracy: 0.9813\n",
            "Epoch 4/10\n",
            "469/469 [==============================] - 11s 24ms/step - loss: 0.0433 - accuracy: 0.9863\n",
            "Epoch 5/10\n",
            "469/469 [==============================] - 12s 26ms/step - loss: 0.0317 - accuracy: 0.9905\n",
            "Epoch 6/10\n",
            "469/469 [==============================] - 12s 26ms/step - loss: 0.0241 - accuracy: 0.9927\n",
            "Epoch 7/10\n",
            "469/469 [==============================] - 12s 26ms/step - loss: 0.0195 - accuracy: 0.9937\n",
            "Epoch 8/10\n",
            "469/469 [==============================] - 12s 26ms/step - loss: 0.0163 - accuracy: 0.9947\n",
            "Epoch 9/10\n",
            "469/469 [==============================] - 12s 26ms/step - loss: 0.0135 - accuracy: 0.9954\n",
            "Epoch 10/10\n",
            "469/469 [==============================] - 14s 30ms/step - loss: 0.0106 - accuracy: 0.9968\n",
            "313/313 [==============================] - 1s 4ms/step - loss: 0.0918 - accuracy: 0.9808\n",
            "test_acc: 0.9807999730110168\n"
          ]
        }
      ]
    },
    {
      "cell_type": "markdown",
      "source": [
        "**3 relu + 3 tanh + 10 epochs**"
      ],
      "metadata": {
        "id": "SNmBOh0Qptuj"
      }
    },
    {
      "cell_type": "code",
      "source": [
        "from tensorflow import keras\n",
        "from tensorflow.keras import layers\n",
        "from tensorflow.keras.datasets import mnist\n",
        "(train_images, train_labels), (test_images, test_labels) = mnist.load_data()\n",
        "\n",
        "model = keras.Sequential([\n",
        "    layers.Dense(512, activation=\"relu\"),\n",
        "    layers.Dense(512, activation=\"relu\"),\n",
        "    layers.Dense(512, activation=\"relu\"),\n",
        "    layers.Dense(512, activation=\"tanh\"),\n",
        "    layers.Dense(512, activation=\"tanh\"),\n",
        "    layers.Dense(512, activation=\"tanh\"),\n",
        "    layers.Dense(10, activation=\"softmax\")\n",
        "])\n",
        "\n",
        "model.compile(optimizer=\"rmsprop\",\n",
        "              loss=\"sparse_categorical_crossentropy\",\n",
        "              metrics=[\"accuracy\"])\n",
        "\n",
        "train_images = train_images.reshape((60000, 28 * 28))\n",
        "train_images = train_images.astype(\"float32\") / 255\n",
        "test_images = test_images.reshape((10000, 28 * 28))\n",
        "test_images = test_images.astype(\"float32\") / 255\n",
        "\n",
        "model.fit(train_images, train_labels, epochs=10, batch_size=128)\n",
        "test_loss, test_acc = model.evaluate(test_images, test_labels)\n",
        "print(f\"test_acc: {test_acc}\")\n"
      ],
      "metadata": {
        "colab": {
          "base_uri": "https://localhost:8080/"
        },
        "id": "0bBJvipKpqvC",
        "outputId": "67aacf37-9049-4bdf-d8aa-9fa1801c8c7b"
      },
      "execution_count": null,
      "outputs": [
        {
          "output_type": "stream",
          "name": "stdout",
          "text": [
            "Epoch 1/10\n",
            "469/469 [==============================] - 24s 44ms/step - loss: 0.3308 - accuracy: 0.9029\n",
            "Epoch 2/10\n",
            "469/469 [==============================] - 22s 46ms/step - loss: 0.1088 - accuracy: 0.9692\n",
            "Epoch 3/10\n",
            "469/469 [==============================] - 20s 42ms/step - loss: 0.0735 - accuracy: 0.9794\n",
            "Epoch 4/10\n",
            "469/469 [==============================] - 22s 47ms/step - loss: 0.0540 - accuracy: 0.9840\n",
            "Epoch 5/10\n",
            "469/469 [==============================] - 20s 42ms/step - loss: 0.0408 - accuracy: 0.9881\n",
            "Epoch 6/10\n",
            "469/469 [==============================] - 22s 47ms/step - loss: 0.0345 - accuracy: 0.9899\n",
            "Epoch 7/10\n",
            "469/469 [==============================] - 20s 43ms/step - loss: 0.0271 - accuracy: 0.9922\n",
            "Epoch 8/10\n",
            "469/469 [==============================] - 22s 46ms/step - loss: 0.0217 - accuracy: 0.9935\n",
            "Epoch 9/10\n",
            "469/469 [==============================] - 20s 43ms/step - loss: 0.0194 - accuracy: 0.9946\n",
            "Epoch 10/10\n",
            "469/469 [==============================] - 23s 49ms/step - loss: 0.0155 - accuracy: 0.9955\n",
            "313/313 [==============================] - 2s 6ms/step - loss: 0.0935 - accuracy: 0.9801\n",
            "test_acc: 0.9800999760627747\n"
          ]
        }
      ]
    },
    {
      "cell_type": "markdown",
      "source": [
        "**3 relu + 2 tanh + 10 epochs**"
      ],
      "metadata": {
        "id": "sBC9Ceq4q_Bm"
      }
    },
    {
      "cell_type": "code",
      "source": [
        "from tensorflow import keras\n",
        "from tensorflow.keras import layers\n",
        "from tensorflow.keras.datasets import mnist\n",
        "(train_images, train_labels), (test_images, test_labels) = mnist.load_data()\n",
        "\n",
        "model = keras.Sequential([\n",
        "    layers.Dense(512, activation=\"relu\"),\n",
        "    layers.Dense(512, activation=\"relu\"),\n",
        "    layers.Dense(512, activation=\"relu\"),\n",
        "    layers.Dense(512, activation=\"tanh\"),\n",
        "    layers.Dense(512, activation=\"tanh\"),\n",
        "    layers.Dense(10, activation=\"softmax\")\n",
        "])\n",
        "\n",
        "model.compile(optimizer=\"rmsprop\",\n",
        "              loss=\"sparse_categorical_crossentropy\",\n",
        "              metrics=[\"accuracy\"])\n",
        "\n",
        "train_images = train_images.reshape((60000, 28 * 28))\n",
        "train_images = train_images.astype(\"float32\") / 255\n",
        "test_images = test_images.reshape((10000, 28 * 28))\n",
        "test_images = test_images.astype(\"float32\") / 255\n",
        "\n",
        "model.fit(train_images, train_labels, epochs=10, batch_size=128)\n",
        "test_loss, test_acc = model.evaluate(test_images, test_labels)\n",
        "print(f\"test_acc: {test_acc}\")\n"
      ],
      "metadata": {
        "colab": {
          "base_uri": "https://localhost:8080/"
        },
        "id": "TlOPGCOcq9y-",
        "outputId": "546f249f-b295-4584-e65d-78bb896f6c84"
      },
      "execution_count": null,
      "outputs": [
        {
          "output_type": "stream",
          "name": "stdout",
          "text": [
            "Epoch 1/10\n",
            "469/469 [==============================] - 30s 59ms/step - loss: 0.2862 - accuracy: 0.9139\n",
            "Epoch 2/10\n",
            "469/469 [==============================] - 17s 37ms/step - loss: 0.1002 - accuracy: 0.9715\n",
            "Epoch 3/10\n",
            "469/469 [==============================] - 17s 36ms/step - loss: 0.0692 - accuracy: 0.9794\n",
            "Epoch 4/10\n",
            "469/469 [==============================] - 17s 37ms/step - loss: 0.0487 - accuracy: 0.9858\n",
            "Epoch 5/10\n",
            "469/469 [==============================] - 19s 40ms/step - loss: 0.0372 - accuracy: 0.9884\n",
            "Epoch 6/10\n",
            "469/469 [==============================] - 18s 38ms/step - loss: 0.0290 - accuracy: 0.9914\n",
            "Epoch 7/10\n",
            "469/469 [==============================] - 17s 37ms/step - loss: 0.0231 - accuracy: 0.9927\n",
            "Epoch 8/10\n",
            "469/469 [==============================] - 27s 58ms/step - loss: 0.0182 - accuracy: 0.9942\n",
            "Epoch 9/10\n",
            "469/469 [==============================] - 18s 39ms/step - loss: 0.0155 - accuracy: 0.9952\n",
            "Epoch 10/10\n",
            "469/469 [==============================] - 18s 39ms/step - loss: 0.0142 - accuracy: 0.9958\n",
            "313/313 [==============================] - 2s 6ms/step - loss: 0.0784 - accuracy: 0.9839\n",
            "test_acc: 0.9839000105857849\n"
          ]
        }
      ]
    },
    {
      "cell_type": "markdown",
      "source": [
        "**2 sigmoid**"
      ],
      "metadata": {
        "id": "lRYEtpGleUt_"
      }
    },
    {
      "cell_type": "code",
      "source": [
        "from tensorflow import keras\n",
        "from tensorflow.keras import layers\n",
        "from tensorflow.keras.datasets import mnist\n",
        "(train_images, train_labels), (test_images, test_labels) = mnist.load_data()\n",
        "\n",
        "model = keras.Sequential([\n",
        "    layers.Dense(512, activation=\"sigmoid\"),\n",
        "    layers.Dense(512, activation=\"sigmoid\"),\n",
        "    layers.Dense(10, activation=\"softmax\")\n",
        "])\n",
        "\n",
        "model.compile(optimizer=\"rmsprop\",\n",
        "              loss=\"sparse_categorical_crossentropy\",\n",
        "              metrics=[\"accuracy\"])\n",
        "\n",
        "train_images = train_images.reshape((60000, 28 * 28))\n",
        "train_images = train_images.astype(\"float32\") / 255\n",
        "test_images = test_images.reshape((10000, 28 * 28))\n",
        "test_images = test_images.astype(\"float32\") / 255\n",
        "\n",
        "model.fit(train_images, train_labels, epochs=10, batch_size=128)\n",
        "test_loss, test_acc = model.evaluate(test_images, test_labels)\n",
        "print(f\"test_acc: {test_acc}\")\n"
      ],
      "metadata": {
        "colab": {
          "base_uri": "https://localhost:8080/"
        },
        "id": "gBGdjskIeX2Q",
        "outputId": "98795979-fed4-4208-8272-c7f47fb7b3bb"
      },
      "execution_count": null,
      "outputs": [
        {
          "output_type": "stream",
          "name": "stdout",
          "text": [
            "Epoch 1/10\n",
            "469/469 [==============================] - 15s 29ms/step - loss: 0.5890 - accuracy: 0.8198\n",
            "Epoch 2/10\n",
            "469/469 [==============================] - 11s 24ms/step - loss: 0.2653 - accuracy: 0.9203\n",
            "Epoch 3/10\n",
            "469/469 [==============================] - 13s 28ms/step - loss: 0.2020 - accuracy: 0.9395\n",
            "Epoch 4/10\n",
            "469/469 [==============================] - 8s 17ms/step - loss: 0.1575 - accuracy: 0.9525\n",
            "Epoch 5/10\n",
            "469/469 [==============================] - 9s 20ms/step - loss: 0.1271 - accuracy: 0.9615\n",
            "Epoch 6/10\n",
            "469/469 [==============================] - 7s 16ms/step - loss: 0.1056 - accuracy: 0.9686\n",
            "Epoch 7/10\n",
            "469/469 [==============================] - 8s 16ms/step - loss: 0.0886 - accuracy: 0.9732\n",
            "Epoch 8/10\n",
            "469/469 [==============================] - 7s 16ms/step - loss: 0.0765 - accuracy: 0.9760\n",
            "Epoch 9/10\n",
            "469/469 [==============================] - 7s 15ms/step - loss: 0.0653 - accuracy: 0.9799\n",
            "Epoch 10/10\n",
            "469/469 [==============================] - 8s 17ms/step - loss: 0.0565 - accuracy: 0.9827\n",
            "313/313 [==============================] - 1s 3ms/step - loss: 0.0803 - accuracy: 0.9757\n",
            "test_acc: 0.9757000207901001\n"
          ]
        }
      ]
    },
    {
      "cell_type": "markdown",
      "source": [
        "# Expiramenting with Learning Rate"
      ],
      "metadata": {
        "id": "BfmGYufgHa6M"
      }
    },
    {
      "cell_type": "markdown",
      "source": [
        "**2 relu + 2 tanh + learning rate 0.0001 + 10 epochs**"
      ],
      "metadata": {
        "id": "wZa-f4-NBh9h"
      }
    },
    {
      "cell_type": "code",
      "source": [
        "from tensorflow import keras\n",
        "from tensorflow.keras import layers\n",
        "model = keras.Sequential([\n",
        "    layers.Dense(512, activation=\"relu\"),\n",
        "    layers.Dense(512, activation=\"relu\"),\n",
        "    layers.Dense(512, activation=\"tanh\"),\n",
        "    layers.Dense(512, activation=\"tanh\"),\n",
        "    layers.Dense(10, activation=\"softmax\")\n",
        "])\n",
        "\n",
        "model.compile(optimizer=keras.optimizers.RMSprop(learning_rate=0.0001),\n",
        "              loss=\"sparse_categorical_crossentropy\",\n",
        "              metrics=[\"accuracy\"])\n",
        "\n",
        "train_images = train_images.reshape((60000, 28 * 28))\n",
        "train_images = train_images.astype(\"float32\") / 255\n",
        "test_images = test_images.reshape((10000, 28 * 28))\n",
        "test_images = test_images.astype(\"float32\") / 255\n",
        "\n",
        "model.fit(train_images, train_labels, epochs=10, batch_size=128)\n",
        "test_loss, test_acc = model.evaluate(test_images, test_labels)\n",
        "print(f\"test_acc: {test_acc}\")\n"
      ],
      "metadata": {
        "colab": {
          "base_uri": "https://localhost:8080/"
        },
        "id": "0ZbSXqN8A9_A",
        "outputId": "01737c67-8342-4500-8d49-821ce8e83097"
      },
      "execution_count": null,
      "outputs": [
        {
          "output_type": "stream",
          "name": "stdout",
          "text": [
            "Epoch 1/10\n",
            "\u001b[1m469/469\u001b[0m \u001b[32m━━━━━━━━━━━━━━━━━━━━\u001b[0m\u001b[37m\u001b[0m \u001b[1m21s\u001b[0m 39ms/step - accuracy: 0.8292 - loss: 0.6683\n",
            "Epoch 2/10\n",
            "\u001b[1m469/469\u001b[0m \u001b[32m━━━━━━━━━━━━━━━━━━━━\u001b[0m\u001b[37m\u001b[0m \u001b[1m29s\u001b[0m 59ms/step - accuracy: 0.9538 - loss: 0.1626\n",
            "Epoch 3/10\n",
            "\u001b[1m469/469\u001b[0m \u001b[32m━━━━━━━━━━━━━━━━━━━━\u001b[0m\u001b[37m\u001b[0m \u001b[1m29s\u001b[0m 33ms/step - accuracy: 0.9694 - loss: 0.1043\n",
            "Epoch 4/10\n",
            "\u001b[1m469/469\u001b[0m \u001b[32m━━━━━━━━━━━━━━━━━━━━\u001b[0m\u001b[37m\u001b[0m \u001b[1m21s\u001b[0m 34ms/step - accuracy: 0.9790 - loss: 0.0732\n",
            "Epoch 5/10\n",
            "\u001b[1m469/469\u001b[0m \u001b[32m━━━━━━━━━━━━━━━━━━━━\u001b[0m\u001b[37m\u001b[0m \u001b[1m17s\u001b[0m 36ms/step - accuracy: 0.9835 - loss: 0.0551\n",
            "Epoch 6/10\n",
            "\u001b[1m469/469\u001b[0m \u001b[32m━━━━━━━━━━━━━━━━━━━━\u001b[0m\u001b[37m\u001b[0m \u001b[1m20s\u001b[0m 36ms/step - accuracy: 0.9884 - loss: 0.0396\n",
            "Epoch 7/10\n",
            "\u001b[1m469/469\u001b[0m \u001b[32m━━━━━━━━━━━━━━━━━━━━\u001b[0m\u001b[37m\u001b[0m \u001b[1m22s\u001b[0m 38ms/step - accuracy: 0.9918 - loss: 0.0310\n",
            "Epoch 8/10\n",
            "\u001b[1m469/469\u001b[0m \u001b[32m━━━━━━━━━━━━━━━━━━━━\u001b[0m\u001b[37m\u001b[0m \u001b[1m15s\u001b[0m 32ms/step - accuracy: 0.9934 - loss: 0.0243\n",
            "Epoch 9/10\n",
            "\u001b[1m469/469\u001b[0m \u001b[32m━━━━━━━━━━━━━━━━━━━━\u001b[0m\u001b[37m\u001b[0m \u001b[1m21s\u001b[0m 33ms/step - accuracy: 0.9956 - loss: 0.0171\n",
            "Epoch 10/10\n",
            "\u001b[1m469/469\u001b[0m \u001b[32m━━━━━━━━━━━━━━━━━━━━\u001b[0m\u001b[37m\u001b[0m \u001b[1m20s\u001b[0m 32ms/step - accuracy: 0.9974 - loss: 0.0110\n",
            "\u001b[1m313/313\u001b[0m \u001b[32m━━━━━━━━━━━━━━━━━━━━\u001b[0m\u001b[37m\u001b[0m \u001b[1m2s\u001b[0m 6ms/step - accuracy: 0.9744 - loss: 0.0904\n",
            "test_acc: 0.979200005531311\n"
          ]
        }
      ]
    },
    {
      "cell_type": "markdown",
      "source": [
        "**2 relu + 2 tanh + learning = 0.01 + 10 epochs**"
      ],
      "metadata": {
        "id": "kGX0mFlWCiD_"
      }
    },
    {
      "cell_type": "code",
      "source": [
        "from tensorflow import keras\n",
        "from tensorflow.keras import layers\n",
        "from tensorflow.keras.datasets import mnist\n",
        "(train_images, train_labels), (test_images, test_labels) = mnist.load_data()\n",
        "model = keras.Sequential([\n",
        "    layers.Dense(512, activation=\"relu\"),\n",
        "    layers.Dense(512, activation=\"relu\"),\n",
        "    layers.Dense(512, activation=\"tanh\"),\n",
        "    layers.Dense(512, activation=\"tanh\"),\n",
        "    layers.Dense(10, activation=\"softmax\")\n",
        "])\n",
        "\n",
        "model.compile(optimizer=keras.optimizers.RMSprop(learning_rate=0.01),\n",
        "              loss=\"sparse_categorical_crossentropy\",\n",
        "              metrics=[\"accuracy\"])\n",
        "\n",
        "train_images = train_images.reshape((60000, 28 * 28))\n",
        "train_images = train_images.astype(\"float32\") / 255\n",
        "test_images = test_images.reshape((10000, 28 * 28))\n",
        "test_images = test_images.astype(\"float32\") / 255\n",
        "\n",
        "model.fit(train_images, train_labels, epochs=10, batch_size=128)\n",
        "test_loss, test_acc = model.evaluate(test_images, test_labels)\n",
        "print(f\"test_acc: {test_acc}\")\n"
      ],
      "metadata": {
        "colab": {
          "base_uri": "https://localhost:8080/"
        },
        "id": "kvs-sNi1Ccr4",
        "outputId": "3afcbe41-201a-47da-881e-d9b135b4e4bf"
      },
      "execution_count": null,
      "outputs": [
        {
          "output_type": "stream",
          "name": "stdout",
          "text": [
            "Epoch 1/10\n",
            "469/469 [==============================] - 24s 47ms/step - loss: 5.3464 - accuracy: 0.1002\n",
            "Epoch 2/10\n",
            "469/469 [==============================] - 21s 45ms/step - loss: 5.2079 - accuracy: 0.0973\n",
            "Epoch 3/10\n",
            "469/469 [==============================] - 14s 30ms/step - loss: 5.1173 - accuracy: 0.1021\n",
            "Epoch 4/10\n",
            "469/469 [==============================] - 15s 33ms/step - loss: 5.1778 - accuracy: 0.0986\n",
            "Epoch 5/10\n",
            "469/469 [==============================] - 13s 27ms/step - loss: 5.1656 - accuracy: 0.1005\n",
            "Epoch 6/10\n",
            "469/469 [==============================] - 13s 27ms/step - loss: 5.1329 - accuracy: 0.1035\n",
            "Epoch 7/10\n",
            "469/469 [==============================] - 13s 27ms/step - loss: 5.1564 - accuracy: 0.0985\n",
            "Epoch 8/10\n",
            "469/469 [==============================] - 14s 29ms/step - loss: 5.1470 - accuracy: 0.1021\n",
            "Epoch 9/10\n",
            "469/469 [==============================] - 13s 27ms/step - loss: 5.1193 - accuracy: 0.1006\n",
            "Epoch 10/10\n",
            "469/469 [==============================] - 13s 29ms/step - loss: 5.1499 - accuracy: 0.0984\n",
            "313/313 [==============================] - 1s 4ms/step - loss: 6.6485 - accuracy: 0.0892\n",
            "test_acc: 0.08919999748468399\n"
          ]
        }
      ]
    },
    {
      "cell_type": "markdown",
      "source": [
        "**2 tanh + 2 rely + 0.001 learning rate**"
      ],
      "metadata": {
        "id": "yQqunGpCDWxC"
      }
    },
    {
      "cell_type": "code",
      "source": [
        "from tensorflow import keras\n",
        "from tensorflow.keras import layers\n",
        "from tensorflow.keras.datasets import mnist\n",
        "(train_images, train_labels), (test_images, test_labels) = mnist.load_data()\n",
        "model = keras.Sequential([\n",
        "    layers.Dense(512, activation=\"relu\"),\n",
        "    layers.Dense(512, activation=\"relu\"),\n",
        "    layers.Dense(512, activation=\"tanh\"),\n",
        "    layers.Dense(512, activation=\"tanh\"),\n",
        "    layers.Dense(10, activation=\"softmax\")\n",
        "])\n",
        "\n",
        "model.compile(optimizer=keras.optimizers.RMSprop(learning_rate=0.001),\n",
        "              loss=\"sparse_categorical_crossentropy\",\n",
        "              metrics=[\"accuracy\"])\n",
        "\n",
        "train_images = train_images.reshape((60000, 28 * 28))\n",
        "train_images = train_images.astype(\"float32\") / 255\n",
        "test_images = test_images.reshape((10000, 28 * 28))\n",
        "test_images = test_images.astype(\"float32\") / 255\n",
        "\n",
        "model.fit(train_images, train_labels, epochs=10, batch_size=128)\n",
        "test_loss, test_acc = model.evaluate(test_images, test_labels)\n",
        "print(f\"test_acc: {test_acc}\")\n"
      ],
      "metadata": {
        "colab": {
          "base_uri": "https://localhost:8080/"
        },
        "id": "62AkHubdDUk3",
        "outputId": "c547fe4e-b1a6-4ef0-83fe-7b36cdd21b2a"
      },
      "execution_count": null,
      "outputs": [
        {
          "output_type": "stream",
          "name": "stdout",
          "text": [
            "Epoch 1/10\n",
            "\u001b[1m469/469\u001b[0m \u001b[32m━━━━━━━━━━━━━━━━━━━━\u001b[0m\u001b[37m\u001b[0m \u001b[1m17s\u001b[0m 32ms/step - accuracy: 0.8455 - loss: 0.4957\n",
            "Epoch 2/10\n",
            "\u001b[1m469/469\u001b[0m \u001b[32m━━━━━━━━━━━━━━━━━━━━\u001b[0m\u001b[37m\u001b[0m \u001b[1m21s\u001b[0m 33ms/step - accuracy: 0.9706 - loss: 0.0974\n",
            "Epoch 3/10\n",
            "\u001b[1m469/469\u001b[0m \u001b[32m━━━━━━━━━━━━━━━━━━━━\u001b[0m\u001b[37m\u001b[0m \u001b[1m20s\u001b[0m 33ms/step - accuracy: 0.9811 - loss: 0.0613\n",
            "Epoch 4/10\n",
            "\u001b[1m469/469\u001b[0m \u001b[32m━━━━━━━━━━━━━━━━━━━━\u001b[0m\u001b[37m\u001b[0m \u001b[1m20s\u001b[0m 32ms/step - accuracy: 0.9858 - loss: 0.0426\n",
            "Epoch 5/10\n",
            "\u001b[1m469/469\u001b[0m \u001b[32m━━━━━━━━━━━━━━━━━━━━\u001b[0m\u001b[37m\u001b[0m \u001b[1m23s\u001b[0m 37ms/step - accuracy: 0.9905 - loss: 0.0300\n",
            "Epoch 6/10\n",
            "\u001b[1m469/469\u001b[0m \u001b[32m━━━━━━━━━━━━━━━━━━━━\u001b[0m\u001b[37m\u001b[0m \u001b[1m15s\u001b[0m 32ms/step - accuracy: 0.9929 - loss: 0.0220\n",
            "Epoch 7/10\n",
            "\u001b[1m469/469\u001b[0m \u001b[32m━━━━━━━━━━━━━━━━━━━━\u001b[0m\u001b[37m\u001b[0m \u001b[1m20s\u001b[0m 32ms/step - accuracy: 0.9946 - loss: 0.0177\n",
            "Epoch 8/10\n",
            "\u001b[1m469/469\u001b[0m \u001b[32m━━━━━━━━━━━━━━━━━━━━\u001b[0m\u001b[37m\u001b[0m \u001b[1m15s\u001b[0m 31ms/step - accuracy: 0.9943 - loss: 0.0171\n",
            "Epoch 9/10\n",
            "\u001b[1m469/469\u001b[0m \u001b[32m━━━━━━━━━━━━━━━━━━━━\u001b[0m\u001b[37m\u001b[0m \u001b[1m21s\u001b[0m 32ms/step - accuracy: 0.9959 - loss: 0.0127\n",
            "Epoch 10/10\n",
            "\u001b[1m469/469\u001b[0m \u001b[32m━━━━━━━━━━━━━━━━━━━━\u001b[0m\u001b[37m\u001b[0m \u001b[1m21s\u001b[0m 32ms/step - accuracy: 0.9967 - loss: 0.0105\n",
            "\u001b[1m313/313\u001b[0m \u001b[32m━━━━━━━━━━━━━━━━━━━━\u001b[0m\u001b[37m\u001b[0m \u001b[1m3s\u001b[0m 8ms/step - accuracy: 0.9781 - loss: 0.1095\n",
            "test_acc: 0.9815999865531921\n"
          ]
        }
      ]
    },
    {
      "cell_type": "markdown",
      "source": [
        "# Adam optimizer (+ learning rates)"
      ],
      "metadata": {
        "id": "_yVCOog1Hjpv"
      }
    },
    {
      "cell_type": "markdown",
      "source": [
        "**adam optimizer + 2 relu + 2 tanh + 10 epochs**"
      ],
      "metadata": {
        "id": "0FqChHlfEzy8"
      }
    },
    {
      "cell_type": "code",
      "source": [
        "from tensorflow import keras\n",
        "from tensorflow.keras import layers\n",
        "model = keras.Sequential([\n",
        "    layers.Dense(512, activation=\"relu\"),\n",
        "    layers.Dense(512, activation=\"relu\"),\n",
        "    layers.Dense(512, activation=\"tanh\"),\n",
        "    layers.Dense(512, activation=\"tanh\"),\n",
        "    layers.Dense(10, activation=\"softmax\")\n",
        "])\n",
        "\n",
        "model.compile(optimizer=\"adam\",\n",
        "              loss=\"sparse_categorical_crossentropy\",\n",
        "              metrics=[\"accuracy\"])\n",
        "\n",
        "train_images = train_images.reshape((60000, 28 * 28))\n",
        "train_images = train_images.astype(\"float32\") / 255\n",
        "test_images = test_images.reshape((10000, 28 * 28))\n",
        "test_images = test_images.astype(\"float32\") / 255\n",
        "\n",
        "model.fit(train_images, train_labels, epochs=10, batch_size=128)\n",
        "test_loss, test_acc = model.evaluate(test_images, test_labels)\n",
        "print(f\"test_acc: {test_acc}\")\n"
      ],
      "metadata": {
        "colab": {
          "base_uri": "https://localhost:8080/"
        },
        "id": "z2w8_KWQEtyg",
        "outputId": "dbe72e65-732c-43e6-c83e-b243c946594c"
      },
      "execution_count": null,
      "outputs": [
        {
          "output_type": "stream",
          "name": "stdout",
          "text": [
            "Epoch 1/10\n",
            "\u001b[1m469/469\u001b[0m \u001b[32m━━━━━━━━━━━━━━━━━━━━\u001b[0m\u001b[37m\u001b[0m \u001b[1m18s\u001b[0m 33ms/step - accuracy: 0.6700 - loss: 0.9357\n",
            "Epoch 2/10\n",
            "\u001b[1m469/469\u001b[0m \u001b[32m━━━━━━━━━━━━━━━━━━━━\u001b[0m\u001b[37m\u001b[0m \u001b[1m16s\u001b[0m 33ms/step - accuracy: 0.9398 - loss: 0.2007\n",
            "Epoch 3/10\n",
            "\u001b[1m469/469\u001b[0m \u001b[32m━━━━━━━━━━━━━━━━━━━━\u001b[0m\u001b[37m\u001b[0m \u001b[1m21s\u001b[0m 34ms/step - accuracy: 0.9587 - loss: 0.1379\n",
            "Epoch 4/10\n",
            "\u001b[1m469/469\u001b[0m \u001b[32m━━━━━━━━━━━━━━━━━━━━\u001b[0m\u001b[37m\u001b[0m \u001b[1m20s\u001b[0m 33ms/step - accuracy: 0.9673 - loss: 0.1062\n",
            "Epoch 5/10\n",
            "\u001b[1m469/469\u001b[0m \u001b[32m━━━━━━━━━━━━━━━━━━━━\u001b[0m\u001b[37m\u001b[0m \u001b[1m16s\u001b[0m 33ms/step - accuracy: 0.9743 - loss: 0.0837\n",
            "Epoch 6/10\n",
            "\u001b[1m469/469\u001b[0m \u001b[32m━━━━━━━━━━━━━━━━━━━━\u001b[0m\u001b[37m\u001b[0m \u001b[1m17s\u001b[0m 35ms/step - accuracy: 0.9776 - loss: 0.0710\n",
            "Epoch 7/10\n",
            "\u001b[1m469/469\u001b[0m \u001b[32m━━━━━━━━━━━━━━━━━━━━\u001b[0m\u001b[37m\u001b[0m \u001b[1m21s\u001b[0m 37ms/step - accuracy: 0.9801 - loss: 0.0629\n",
            "Epoch 8/10\n",
            "\u001b[1m469/469\u001b[0m \u001b[32m━━━━━━━━━━━━━━━━━━━━\u001b[0m\u001b[37m\u001b[0m \u001b[1m19s\u001b[0m 33ms/step - accuracy: 0.9836 - loss: 0.0528\n",
            "Epoch 9/10\n",
            "\u001b[1m469/469\u001b[0m \u001b[32m━━━━━━━━━━━━━━━━━━━━\u001b[0m\u001b[37m\u001b[0m \u001b[1m22s\u001b[0m 36ms/step - accuracy: 0.9845 - loss: 0.0474\n",
            "Epoch 10/10\n",
            "\u001b[1m469/469\u001b[0m \u001b[32m━━━━━━━━━━━━━━━━━━━━\u001b[0m\u001b[37m\u001b[0m \u001b[1m24s\u001b[0m 44ms/step - accuracy: 0.9850 - loss: 0.0439\n",
            "\u001b[1m313/313\u001b[0m \u001b[32m━━━━━━━━━━━━━━━━━━━━\u001b[0m\u001b[37m\u001b[0m \u001b[1m3s\u001b[0m 8ms/step - accuracy: 0.9738 - loss: 0.0937\n",
            "test_acc: 0.9779999852180481\n"
          ]
        }
      ]
    },
    {
      "cell_type": "markdown",
      "source": [
        "**optimizer = adam + learning rate = 0.0001 + 2 relu + 2 tanh + 10 epochs**"
      ],
      "metadata": {
        "id": "idNCbwvzF2j7"
      }
    },
    {
      "cell_type": "code",
      "source": [
        "from tensorflow import keras\n",
        "from tensorflow.keras import layers\n",
        "model = keras.Sequential([\n",
        "    layers.Dense(512, activation=\"relu\"),\n",
        "    layers.Dense(512, activation=\"relu\"),\n",
        "    layers.Dense(512, activation=\"tanh\"),\n",
        "    layers.Dense(512, activation=\"tanh\"),\n",
        "    layers.Dense(10, activation=\"softmax\")\n",
        "])\n",
        "\n",
        "model.compile(optimizer=keras.optimizers.Adam(learning_rate=0.0001),\n",
        "              loss=\"sparse_categorical_crossentropy\",\n",
        "              metrics=[\"accuracy\"])\n",
        "\n",
        "train_images = train_images.reshape((60000, 28 * 28))\n",
        "train_images = train_images.astype(\"float32\") / 255\n",
        "test_images = test_images.reshape((10000, 28 * 28))\n",
        "test_images = test_images.astype(\"float32\") / 255\n",
        "\n",
        "model.fit(train_images, train_labels, epochs=10, batch_size=128)\n",
        "test_loss, test_acc = model.evaluate(test_images, test_labels)\n",
        "print(f\"test_acc: {test_acc}\")\n"
      ],
      "metadata": {
        "colab": {
          "base_uri": "https://localhost:8080/"
        },
        "id": "PIIQiAUHFvDs",
        "outputId": "24187fe6-8e6e-4c20-e90f-947775b8bdec"
      },
      "execution_count": null,
      "outputs": [
        {
          "output_type": "stream",
          "name": "stdout",
          "text": [
            "Epoch 1/10\n",
            "\u001b[1m469/469\u001b[0m \u001b[32m━━━━━━━━━━━━━━━━━━━━\u001b[0m\u001b[37m\u001b[0m \u001b[1m23s\u001b[0m 42ms/step - accuracy: 0.1109 - loss: 2.3017\n",
            "Epoch 2/10\n",
            "\u001b[1m469/469\u001b[0m \u001b[32m━━━━━━━━━━━━━━━━━━━━\u001b[0m\u001b[37m\u001b[0m \u001b[1m17s\u001b[0m 36ms/step - accuracy: 0.1122 - loss: 2.3013\n",
            "Epoch 3/10\n",
            "\u001b[1m469/469\u001b[0m \u001b[32m━━━━━━━━━━━━━━━━━━━━\u001b[0m\u001b[37m\u001b[0m \u001b[1m20s\u001b[0m 35ms/step - accuracy: 0.1109 - loss: 2.3015\n",
            "Epoch 4/10\n",
            "\u001b[1m469/469\u001b[0m \u001b[32m━━━━━━━━━━━━━━━━━━━━\u001b[0m\u001b[37m\u001b[0m \u001b[1m20s\u001b[0m 34ms/step - accuracy: 0.1114 - loss: 2.3015\n",
            "Epoch 5/10\n",
            "\u001b[1m469/469\u001b[0m \u001b[32m━━━━━━━━━━━━━━━━━━━━\u001b[0m\u001b[37m\u001b[0m \u001b[1m21s\u001b[0m 34ms/step - accuracy: 0.1112 - loss: 2.3015\n",
            "Epoch 6/10\n",
            "\u001b[1m469/469\u001b[0m \u001b[32m━━━━━━━━━━━━━━━━━━━━\u001b[0m\u001b[37m\u001b[0m \u001b[1m21s\u001b[0m 35ms/step - accuracy: 0.1133 - loss: 2.3010\n",
            "Epoch 7/10\n",
            "\u001b[1m469/469\u001b[0m \u001b[32m━━━━━━━━━━━━━━━━━━━━\u001b[0m\u001b[37m\u001b[0m \u001b[1m17s\u001b[0m 36ms/step - accuracy: 0.1295 - loss: 2.2850\n",
            "Epoch 8/10\n",
            "\u001b[1m469/469\u001b[0m \u001b[32m━━━━━━━━━━━━━━━━━━━━\u001b[0m\u001b[37m\u001b[0m \u001b[1m20s\u001b[0m 34ms/step - accuracy: 0.2709 - loss: 1.9176\n",
            "Epoch 9/10\n",
            "\u001b[1m469/469\u001b[0m \u001b[32m━━━━━━━━━━━━━━━━━━━━\u001b[0m\u001b[37m\u001b[0m \u001b[1m18s\u001b[0m 37ms/step - accuracy: 0.2944 - loss: 1.8257\n",
            "Epoch 10/10\n",
            "\u001b[1m469/469\u001b[0m \u001b[32m━━━━━━━━━━━━━━━━━━━━\u001b[0m\u001b[37m\u001b[0m \u001b[1m20s\u001b[0m 43ms/step - accuracy: 0.3051 - loss: 1.8005\n",
            "\u001b[1m313/313\u001b[0m \u001b[32m━━━━━━━━━━━━━━━━━━━━\u001b[0m\u001b[37m\u001b[0m \u001b[1m2s\u001b[0m 7ms/step - accuracy: 0.3204 - loss: 1.7632\n",
            "test_acc: 0.3203999996185303\n"
          ]
        }
      ]
    },
    {
      "cell_type": "markdown",
      "source": [
        "**obtimizer = adam + learning rate = 0.01 + 2 relu + 2 tanh + 10 epochs**"
      ],
      "metadata": {
        "id": "lMRzct1JGwR7"
      }
    },
    {
      "cell_type": "code",
      "source": [
        "from tensorflow import keras\n",
        "from tensorflow.keras import layers\n",
        "model = keras.Sequential([\n",
        "    layers.Dense(512, activation=\"relu\"),\n",
        "    layers.Dense(512, activation=\"relu\"),\n",
        "    layers.Dense(512, activation=\"tanh\"),\n",
        "    layers.Dense(512, activation=\"tanh\"),\n",
        "    layers.Dense(10, activation=\"softmax\")\n",
        "])\n",
        "\n",
        "model.compile(optimizer=keras.optimizers.Adam(learning_rate=0.01),\n",
        "              loss=\"sparse_categorical_crossentropy\",\n",
        "              metrics=[\"accuracy\"])\n",
        "\n",
        "train_images = train_images.reshape((60000, 28 * 28))\n",
        "train_images = train_images.astype(\"float32\") / 255\n",
        "test_images = test_images.reshape((10000, 28 * 28))\n",
        "test_images = test_images.astype(\"float32\") / 255\n",
        "\n",
        "model.fit(train_images, train_labels, epochs=10, batch_size=128)\n",
        "test_loss, test_acc = model.evaluate(test_images, test_labels)\n",
        "print(f\"test_acc: {test_acc}\")\n"
      ],
      "metadata": {
        "colab": {
          "base_uri": "https://localhost:8080/"
        },
        "id": "8j4SLPNKGtui",
        "outputId": "2557d85e-f71a-49e6-99be-5427f18ff304"
      },
      "execution_count": null,
      "outputs": [
        {
          "output_type": "stream",
          "name": "stdout",
          "text": [
            "Epoch 1/10\n",
            "\u001b[1m469/469\u001b[0m \u001b[32m━━━━━━━━━━━━━━━━━━━━\u001b[0m\u001b[37m\u001b[0m \u001b[1m31s\u001b[0m 58ms/step - accuracy: 0.1042 - loss: 2.3486\n",
            "Epoch 2/10\n",
            "\u001b[1m469/469\u001b[0m \u001b[32m━━━━━━━━━━━━━━━━━━━━\u001b[0m\u001b[37m\u001b[0m \u001b[1m32s\u001b[0m 39ms/step - accuracy: 0.1098 - loss: 2.3043\n",
            "Epoch 3/10\n",
            "\u001b[1m469/469\u001b[0m \u001b[32m━━━━━━━━━━━━━━━━━━━━\u001b[0m\u001b[37m\u001b[0m \u001b[1m19s\u001b[0m 42ms/step - accuracy: 0.1097 - loss: 2.3043\n",
            "Epoch 4/10\n",
            "\u001b[1m469/469\u001b[0m \u001b[32m━━━━━━━━━━━━━━━━━━━━\u001b[0m\u001b[37m\u001b[0m \u001b[1m20s\u001b[0m 40ms/step - accuracy: 0.1069 - loss: 2.3098\n",
            "Epoch 5/10\n",
            "\u001b[1m469/469\u001b[0m \u001b[32m━━━━━━━━━━━━━━━━━━━━\u001b[0m\u001b[37m\u001b[0m \u001b[1m22s\u001b[0m 44ms/step - accuracy: 0.1062 - loss: 2.3065\n",
            "Epoch 6/10\n",
            "\u001b[1m469/469\u001b[0m \u001b[32m━━━━━━━━━━━━━━━━━━━━\u001b[0m\u001b[37m\u001b[0m \u001b[1m32s\u001b[0m 68ms/step - accuracy: 0.1035 - loss: 2.3172\n",
            "Epoch 7/10\n",
            "\u001b[1m469/469\u001b[0m \u001b[32m━━━━━━━━━━━━━━━━━━━━\u001b[0m\u001b[37m\u001b[0m \u001b[1m32s\u001b[0m 49ms/step - accuracy: 0.1052 - loss: 2.3092\n",
            "Epoch 8/10\n",
            "\u001b[1m469/469\u001b[0m \u001b[32m━━━━━━━━━━━━━━━━━━━━\u001b[0m\u001b[37m\u001b[0m \u001b[1m44s\u001b[0m 55ms/step - accuracy: 0.1029 - loss: 2.3222\n",
            "Epoch 9/10\n",
            "\u001b[1m469/469\u001b[0m \u001b[32m━━━━━━━━━━━━━━━━━━━━\u001b[0m\u001b[37m\u001b[0m \u001b[1m20s\u001b[0m 43ms/step - accuracy: 0.1039 - loss: 2.3097\n",
            "Epoch 10/10\n",
            "\u001b[1m469/469\u001b[0m \u001b[32m━━━━━━━━━━━━━━━━━━━━\u001b[0m\u001b[37m\u001b[0m \u001b[1m20s\u001b[0m 43ms/step - accuracy: 0.1056 - loss: 2.3074\n",
            "\u001b[1m313/313\u001b[0m \u001b[32m━━━━━━━━━━━━━━━━━━━━\u001b[0m\u001b[37m\u001b[0m \u001b[1m2s\u001b[0m 7ms/step - accuracy: 0.1160 - loss: 2.3031\n",
            "test_acc: 0.11349999904632568\n"
          ]
        }
      ]
    },
    {
      "cell_type": "markdown",
      "source": [
        "**adam optimizer + 0.001 learning rate**"
      ],
      "metadata": {
        "id": "_I8EJwY0H_wd"
      }
    },
    {
      "cell_type": "code",
      "source": [
        "from tensorflow import keras\n",
        "from tensorflow.keras import layers\n",
        "from tensorflow.keras.datasets import mnist\n",
        "(train_images, train_labels), (test_images, test_labels) = mnist.load_data()\n",
        "model = keras.Sequential([\n",
        "    layers.Dense(512, activation=\"relu\"),\n",
        "    layers.Dense(512, activation=\"relu\"),\n",
        "    layers.Dense(512, activation=\"tanh\"),\n",
        "    layers.Dense(512, activation=\"tanh\"),\n",
        "    layers.Dense(10, activation=\"softmax\")\n",
        "])\n",
        "\n",
        "model.compile(optimizer=keras.optimizers.Adam(learning_rate=0.001),\n",
        "              loss=\"sparse_categorical_crossentropy\",\n",
        "              metrics=[\"accuracy\"])\n",
        "\n",
        "train_images = train_images.reshape((60000, 28 * 28))\n",
        "train_images = train_images.astype(\"float32\") / 255\n",
        "test_images = test_images.reshape((10000, 28 * 28))\n",
        "test_images = test_images.astype(\"float32\") / 255\n",
        "\n",
        "model.fit(train_images, train_labels, epochs=10, batch_size=128)\n",
        "test_loss, test_acc = model.evaluate(test_images, test_labels)\n",
        "print(f\"test_acc: {test_acc}\")\n"
      ],
      "metadata": {
        "colab": {
          "base_uri": "https://localhost:8080/"
        },
        "id": "dNprMCzAH70h",
        "outputId": "6f03962e-d9ee-41c9-9916-82bcb22191ac"
      },
      "execution_count": null,
      "outputs": [
        {
          "output_type": "stream",
          "name": "stdout",
          "text": [
            "Epoch 1/10\n",
            "\u001b[1m469/469\u001b[0m \u001b[32m━━━━━━━━━━━━━━━━━━━━\u001b[0m\u001b[37m\u001b[0m \u001b[1m29s\u001b[0m 52ms/step - accuracy: 0.8858 - loss: 0.3668\n",
            "Epoch 2/10\n",
            "\u001b[1m469/469\u001b[0m \u001b[32m━━━━━━━━━━━━━━━━━━━━\u001b[0m\u001b[37m\u001b[0m \u001b[1m18s\u001b[0m 38ms/step - accuracy: 0.9727 - loss: 0.0873\n",
            "Epoch 3/10\n",
            "\u001b[1m469/469\u001b[0m \u001b[32m━━━━━━━━━━━━━━━━━━━━\u001b[0m\u001b[37m\u001b[0m \u001b[1m18s\u001b[0m 38ms/step - accuracy: 0.9818 - loss: 0.0593\n",
            "Epoch 4/10\n",
            "\u001b[1m469/469\u001b[0m \u001b[32m━━━━━━━━━━━━━━━━━━━━\u001b[0m\u001b[37m\u001b[0m \u001b[1m20s\u001b[0m 38ms/step - accuracy: 0.9858 - loss: 0.0443\n",
            "Epoch 5/10\n",
            "\u001b[1m469/469\u001b[0m \u001b[32m━━━━━━━━━━━━━━━━━━━━\u001b[0m\u001b[37m\u001b[0m \u001b[1m21s\u001b[0m 38ms/step - accuracy: 0.9892 - loss: 0.0341\n",
            "Epoch 6/10\n",
            "\u001b[1m469/469\u001b[0m \u001b[32m━━━━━━━━━━━━━━━━━━━━\u001b[0m\u001b[37m\u001b[0m \u001b[1m20s\u001b[0m 42ms/step - accuracy: 0.9904 - loss: 0.0295\n",
            "Epoch 7/10\n",
            "\u001b[1m469/469\u001b[0m \u001b[32m━━━━━━━━━━━━━━━━━━━━\u001b[0m\u001b[37m\u001b[0m \u001b[1m28s\u001b[0m 59ms/step - accuracy: 0.9909 - loss: 0.0279\n",
            "Epoch 8/10\n",
            "\u001b[1m469/469\u001b[0m \u001b[32m━━━━━━━━━━━━━━━━━━━━\u001b[0m\u001b[37m\u001b[0m \u001b[1m31s\u001b[0m 38ms/step - accuracy: 0.9931 - loss: 0.0216\n",
            "Epoch 9/10\n",
            "\u001b[1m469/469\u001b[0m \u001b[32m━━━━━━━━━━━━━━━━━━━━\u001b[0m\u001b[37m\u001b[0m \u001b[1m17s\u001b[0m 37ms/step - accuracy: 0.9928 - loss: 0.0220\n",
            "Epoch 10/10\n",
            "\u001b[1m469/469\u001b[0m \u001b[32m━━━━━━━━━━━━━━━━━━━━\u001b[0m\u001b[37m\u001b[0m \u001b[1m22s\u001b[0m 39ms/step - accuracy: 0.9939 - loss: 0.0199\n",
            "\u001b[1m313/313\u001b[0m \u001b[32m━━━━━━━━━━━━━━━━━━━━\u001b[0m\u001b[37m\u001b[0m \u001b[1m2s\u001b[0m 6ms/step - accuracy: 0.9784 - loss: 0.1020\n",
            "test_acc: 0.9817000031471252\n"
          ]
        }
      ]
    },
    {
      "cell_type": "markdown",
      "source": [
        "# SGD optimizer"
      ],
      "metadata": {
        "id": "U868gZTsOlku"
      }
    },
    {
      "cell_type": "markdown",
      "source": [
        "**SGD optimizer + learning rates**"
      ],
      "metadata": {
        "id": "kjhKSvehLUkY"
      }
    },
    {
      "cell_type": "code",
      "source": [
        "from tensorflow import keras\n",
        "from tensorflow.keras import layers\n",
        "from tensorflow.keras.datasets import mnist\n",
        "(train_images, train_labels), (test_images, test_labels) = mnist.load_data()\n",
        "model = keras.Sequential([\n",
        "    layers.Dense(512, activation=\"relu\"),\n",
        "    layers.Dense(512, activation=\"relu\"),\n",
        "    layers.Dense(512, activation=\"tanh\"),\n",
        "    layers.Dense(512, activation=\"tanh\"),\n",
        "    layers.Dense(10, activation=\"softmax\")\n",
        "])\n",
        "\n",
        "model.compile(optimizer=\"sgd\",\n",
        "              loss=\"sparse_categorical_crossentropy\",\n",
        "              metrics=[\"accuracy\"])\n",
        "\n",
        "train_images = train_images.reshape((60000, 28 * 28))\n",
        "train_images = train_images.astype(\"float32\") / 255\n",
        "test_images = test_images.reshape((10000, 28 * 28))\n",
        "test_images = test_images.astype(\"float32\") / 255\n",
        "\n",
        "model.fit(train_images, train_labels, epochs=10, batch_size=128)\n",
        "test_loss, test_acc = model.evaluate(test_images, test_labels)\n",
        "print(f\"test_acc: {test_acc}\")\n"
      ],
      "metadata": {
        "colab": {
          "base_uri": "https://localhost:8080/"
        },
        "id": "5f1K1_XLLU4w",
        "outputId": "d9bdd868-13e1-43f3-bf1d-714e6905c07b"
      },
      "execution_count": null,
      "outputs": [
        {
          "output_type": "stream",
          "name": "stdout",
          "text": [
            "Epoch 1/10\n",
            "\u001b[1m469/469\u001b[0m \u001b[32m━━━━━━━━━━━━━━━━━━━━\u001b[0m\u001b[37m\u001b[0m \u001b[1m26s\u001b[0m 51ms/step - accuracy: 0.6522 - loss: 1.4218\n",
            "Epoch 2/10\n",
            "\u001b[1m469/469\u001b[0m \u001b[32m━━━━━━━━━━━━━━━━━━━━\u001b[0m\u001b[37m\u001b[0m \u001b[1m30s\u001b[0m 27ms/step - accuracy: 0.8936 - loss: 0.3831\n",
            "Epoch 3/10\n",
            "\u001b[1m469/469\u001b[0m \u001b[32m━━━━━━━━━━━━━━━━━━━━\u001b[0m\u001b[37m\u001b[0m \u001b[1m20s\u001b[0m 27ms/step - accuracy: 0.9162 - loss: 0.2916\n",
            "Epoch 4/10\n",
            "\u001b[1m469/469\u001b[0m \u001b[32m━━━━━━━━━━━━━━━━━━━━\u001b[0m\u001b[37m\u001b[0m \u001b[1m21s\u001b[0m 29ms/step - accuracy: 0.9275 - loss: 0.2513\n",
            "Epoch 5/10\n",
            "\u001b[1m469/469\u001b[0m \u001b[32m━━━━━━━━━━━━━━━━━━━━\u001b[0m\u001b[37m\u001b[0m \u001b[1m20s\u001b[0m 29ms/step - accuracy: 0.9363 - loss: 0.2199\n",
            "Epoch 6/10\n",
            "\u001b[1m469/469\u001b[0m \u001b[32m━━━━━━━━━━━━━━━━━━━━\u001b[0m\u001b[37m\u001b[0m \u001b[1m19s\u001b[0m 25ms/step - accuracy: 0.9435 - loss: 0.2005\n",
            "Epoch 7/10\n",
            "\u001b[1m469/469\u001b[0m \u001b[32m━━━━━━━━━━━━━━━━━━━━\u001b[0m\u001b[37m\u001b[0m \u001b[1m13s\u001b[0m 27ms/step - accuracy: 0.9487 - loss: 0.1803\n",
            "Epoch 8/10\n",
            "\u001b[1m469/469\u001b[0m \u001b[32m━━━━━━━━━━━━━━━━━━━━\u001b[0m\u001b[37m\u001b[0m \u001b[1m13s\u001b[0m 27ms/step - accuracy: 0.9527 - loss: 0.1642\n",
            "Epoch 9/10\n",
            "\u001b[1m469/469\u001b[0m \u001b[32m━━━━━━━━━━━━━━━━━━━━\u001b[0m\u001b[37m\u001b[0m \u001b[1m12s\u001b[0m 26ms/step - accuracy: 0.9561 - loss: 0.1530\n",
            "Epoch 10/10\n",
            "\u001b[1m469/469\u001b[0m \u001b[32m━━━━━━━━━━━━━━━━━━━━\u001b[0m\u001b[37m\u001b[0m \u001b[1m12s\u001b[0m 27ms/step - accuracy: 0.9600 - loss: 0.1362\n",
            "\u001b[1m313/313\u001b[0m \u001b[32m━━━━━━━━━━━━━━━━━━━━\u001b[0m\u001b[37m\u001b[0m \u001b[1m2s\u001b[0m 5ms/step - accuracy: 0.9481 - loss: 0.1688\n",
            "test_acc: 0.9569000005722046\n"
          ]
        }
      ]
    },
    {
      "cell_type": "markdown",
      "source": [
        "# Changing the epochs"
      ],
      "metadata": {
        "id": "-FeH2dRqOoDu"
      }
    },
    {
      "cell_type": "markdown",
      "source": [
        "**15 epochs**"
      ],
      "metadata": {
        "id": "7q0D6ZZDOqQ5"
      }
    },
    {
      "cell_type": "code",
      "source": [
        "from tensorflow import keras\n",
        "from tensorflow.keras import layers\n",
        "from tensorflow.keras.datasets import mnist\n",
        "(train_images, train_labels), (test_images, test_labels) = mnist.load_data()\n",
        "model = keras.Sequential([\n",
        "    layers.Dense(512, activation=\"relu\"),\n",
        "    layers.Dense(512, activation=\"relu\"),\n",
        "    layers.Dense(512, activation=\"tanh\"),\n",
        "    layers.Dense(512, activation=\"tanh\"),\n",
        "    layers.Dense(10, activation=\"softmax\")\n",
        "])\n",
        "\n",
        "model.compile(optimizer=\"rmsprop\",\n",
        "              loss=\"sparse_categorical_crossentropy\",\n",
        "              metrics=[\"accuracy\"])\n",
        "\n",
        "train_images = train_images.reshape((60000, 28 * 28))\n",
        "train_images = train_images.astype(\"float32\") / 255\n",
        "test_images = test_images.reshape((10000, 28 * 28))\n",
        "test_images = test_images.astype(\"float32\") / 255\n",
        "\n",
        "model.fit(train_images, train_labels, epochs=15, batch_size=128)\n",
        "test_loss, test_acc = model.evaluate(test_images, test_labels)\n",
        "print(f\"test_acc: {test_acc}\")\n"
      ],
      "metadata": {
        "colab": {
          "base_uri": "https://localhost:8080/"
        },
        "id": "IJafz-TBOtxl",
        "outputId": "f0f9d092-74c3-4b74-924b-0c9f5690251b"
      },
      "execution_count": null,
      "outputs": [
        {
          "output_type": "stream",
          "name": "stdout",
          "text": [
            "Epoch 1/15\n",
            "\u001b[1m469/469\u001b[0m \u001b[32m━━━━━━━━━━━━━━━━━━━━\u001b[0m\u001b[37m\u001b[0m \u001b[1m36s\u001b[0m 64ms/step - accuracy: 0.8504 - loss: 0.4833\n",
            "Epoch 2/15\n",
            "\u001b[1m469/469\u001b[0m \u001b[32m━━━━━━━━━━━━━━━━━━━━\u001b[0m\u001b[37m\u001b[0m \u001b[1m28s\u001b[0m 36ms/step - accuracy: 0.9710 - loss: 0.0946\n",
            "Epoch 3/15\n",
            "\u001b[1m469/469\u001b[0m \u001b[32m━━━━━━━━━━━━━━━━━━━━\u001b[0m\u001b[37m\u001b[0m \u001b[1m17s\u001b[0m 37ms/step - accuracy: 0.9823 - loss: 0.0597\n",
            "Epoch 4/15\n",
            "\u001b[1m469/469\u001b[0m \u001b[32m━━━━━━━━━━━━━━━━━━━━\u001b[0m\u001b[37m\u001b[0m \u001b[1m21s\u001b[0m 37ms/step - accuracy: 0.9872 - loss: 0.0415\n",
            "Epoch 5/15\n",
            "\u001b[1m469/469\u001b[0m \u001b[32m━━━━━━━━━━━━━━━━━━━━\u001b[0m\u001b[37m\u001b[0m \u001b[1m20s\u001b[0m 36ms/step - accuracy: 0.9899 - loss: 0.0321\n",
            "Epoch 6/15\n",
            "\u001b[1m469/469\u001b[0m \u001b[32m━━━━━━━━━━━━━━━━━━━━\u001b[0m\u001b[37m\u001b[0m \u001b[1m21s\u001b[0m 38ms/step - accuracy: 0.9927 - loss: 0.0222\n",
            "Epoch 7/15\n",
            "\u001b[1m469/469\u001b[0m \u001b[32m━━━━━━━━━━━━━━━━━━━━\u001b[0m\u001b[37m\u001b[0m \u001b[1m20s\u001b[0m 37ms/step - accuracy: 0.9939 - loss: 0.0180\n",
            "Epoch 8/15\n",
            "\u001b[1m469/469\u001b[0m \u001b[32m━━━━━━━━━━━━━━━━━━━━\u001b[0m\u001b[37m\u001b[0m \u001b[1m21s\u001b[0m 38ms/step - accuracy: 0.9954 - loss: 0.0147\n",
            "Epoch 9/15\n",
            "\u001b[1m469/469\u001b[0m \u001b[32m━━━━━━━━━━━━━━━━━━━━\u001b[0m\u001b[37m\u001b[0m \u001b[1m18s\u001b[0m 38ms/step - accuracy: 0.9956 - loss: 0.0135\n",
            "Epoch 10/15\n",
            "\u001b[1m469/469\u001b[0m \u001b[32m━━━━━━━━━━━━━━━━━━━━\u001b[0m\u001b[37m\u001b[0m \u001b[1m22s\u001b[0m 41ms/step - accuracy: 0.9969 - loss: 0.0092\n",
            "Epoch 11/15\n",
            "\u001b[1m469/469\u001b[0m \u001b[32m━━━━━━━━━━━━━━━━━━━━\u001b[0m\u001b[37m\u001b[0m \u001b[1m19s\u001b[0m 38ms/step - accuracy: 0.9967 - loss: 0.0102\n",
            "Epoch 12/15\n",
            "\u001b[1m469/469\u001b[0m \u001b[32m━━━━━━━━━━━━━━━━━━━━\u001b[0m\u001b[37m\u001b[0m \u001b[1m18s\u001b[0m 38ms/step - accuracy: 0.9972 - loss: 0.0087\n",
            "Epoch 13/15\n",
            "\u001b[1m469/469\u001b[0m \u001b[32m━━━━━━━━━━━━━━━━━━━━\u001b[0m\u001b[37m\u001b[0m \u001b[1m22s\u001b[0m 40ms/step - accuracy: 0.9969 - loss: 0.0095\n",
            "Epoch 14/15\n",
            "\u001b[1m469/469\u001b[0m \u001b[32m━━━━━━━━━━━━━━━━━━━━\u001b[0m\u001b[37m\u001b[0m \u001b[1m19s\u001b[0m 37ms/step - accuracy: 0.9985 - loss: 0.0053\n",
            "Epoch 15/15\n",
            "\u001b[1m469/469\u001b[0m \u001b[32m━━━━━━━━━━━━━━━━━━━━\u001b[0m\u001b[37m\u001b[0m \u001b[1m22s\u001b[0m 40ms/step - accuracy: 0.9980 - loss: 0.0069\n",
            "\u001b[1m313/313\u001b[0m \u001b[32m━━━━━━━━━━━━━━━━━━━━\u001b[0m\u001b[37m\u001b[0m \u001b[1m2s\u001b[0m 6ms/step - accuracy: 0.9763 - loss: 0.1347\n",
            "test_acc: 0.9804999828338623\n"
          ]
        }
      ]
    },
    {
      "cell_type": "markdown",
      "source": [
        "**10 epochs**"
      ],
      "metadata": {
        "id": "i74I4lxgQvOh"
      }
    },
    {
      "cell_type": "code",
      "source": [
        "from tensorflow import keras\n",
        "from tensorflow.keras import layers\n",
        "from tensorflow.keras.datasets import mnist\n",
        "(train_images, train_labels), (test_images, test_labels) = mnist.load_data()\n",
        "model = keras.Sequential([\n",
        "    layers.Dense(512, activation=\"relu\"),\n",
        "    layers.Dense(512, activation=\"relu\"),\n",
        "    layers.Dense(512, activation=\"tanh\"),\n",
        "    layers.Dense(512, activation=\"tanh\"),\n",
        "    layers.Dense(10, activation=\"softmax\")\n",
        "])\n",
        "\n",
        "model.compile(optimizer=\"rmsprop\",\n",
        "              loss=\"sparse_categorical_crossentropy\",\n",
        "              metrics=[\"accuracy\"])\n",
        "\n",
        "train_images = train_images.reshape((60000, 28 * 28))\n",
        "train_images = train_images.astype(\"float32\") / 255\n",
        "test_images = test_images.reshape((10000, 28 * 28))\n",
        "test_images = test_images.astype(\"float32\") / 255\n",
        "\n",
        "model.fit(train_images, train_labels, epochs=10, batch_size=128)\n",
        "test_loss, test_acc = model.evaluate(test_images, test_labels)\n",
        "print(f\"test_acc: {test_acc}\")\n"
      ],
      "metadata": {
        "colab": {
          "base_uri": "https://localhost:8080/"
        },
        "id": "Z1l60s6cQqEH",
        "outputId": "66859219-4087-43d4-abde-85d3cdaf08c5"
      },
      "execution_count": null,
      "outputs": [
        {
          "output_type": "stream",
          "name": "stdout",
          "text": [
            "Epoch 1/10\n",
            "\u001b[1m469/469\u001b[0m \u001b[32m━━━━━━━━━━━━━━━━━━━━\u001b[0m\u001b[37m\u001b[0m \u001b[1m40s\u001b[0m 77ms/step - accuracy: 0.8500 - loss: 0.4689\n",
            "Epoch 2/10\n",
            "\u001b[1m469/469\u001b[0m \u001b[32m━━━━━━━━━━━━━━━━━━━━\u001b[0m\u001b[37m\u001b[0m \u001b[1m17s\u001b[0m 37ms/step - accuracy: 0.9715 - loss: 0.0925\n",
            "Epoch 3/10\n",
            "\u001b[1m469/469\u001b[0m \u001b[32m━━━━━━━━━━━━━━━━━━━━\u001b[0m\u001b[37m\u001b[0m \u001b[1m21s\u001b[0m 37ms/step - accuracy: 0.9822 - loss: 0.0584\n",
            "Epoch 4/10\n",
            "\u001b[1m469/469\u001b[0m \u001b[32m━━━━━━━━━━━━━━━━━━━━\u001b[0m\u001b[37m\u001b[0m \u001b[1m21s\u001b[0m 44ms/step - accuracy: 0.9869 - loss: 0.0408\n",
            "Epoch 5/10\n",
            "\u001b[1m469/469\u001b[0m \u001b[32m━━━━━━━━━━━━━━━━━━━━\u001b[0m\u001b[37m\u001b[0m \u001b[1m18s\u001b[0m 38ms/step - accuracy: 0.9906 - loss: 0.0288\n",
            "Epoch 6/10\n",
            "\u001b[1m469/469\u001b[0m \u001b[32m━━━━━━━━━━━━━━━━━━━━\u001b[0m\u001b[37m\u001b[0m \u001b[1m21s\u001b[0m 39ms/step - accuracy: 0.9931 - loss: 0.0214\n",
            "Epoch 7/10\n",
            "\u001b[1m469/469\u001b[0m \u001b[32m━━━━━━━━━━━━━━━━━━━━\u001b[0m\u001b[37m\u001b[0m \u001b[1m19s\u001b[0m 37ms/step - accuracy: 0.9935 - loss: 0.0198\n",
            "Epoch 8/10\n",
            "\u001b[1m469/469\u001b[0m \u001b[32m━━━━━━━━━━━━━━━━━━━━\u001b[0m\u001b[37m\u001b[0m \u001b[1m17s\u001b[0m 37ms/step - accuracy: 0.9951 - loss: 0.0149\n",
            "Epoch 9/10\n",
            "\u001b[1m469/469\u001b[0m \u001b[32m━━━━━━━━━━━━━━━━━━━━\u001b[0m\u001b[37m\u001b[0m \u001b[1m22s\u001b[0m 41ms/step - accuracy: 0.9960 - loss: 0.0127\n",
            "Epoch 10/10\n",
            "\u001b[1m469/469\u001b[0m \u001b[32m━━━━━━━━━━━━━━━━━━━━\u001b[0m\u001b[37m\u001b[0m \u001b[1m17s\u001b[0m 37ms/step - accuracy: 0.9964 - loss: 0.0107\n",
            "\u001b[1m313/313\u001b[0m \u001b[32m━━━━━━━━━━━━━━━━━━━━\u001b[0m\u001b[37m\u001b[0m \u001b[1m2s\u001b[0m 6ms/step - accuracy: 0.9803 - loss: 0.1014\n",
            "test_acc: 0.9833999872207642\n"
          ]
        }
      ]
    },
    {
      "cell_type": "markdown",
      "source": [
        "# Adjusting the batch size"
      ],
      "metadata": {
        "id": "ytlcYx-0SSpV"
      }
    },
    {
      "cell_type": "markdown",
      "source": [
        "**batch size = 64**"
      ],
      "metadata": {
        "id": "ELybVk5ISXQR"
      }
    },
    {
      "cell_type": "code",
      "source": [
        "from tensorflow import keras\n",
        "from tensorflow.keras import layers\n",
        "from tensorflow.keras.datasets import mnist\n",
        "(train_images, train_labels), (test_images, test_labels) = mnist.load_data()\n",
        "model = keras.Sequential([\n",
        "    layers.Dense(512, activation=\"relu\"),\n",
        "    layers.Dense(512, activation=\"relu\"),\n",
        "    layers.Dense(512, activation=\"tanh\"),\n",
        "    layers.Dense(512, activation=\"tanh\"),\n",
        "    layers.Dense(10, activation=\"softmax\")\n",
        "])\n",
        "\n",
        "model.compile(optimizer=\"rmsprop\",\n",
        "              loss=\"sparse_categorical_crossentropy\",\n",
        "              metrics=[\"accuracy\"])\n",
        "\n",
        "train_images = train_images.reshape((60000, 28 * 28))\n",
        "train_images = train_images.astype(\"float32\") / 255\n",
        "test_images = test_images.reshape((10000, 28 * 28))\n",
        "test_images = test_images.astype(\"float32\") / 255\n",
        "\n",
        "model.fit(train_images, train_labels, epochs=10, batch_size=64)\n",
        "test_loss, test_acc = model.evaluate(test_images, test_labels)\n",
        "print(f\"test_acc: {test_acc}\")\n"
      ],
      "metadata": {
        "colab": {
          "base_uri": "https://localhost:8080/"
        },
        "id": "eXD0up_2SWxh",
        "outputId": "49581b58-218b-47e2-8301-e08384f586d2"
      },
      "execution_count": null,
      "outputs": [
        {
          "output_type": "stream",
          "name": "stdout",
          "text": [
            "Epoch 1/10\n",
            "\u001b[1m938/938\u001b[0m \u001b[32m━━━━━━━━━━━━━━━━━━━━\u001b[0m\u001b[37m\u001b[0m \u001b[1m44s\u001b[0m 40ms/step - accuracy: 0.8712 - loss: 0.4244\n",
            "Epoch 2/10\n",
            "\u001b[1m938/938\u001b[0m \u001b[32m━━━━━━━━━━━━━━━━━━━━\u001b[0m\u001b[37m\u001b[0m \u001b[1m26s\u001b[0m 28ms/step - accuracy: 0.9704 - loss: 0.1002\n",
            "Epoch 3/10\n",
            "\u001b[1m938/938\u001b[0m \u001b[32m━━━━━━━━━━━━━━━━━━━━\u001b[0m\u001b[37m\u001b[0m \u001b[1m42s\u001b[0m 29ms/step - accuracy: 0.9802 - loss: 0.0644\n",
            "Epoch 4/10\n",
            "\u001b[1m938/938\u001b[0m \u001b[32m━━━━━━━━━━━━━━━━━━━━\u001b[0m\u001b[37m\u001b[0m \u001b[1m28s\u001b[0m 30ms/step - accuracy: 0.9854 - loss: 0.0479\n",
            "Epoch 5/10\n",
            "\u001b[1m938/938\u001b[0m \u001b[32m━━━━━━━━━━━━━━━━━━━━\u001b[0m\u001b[37m\u001b[0m \u001b[1m41s\u001b[0m 30ms/step - accuracy: 0.9894 - loss: 0.0353\n",
            "Epoch 6/10\n",
            "\u001b[1m938/938\u001b[0m \u001b[32m━━━━━━━━━━━━━━━━━━━━\u001b[0m\u001b[37m\u001b[0m \u001b[1m40s\u001b[0m 29ms/step - accuracy: 0.9920 - loss: 0.0289\n",
            "Epoch 7/10\n",
            "\u001b[1m938/938\u001b[0m \u001b[32m━━━━━━━━━━━━━━━━━━━━\u001b[0m\u001b[37m\u001b[0m \u001b[1m41s\u001b[0m 29ms/step - accuracy: 0.9924 - loss: 0.0251\n",
            "Epoch 8/10\n",
            "\u001b[1m938/938\u001b[0m \u001b[32m━━━━━━━━━━━━━━━━━━━━\u001b[0m\u001b[37m\u001b[0m \u001b[1m27s\u001b[0m 29ms/step - accuracy: 0.9950 - loss: 0.0162\n",
            "Epoch 9/10\n",
            "\u001b[1m938/938\u001b[0m \u001b[32m━━━━━━━━━━━━━━━━━━━━\u001b[0m\u001b[37m\u001b[0m \u001b[1m33s\u001b[0m 35ms/step - accuracy: 0.9959 - loss: 0.0137\n",
            "Epoch 10/10\n",
            "\u001b[1m938/938\u001b[0m \u001b[32m━━━━━━━━━━━━━━━━━━━━\u001b[0m\u001b[37m\u001b[0m \u001b[1m35s\u001b[0m 29ms/step - accuracy: 0.9954 - loss: 0.0149\n",
            "\u001b[1m313/313\u001b[0m \u001b[32m━━━━━━━━━━━━━━━━━━━━\u001b[0m\u001b[37m\u001b[0m \u001b[1m2s\u001b[0m 6ms/step - accuracy: 0.9814 - loss: 0.1000\n",
            "test_acc: 0.9837999939918518\n"
          ]
        }
      ]
    },
    {
      "cell_type": "markdown",
      "source": [
        "**batch size = 256**"
      ],
      "metadata": {
        "id": "oudhRspYUFaC"
      }
    },
    {
      "cell_type": "code",
      "source": [
        "from tensorflow import keras\n",
        "from tensorflow.keras import layers\n",
        "from tensorflow.keras.datasets import mnist\n",
        "(train_images, train_labels), (test_images, test_labels) = mnist.load_data()\n",
        "model = keras.Sequential([\n",
        "    layers.Dense(512, activation=\"relu\"),\n",
        "    layers.Dense(512, activation=\"relu\"),\n",
        "    layers.Dense(512, activation=\"tanh\"),\n",
        "    layers.Dense(512, activation=\"tanh\"),\n",
        "    layers.Dense(10, activation=\"softmax\")\n",
        "])\n",
        "\n",
        "model.compile(optimizer=\"rmsprop\",\n",
        "              loss=\"sparse_categorical_crossentropy\",\n",
        "              metrics=[\"accuracy\"])\n",
        "\n",
        "train_images = train_images.reshape((60000, 28 * 28))\n",
        "train_images = train_images.astype(\"float32\") / 255\n",
        "test_images = test_images.reshape((10000, 28 * 28))\n",
        "test_images = test_images.astype(\"float32\") / 255\n",
        "\n",
        "model.fit(train_images, train_labels, epochs=10, batch_size=256)\n",
        "test_loss, test_acc = model.evaluate(test_images, test_labels)\n",
        "print(f\"test_acc: {test_acc}\")\n"
      ],
      "metadata": {
        "colab": {
          "base_uri": "https://localhost:8080/"
        },
        "id": "XmCnRNfDUNH3",
        "outputId": "294999fe-f931-44a7-b153-9301fb026802"
      },
      "execution_count": null,
      "outputs": [
        {
          "output_type": "stream",
          "name": "stdout",
          "text": [
            "Epoch 1/10\n",
            "\u001b[1m235/235\u001b[0m \u001b[32m━━━━━━━━━━━━━━━━━━━━\u001b[0m\u001b[37m\u001b[0m \u001b[1m28s\u001b[0m 103ms/step - accuracy: 0.8008 - loss: 0.6408\n",
            "Epoch 2/10\n",
            "\u001b[1m235/235\u001b[0m \u001b[32m━━━━━━━━━━━━━━━━━━━━\u001b[0m\u001b[37m\u001b[0m \u001b[1m14s\u001b[0m 58ms/step - accuracy: 0.9668 - loss: 0.1030\n",
            "Epoch 3/10\n",
            "\u001b[1m235/235\u001b[0m \u001b[32m━━━━━━━━━━━━━━━━━━━━\u001b[0m\u001b[37m\u001b[0m \u001b[1m21s\u001b[0m 59ms/step - accuracy: 0.9821 - loss: 0.0572\n",
            "Epoch 4/10\n",
            "\u001b[1m235/235\u001b[0m \u001b[32m━━━━━━━━━━━━━━━━━━━━\u001b[0m\u001b[37m\u001b[0m \u001b[1m15s\u001b[0m 62ms/step - accuracy: 0.9870 - loss: 0.0409\n",
            "Epoch 5/10\n",
            "\u001b[1m235/235\u001b[0m \u001b[32m━━━━━━━━━━━━━━━━━━━━\u001b[0m\u001b[37m\u001b[0m \u001b[1m14s\u001b[0m 61ms/step - accuracy: 0.9914 - loss: 0.0279\n",
            "Epoch 6/10\n",
            "\u001b[1m235/235\u001b[0m \u001b[32m━━━━━━━━━━━━━━━━━━━━\u001b[0m\u001b[37m\u001b[0m \u001b[1m20s\u001b[0m 61ms/step - accuracy: 0.9936 - loss: 0.0201\n",
            "Epoch 7/10\n",
            "\u001b[1m235/235\u001b[0m \u001b[32m━━━━━━━━━━━━━━━━━━━━\u001b[0m\u001b[37m\u001b[0m \u001b[1m13s\u001b[0m 56ms/step - accuracy: 0.9950 - loss: 0.0164\n",
            "Epoch 8/10\n",
            "\u001b[1m235/235\u001b[0m \u001b[32m━━━━━━━━━━━━━━━━━━━━\u001b[0m\u001b[37m\u001b[0m \u001b[1m21s\u001b[0m 57ms/step - accuracy: 0.9957 - loss: 0.0135\n",
            "Epoch 9/10\n",
            "\u001b[1m235/235\u001b[0m \u001b[32m━━━━━━━━━━━━━━━━━━━━\u001b[0m\u001b[37m\u001b[0m \u001b[1m21s\u001b[0m 61ms/step - accuracy: 0.9964 - loss: 0.0097\n",
            "Epoch 10/10\n",
            "\u001b[1m235/235\u001b[0m \u001b[32m━━━━━━━━━━━━━━━━━━━━\u001b[0m\u001b[37m\u001b[0m \u001b[1m15s\u001b[0m 62ms/step - accuracy: 0.9975 - loss: 0.0085\n",
            "\u001b[1m313/313\u001b[0m \u001b[32m━━━━━━━━━━━━━━━━━━━━\u001b[0m\u001b[37m\u001b[0m \u001b[1m2s\u001b[0m 6ms/step - accuracy: 0.9785 - loss: 0.1077\n",
            "test_acc: 0.9815999865531921\n"
          ]
        }
      ]
    },
    {
      "cell_type": "markdown",
      "source": [
        "**batch size = 32**"
      ],
      "metadata": {
        "id": "gD5Q48zuVT5B"
      }
    },
    {
      "cell_type": "code",
      "source": [
        "from tensorflow import keras\n",
        "from tensorflow.keras import layers\n",
        "from tensorflow.keras.datasets import mnist\n",
        "(train_images, train_labels), (test_images, test_labels) = mnist.load_data()\n",
        "model = keras.Sequential([\n",
        "    layers.Dense(512, activation=\"relu\"),\n",
        "    layers.Dense(512, activation=\"relu\"),\n",
        "    layers.Dense(512, activation=\"tanh\"),\n",
        "    layers.Dense(512, activation=\"tanh\"),\n",
        "    layers.Dense(10, activation=\"softmax\")\n",
        "])\n",
        "\n",
        "model.compile(optimizer=\"rmsprop\",\n",
        "              loss=\"sparse_categorical_crossentropy\",\n",
        "              metrics=[\"accuracy\"])\n",
        "\n",
        "train_images = train_images.reshape((60000, 28 * 28))\n",
        "train_images = train_images.astype(\"float32\") / 255\n",
        "test_images = test_images.reshape((10000, 28 * 28))\n",
        "test_images = test_images.astype(\"float32\") / 255\n",
        "\n",
        "model.fit(train_images, train_labels, epochs=10, batch_size=32)\n",
        "test_loss, test_acc = model.evaluate(test_images, test_labels)\n",
        "print(f\"test_acc: {test_acc}\")\n"
      ],
      "metadata": {
        "colab": {
          "base_uri": "https://localhost:8080/"
        },
        "id": "KCRxt2XxVWN9",
        "outputId": "2d86b48e-7ad8-4df9-9ff8-aea9164bd350"
      },
      "execution_count": null,
      "outputs": [
        {
          "output_type": "stream",
          "name": "stdout",
          "text": [
            "Epoch 1/10\n",
            "\u001b[1m1875/1875\u001b[0m \u001b[32m━━━━━━━━━━━━━━━━━━━━\u001b[0m\u001b[37m\u001b[0m \u001b[1m62s\u001b[0m 31ms/step - accuracy: 0.8853 - loss: 0.3764\n",
            "Epoch 2/10\n",
            "\u001b[1m1875/1875\u001b[0m \u001b[32m━━━━━━━━━━━━━━━━━━━━\u001b[0m\u001b[37m\u001b[0m \u001b[1m71s\u001b[0m 25ms/step - accuracy: 0.9684 - loss: 0.1121\n",
            "Epoch 3/10\n",
            "\u001b[1m1875/1875\u001b[0m \u001b[32m━━━━━━━━━━━━━━━━━━━━\u001b[0m\u001b[37m\u001b[0m \u001b[1m83s\u001b[0m 25ms/step - accuracy: 0.9785 - loss: 0.0800\n",
            "Epoch 4/10\n",
            "\u001b[1m1875/1875\u001b[0m \u001b[32m━━━━━━━━━━━━━━━━━━━━\u001b[0m\u001b[37m\u001b[0m \u001b[1m46s\u001b[0m 25ms/step - accuracy: 0.9852 - loss: 0.0541\n",
            "Epoch 5/10\n",
            "\u001b[1m1875/1875\u001b[0m \u001b[32m━━━━━━━━━━━━━━━━━━━━\u001b[0m\u001b[37m\u001b[0m \u001b[1m81s\u001b[0m 24ms/step - accuracy: 0.9882 - loss: 0.0438\n",
            "Epoch 6/10\n",
            "\u001b[1m1875/1875\u001b[0m \u001b[32m━━━━━━━━━━━━━━━━━━━━\u001b[0m\u001b[37m\u001b[0m \u001b[1m83s\u001b[0m 25ms/step - accuracy: 0.9898 - loss: 0.0349\n",
            "Epoch 7/10\n",
            "\u001b[1m1875/1875\u001b[0m \u001b[32m━━━━━━━━━━━━━━━━━━━━\u001b[0m\u001b[37m\u001b[0m \u001b[1m45s\u001b[0m 24ms/step - accuracy: 0.9913 - loss: 0.0324\n",
            "Epoch 8/10\n",
            "\u001b[1m1875/1875\u001b[0m \u001b[32m━━━━━━━━━━━━━━━━━━━━\u001b[0m\u001b[37m\u001b[0m \u001b[1m81s\u001b[0m 24ms/step - accuracy: 0.9936 - loss: 0.0235\n",
            "Epoch 9/10\n",
            "\u001b[1m1875/1875\u001b[0m \u001b[32m━━━━━━━━━━━━━━━━━━━━\u001b[0m\u001b[37m\u001b[0m \u001b[1m82s\u001b[0m 24ms/step - accuracy: 0.9945 - loss: 0.0213\n",
            "Epoch 10/10\n",
            "\u001b[1m1875/1875\u001b[0m \u001b[32m━━━━━━━━━━━━━━━━━━━━\u001b[0m\u001b[37m\u001b[0m \u001b[1m85s\u001b[0m 25ms/step - accuracy: 0.9959 - loss: 0.0170\n",
            "\u001b[1m313/313\u001b[0m \u001b[32m━━━━━━━━━━━━━━━━━━━━\u001b[0m\u001b[37m\u001b[0m \u001b[1m3s\u001b[0m 10ms/step - accuracy: 0.9790 - loss: 0.1178\n",
            "test_acc: 0.9822999835014343\n"
          ]
        }
      ]
    },
    {
      "cell_type": "markdown",
      "source": [
        "# Overall Model"
      ],
      "metadata": {
        "id": "IZqu-OqlY2xE"
      }
    },
    {
      "cell_type": "code",
      "source": [
        "from tensorflow import keras\n",
        "from tensorflow.keras import layers\n",
        "from tensorflow.keras.datasets import mnist\n",
        "(train_images, train_labels), (test_images, test_labels) = mnist.load_data()\n",
        "model = keras.Sequential([\n",
        "    layers.Dense(512, activation=\"relu\"),\n",
        "    layers.Dense(512, activation=\"relu\"),\n",
        "    layers.Dense(512, activation=\"tanh\"),\n",
        "    layers.Dense(512, activation=\"tanh\"),\n",
        "    layers.Dense(10, activation=\"softmax\")\n",
        "])\n",
        "\n",
        "model.compile(optimizer=keras.optimizers.RMSprop(learning_rate=0.001),\n",
        "              loss=\"sparse_categorical_crossentropy\",\n",
        "              metrics=[\"accuracy\"])\n",
        "\n",
        "train_images = train_images.reshape((60000, 28 * 28))\n",
        "train_images = train_images.astype(\"float32\") / 255\n",
        "test_images = test_images.reshape((10000, 28 * 28))\n",
        "test_images = test_images.astype(\"float32\") / 255\n",
        "\n",
        "model.fit(train_images, train_labels, epochs=10, batch_size=64)\n",
        "test_loss, test_acc = model.evaluate(test_images, test_labels)\n",
        "print(f\"test_acc: {test_acc}\")\n"
      ],
      "metadata": {
        "colab": {
          "base_uri": "https://localhost:8080/"
        },
        "id": "RhrRkvDxY4bu",
        "outputId": "cdee5c39-40ac-4e1c-de93-eeb9e1a48b16"
      },
      "execution_count": null,
      "outputs": [
        {
          "output_type": "stream",
          "name": "stdout",
          "text": [
            "Epoch 1/10\n",
            "\u001b[1m938/938\u001b[0m \u001b[32m━━━━━━━━━━━━━━━━━━━━\u001b[0m\u001b[37m\u001b[0m \u001b[1m42s\u001b[0m 41ms/step - accuracy: 0.8793 - loss: 0.3981\n",
            "Epoch 2/10\n",
            "\u001b[1m938/938\u001b[0m \u001b[32m━━━━━━━━━━━━━━━━━━━━\u001b[0m\u001b[37m\u001b[0m \u001b[1m21s\u001b[0m 23ms/step - accuracy: 0.9702 - loss: 0.0989\n",
            "Epoch 3/10\n",
            "\u001b[1m938/938\u001b[0m \u001b[32m━━━━━━━━━━━━━━━━━━━━\u001b[0m\u001b[37m\u001b[0m \u001b[1m23s\u001b[0m 24ms/step - accuracy: 0.9828 - loss: 0.0611\n",
            "Epoch 4/10\n",
            "\u001b[1m938/938\u001b[0m \u001b[32m━━━━━━━━━━━━━━━━━━━━\u001b[0m\u001b[37m\u001b[0m \u001b[1m41s\u001b[0m 25ms/step - accuracy: 0.9863 - loss: 0.0457\n",
            "Epoch 5/10\n",
            "\u001b[1m938/938\u001b[0m \u001b[32m━━━━━━━━━━━━━━━━━━━━\u001b[0m\u001b[37m\u001b[0m \u001b[1m57s\u001b[0m 42ms/step - accuracy: 0.9885 - loss: 0.0378\n",
            "Epoch 6/10\n",
            "\u001b[1m938/938\u001b[0m \u001b[32m━━━━━━━━━━━━━━━━━━━━\u001b[0m\u001b[37m\u001b[0m \u001b[1m25s\u001b[0m 25ms/step - accuracy: 0.9926 - loss: 0.0243\n",
            "Epoch 7/10\n",
            "\u001b[1m938/938\u001b[0m \u001b[32m━━━━━━━━━━━━━━━━━━━━\u001b[0m\u001b[37m\u001b[0m \u001b[1m48s\u001b[0m 33ms/step - accuracy: 0.9935 - loss: 0.0215\n",
            "Epoch 8/10\n",
            "\u001b[1m938/938\u001b[0m \u001b[32m━━━━━━━━━━━━━━━━━━━━\u001b[0m\u001b[37m\u001b[0m \u001b[1m37s\u001b[0m 40ms/step - accuracy: 0.9946 - loss: 0.0174\n",
            "Epoch 9/10\n",
            "\u001b[1m938/938\u001b[0m \u001b[32m━━━━━━━━━━━━━━━━━━━━\u001b[0m\u001b[37m\u001b[0m \u001b[1m26s\u001b[0m 24ms/step - accuracy: 0.9956 - loss: 0.0151\n",
            "Epoch 10/10\n",
            "\u001b[1m938/938\u001b[0m \u001b[32m━━━━━━━━━━━━━━━━━━━━\u001b[0m\u001b[37m\u001b[0m \u001b[1m46s\u001b[0m 29ms/step - accuracy: 0.9962 - loss: 0.0138\n",
            "\u001b[1m313/313\u001b[0m \u001b[32m━━━━━━━━━━━━━━━━━━━━\u001b[0m\u001b[37m\u001b[0m \u001b[1m3s\u001b[0m 9ms/step - accuracy: 0.9778 - loss: 0.1110\n",
            "test_acc: 0.9818000197410583\n"
          ]
        }
      ]
    },
    {
      "cell_type": "markdown",
      "source": [
        "**15 epochs**"
      ],
      "metadata": {
        "id": "ERDjwJAo7YN_"
      }
    },
    {
      "cell_type": "code",
      "source": [
        "from tensorflow import keras\n",
        "from tensorflow.keras import layers\n",
        "from tensorflow.keras.datasets import mnist\n",
        "(train_images, train_labels), (test_images, test_labels) = mnist.load_data()\n",
        "model = keras.Sequential([\n",
        "    layers.Dense(512, activation=\"relu\"),\n",
        "    layers.Dense(512, activation=\"relu\"),\n",
        "    layers.Dense(512, activation=\"tanh\"),\n",
        "    layers.Dense(512, activation=\"tanh\"),\n",
        "    layers.Dense(10, activation=\"softmax\")\n",
        "])\n",
        "\n",
        "model.compile(optimizer=\"rmsprop\",\n",
        "              loss=\"sparse_categorical_crossentropy\",\n",
        "              metrics=[\"accuracy\"])\n",
        "\n",
        "train_images = train_images.reshape((60000, 28 * 28))\n",
        "train_images = train_images.astype(\"float32\") / 255\n",
        "test_images = test_images.reshape((10000, 28 * 28))\n",
        "test_images = test_images.astype(\"float32\") / 255\n",
        "\n",
        "model.fit(train_images, train_labels, epochs=15, batch_size=64)\n",
        "test_loss, test_acc = model.evaluate(test_images, test_labels)\n",
        "print(f\"test_acc: {test_acc}\")\n"
      ],
      "metadata": {
        "colab": {
          "base_uri": "https://localhost:8080/"
        },
        "id": "UBzf9vpy5i6j",
        "outputId": "e97ce926-5bee-410e-86fa-7ba0b0847ca4"
      },
      "execution_count": null,
      "outputs": [
        {
          "output_type": "stream",
          "name": "stdout",
          "text": [
            "Epoch 1/15\n",
            "938/938 [==============================] - 33s 33ms/step - loss: 0.2244 - accuracy: 0.9320\n",
            "Epoch 2/15\n",
            "938/938 [==============================] - 21s 22ms/step - loss: 0.0970 - accuracy: 0.9718\n",
            "Epoch 3/15\n",
            "938/938 [==============================] - 17s 18ms/step - loss: 0.0660 - accuracy: 0.9801\n",
            "Epoch 4/15\n",
            "938/938 [==============================] - 17s 19ms/step - loss: 0.0483 - accuracy: 0.9857\n",
            "Epoch 5/15\n",
            "938/938 [==============================] - 17s 18ms/step - loss: 0.0371 - accuracy: 0.9887\n",
            "Epoch 6/15\n",
            "938/938 [==============================] - 17s 18ms/step - loss: 0.0305 - accuracy: 0.9910\n",
            "Epoch 7/15\n",
            "938/938 [==============================] - 18s 20ms/step - loss: 0.0247 - accuracy: 0.9927\n",
            "Epoch 8/15\n",
            "938/938 [==============================] - 17s 18ms/step - loss: 0.0200 - accuracy: 0.9942\n",
            "Epoch 9/15\n",
            "938/938 [==============================] - 18s 20ms/step - loss: 0.0173 - accuracy: 0.9948\n",
            "Epoch 10/15\n",
            "938/938 [==============================] - 16s 17ms/step - loss: 0.0144 - accuracy: 0.9957\n",
            "Epoch 11/15\n",
            "938/938 [==============================] - 18s 19ms/step - loss: 0.0124 - accuracy: 0.9965\n",
            "Epoch 12/15\n",
            "938/938 [==============================] - 18s 19ms/step - loss: 0.0090 - accuracy: 0.9975\n",
            "Epoch 13/15\n",
            "938/938 [==============================] - 16s 18ms/step - loss: 0.0101 - accuracy: 0.9971\n",
            "Epoch 14/15\n",
            "938/938 [==============================] - 16s 17ms/step - loss: 0.0080 - accuracy: 0.9974\n",
            "Epoch 15/15\n",
            "938/938 [==============================] - 16s 17ms/step - loss: 0.0053 - accuracy: 0.9984\n",
            "313/313 [==============================] - 2s 6ms/step - loss: 0.0975 - accuracy: 0.9852\n",
            "test_acc: 0.9851999878883362\n"
          ]
        }
      ]
    },
    {
      "cell_type": "markdown",
      "source": [
        "**20 epochs**"
      ],
      "metadata": {
        "id": "TRWyBJJ49Zx_"
      }
    },
    {
      "cell_type": "code",
      "source": [
        "from tensorflow import keras\n",
        "from tensorflow.keras import layers\n",
        "from tensorflow.keras.datasets import mnist\n",
        "(train_images, train_labels), (test_images, test_labels) = mnist.load_data()\n",
        "model = keras.Sequential([\n",
        "    layers.Dense(512, activation=\"relu\"),\n",
        "    layers.Dense(512, activation=\"relu\"),\n",
        "    layers.Dense(512, activation=\"tanh\"),\n",
        "    layers.Dense(512, activation=\"tanh\"),\n",
        "    layers.Dense(10, activation=\"softmax\")\n",
        "])\n",
        "\n",
        "model.compile(optimizer=\"rmsprop\",\n",
        "              loss=\"sparse_categorical_crossentropy\",\n",
        "              metrics=[\"accuracy\"])\n",
        "\n",
        "train_images = train_images.reshape((60000, 28 * 28))\n",
        "train_images = train_images.astype(\"float32\") / 255\n",
        "test_images = test_images.reshape((10000, 28 * 28))\n",
        "test_images = test_images.astype(\"float32\") / 255\n",
        "\n",
        "model.fit(train_images, train_labels, epochs=20, batch_size=128)\n",
        "test_loss, test_acc = model.evaluate(test_images, test_labels)\n",
        "print(f\"test_acc: {test_acc}\")\n"
      ],
      "metadata": {
        "colab": {
          "base_uri": "https://localhost:8080/"
        },
        "id": "ZH_wjV4-9dh7",
        "outputId": "46898979-da0d-49d9-e3e8-2a6d9bb4b070"
      },
      "execution_count": null,
      "outputs": [
        {
          "output_type": "stream",
          "name": "stdout",
          "text": [
            "Epoch 1/20\n",
            "469/469 [==============================] - 25s 49ms/step - loss: 0.2508 - accuracy: 0.9228\n",
            "Epoch 2/20\n",
            "469/469 [==============================] - 22s 46ms/step - loss: 0.0913 - accuracy: 0.9719\n",
            "Epoch 3/20\n",
            "469/469 [==============================] - 12s 26ms/step - loss: 0.0603 - accuracy: 0.9815\n",
            "Epoch 4/20\n",
            "469/469 [==============================] - 12s 26ms/step - loss: 0.0426 - accuracy: 0.9868\n",
            "Epoch 5/20\n",
            "469/469 [==============================] - 12s 26ms/step - loss: 0.0322 - accuracy: 0.9898\n",
            "Epoch 6/20\n",
            "469/469 [==============================] - 12s 26ms/step - loss: 0.0250 - accuracy: 0.9918\n",
            "Epoch 7/20\n",
            "469/469 [==============================] - 12s 26ms/step - loss: 0.0208 - accuracy: 0.9935\n",
            "Epoch 8/20\n",
            "469/469 [==============================] - 12s 26ms/step - loss: 0.0158 - accuracy: 0.9951\n",
            "Epoch 9/20\n",
            "469/469 [==============================] - 12s 26ms/step - loss: 0.0140 - accuracy: 0.9959\n",
            "Epoch 10/20\n",
            "469/469 [==============================] - 13s 28ms/step - loss: 0.0108 - accuracy: 0.9963\n",
            "Epoch 11/20\n",
            "469/469 [==============================] - 12s 26ms/step - loss: 0.0102 - accuracy: 0.9969\n",
            "Epoch 12/20\n",
            "469/469 [==============================] - 11s 24ms/step - loss: 0.0074 - accuracy: 0.9976\n",
            "Epoch 13/20\n",
            "469/469 [==============================] - 12s 26ms/step - loss: 0.0074 - accuracy: 0.9978\n",
            "Epoch 14/20\n",
            "469/469 [==============================] - 14s 30ms/step - loss: 0.0067 - accuracy: 0.9980\n",
            "Epoch 15/20\n",
            "469/469 [==============================] - 12s 26ms/step - loss: 0.0068 - accuracy: 0.9979\n",
            "Epoch 16/20\n",
            "469/469 [==============================] - 12s 26ms/step - loss: 0.0049 - accuracy: 0.9986\n",
            "Epoch 17/20\n",
            "469/469 [==============================] - 12s 26ms/step - loss: 0.0048 - accuracy: 0.9985\n",
            "Epoch 18/20\n",
            "469/469 [==============================] - 12s 26ms/step - loss: 0.0047 - accuracy: 0.9987\n",
            "Epoch 19/20\n",
            "469/469 [==============================] - 13s 27ms/step - loss: 0.0054 - accuracy: 0.9985\n",
            "Epoch 20/20\n",
            "469/469 [==============================] - 13s 27ms/step - loss: 0.0024 - accuracy: 0.9992\n",
            "313/313 [==============================] - 1s 4ms/step - loss: 0.1073 - accuracy: 0.9836\n",
            "test_acc: 0.9836000204086304\n"
          ]
        }
      ]
    },
    {
      "cell_type": "markdown",
      "source": [
        "**25 epochs**"
      ],
      "metadata": {
        "id": "Jiwvo6i57bmQ"
      }
    },
    {
      "cell_type": "code",
      "source": [
        "from tensorflow import keras\n",
        "from tensorflow.keras import layers\n",
        "from tensorflow.keras.datasets import mnist\n",
        "(train_images, train_labels), (test_images, test_labels) = mnist.load_data()\n",
        "model = keras.Sequential([\n",
        "    layers.Dense(512, activation=\"relu\"),\n",
        "    layers.Dense(512, activation=\"relu\"),\n",
        "    layers.Dense(512, activation=\"tanh\"),\n",
        "    layers.Dense(512, activation=\"tanh\"),\n",
        "    layers.Dense(10, activation=\"softmax\")\n",
        "])\n",
        "\n",
        "model.compile(optimizer=\"rmsprop\",\n",
        "              loss=\"sparse_categorical_crossentropy\",\n",
        "              metrics=[\"accuracy\"])\n",
        "\n",
        "train_images = train_images.reshape((60000, 28 * 28))\n",
        "train_images = train_images.astype(\"float32\") / 255\n",
        "test_images = test_images.reshape((10000, 28 * 28))\n",
        "test_images = test_images.astype(\"float32\") / 255\n",
        "\n",
        "model.fit(train_images, train_labels, epochs=25, batch_size=64)\n",
        "test_loss, test_acc = model.evaluate(test_images, test_labels)\n",
        "print(f\"test_acc: {test_acc}\")\n"
      ],
      "metadata": {
        "colab": {
          "base_uri": "https://localhost:8080/"
        },
        "id": "rZzsx7RR7Z4a",
        "outputId": "2c64a990-d072-46c3-eaa8-7405decd6891"
      },
      "execution_count": null,
      "outputs": [
        {
          "output_type": "stream",
          "name": "stdout",
          "text": [
            "Epoch 1/25\n",
            "938/938 [==============================] - 35s 33ms/step - loss: 0.2301 - accuracy: 0.9302\n",
            "Epoch 2/25\n",
            "938/938 [==============================] - 19s 20ms/step - loss: 0.0946 - accuracy: 0.9723\n",
            "Epoch 3/25\n",
            "938/938 [==============================] - 19s 20ms/step - loss: 0.0615 - accuracy: 0.9821\n",
            "Epoch 4/25\n",
            "938/938 [==============================] - 18s 19ms/step - loss: 0.0487 - accuracy: 0.9857\n",
            "Epoch 5/25\n",
            "938/938 [==============================] - 18s 19ms/step - loss: 0.0361 - accuracy: 0.9893\n",
            "Epoch 6/25\n",
            "938/938 [==============================] - 19s 20ms/step - loss: 0.0290 - accuracy: 0.9912\n",
            "Epoch 7/25\n",
            "938/938 [==============================] - 21s 22ms/step - loss: 0.0235 - accuracy: 0.9930\n",
            "Epoch 8/25\n",
            "938/938 [==============================] - 19s 20ms/step - loss: 0.0210 - accuracy: 0.9939\n",
            "Epoch 9/25\n",
            "938/938 [==============================] - 20s 22ms/step - loss: 0.0168 - accuracy: 0.9949\n",
            "Epoch 10/25\n",
            "938/938 [==============================] - 20s 21ms/step - loss: 0.0149 - accuracy: 0.9953\n",
            "Epoch 11/25\n",
            "938/938 [==============================] - 18s 20ms/step - loss: 0.0116 - accuracy: 0.9964\n",
            "Epoch 12/25\n",
            "938/938 [==============================] - 18s 19ms/step - loss: 0.0103 - accuracy: 0.9972\n",
            "Epoch 13/25\n",
            "938/938 [==============================] - 19s 20ms/step - loss: 0.0091 - accuracy: 0.9974\n",
            "Epoch 14/25\n",
            "938/938 [==============================] - 18s 19ms/step - loss: 0.0088 - accuracy: 0.9975\n",
            "Epoch 15/25\n",
            "938/938 [==============================] - 18s 19ms/step - loss: 0.0069 - accuracy: 0.9982\n",
            "Epoch 16/25\n",
            "938/938 [==============================] - 19s 20ms/step - loss: 0.0071 - accuracy: 0.9980\n",
            "Epoch 17/25\n",
            "938/938 [==============================] - 19s 21ms/step - loss: 0.0049 - accuracy: 0.9984\n",
            "Epoch 18/25\n",
            "938/938 [==============================] - 19s 21ms/step - loss: 0.0045 - accuracy: 0.9987\n",
            "Epoch 19/25\n",
            "938/938 [==============================] - 18s 19ms/step - loss: 0.0050 - accuracy: 0.9988\n",
            "Epoch 20/25\n",
            "938/938 [==============================] - 18s 19ms/step - loss: 0.0030 - accuracy: 0.9992\n",
            "Epoch 21/25\n",
            "938/938 [==============================] - 19s 21ms/step - loss: 0.0021 - accuracy: 0.9993\n",
            "Epoch 22/25\n",
            "938/938 [==============================] - 18s 19ms/step - loss: 0.0019 - accuracy: 0.9995\n",
            "Epoch 23/25\n",
            "938/938 [==============================] - 18s 19ms/step - loss: 0.0021 - accuracy: 0.9994\n",
            "Epoch 24/25\n",
            "938/938 [==============================] - 19s 21ms/step - loss: 2.7209e-04 - accuracy: 0.9999\n",
            "Epoch 25/25\n",
            "938/938 [==============================] - 19s 20ms/step - loss: 2.6513e-05 - accuracy: 1.0000\n",
            "313/313 [==============================] - 1s 4ms/step - loss: 0.1043 - accuracy: 0.9872\n",
            "test_acc: 0.9872000217437744\n"
          ]
        }
      ]
    },
    {
      "cell_type": "code",
      "source": [
        "from tensorflow import keras\n",
        "from tensorflow.keras import layers\n",
        "from tensorflow.keras.datasets import mnist\n",
        "(train_images, train_labels), (test_images, test_labels) = mnist.load_data()\n",
        "model = keras.Sequential([\n",
        "    layers.Dense(512, activation=\"relu\"),\n",
        "    layers.Dense(512, activation=\"relu\"),\n",
        "    layers.Dense(512, activation=\"tanh\"),\n",
        "    layers.Dense(512, activation=\"tanh\"),\n",
        "    layers.Dense(10, activation=\"softmax\")\n",
        "])\n",
        "\n",
        "model.compile(optimizer=\"rmsprop\",\n",
        "              loss=\"sparse_categorical_crossentropy\",\n",
        "              metrics=[\"accuracy\"])\n",
        "\n",
        "train_images = train_images.reshape((60000, 28 * 28))\n",
        "train_images = train_images.astype(\"float32\") / 255\n",
        "test_images = test_images.reshape((10000, 28 * 28))\n",
        "test_images = test_images.astype(\"float32\") / 255\n",
        "\n",
        "model.fit(train_images, train_labels, epochs=25, batch_size=64) # 64 batch size rerun\n",
        "test_loss, test_acc = model.evaluate(test_images, test_labels)\n",
        "print(f\"test_acc: {test_acc}\")\n"
      ],
      "metadata": {
        "colab": {
          "base_uri": "https://localhost:8080/"
        },
        "id": "mJe2KgxhuGO5",
        "outputId": "08ddf9f8-2613-4e5c-9405-90eea235ea8d"
      },
      "execution_count": 1,
      "outputs": [
        {
          "output_type": "stream",
          "name": "stdout",
          "text": [
            "Epoch 1/25\n",
            "938/938 [==============================] - 33s 34ms/step - loss: 0.2292 - accuracy: 0.9312\n",
            "Epoch 2/25\n",
            "938/938 [==============================] - 24s 25ms/step - loss: 0.0940 - accuracy: 0.9722\n",
            "Epoch 3/25\n",
            "938/938 [==============================] - 20s 21ms/step - loss: 0.0655 - accuracy: 0.9806\n",
            "Epoch 4/25\n",
            "938/938 [==============================] - 19s 20ms/step - loss: 0.0492 - accuracy: 0.9856\n",
            "Epoch 5/25\n",
            "938/938 [==============================] - 19s 20ms/step - loss: 0.0366 - accuracy: 0.9892\n",
            "Epoch 6/25\n",
            "938/938 [==============================] - 18s 20ms/step - loss: 0.0296 - accuracy: 0.9918\n",
            "Epoch 7/25\n",
            "938/938 [==============================] - 18s 19ms/step - loss: 0.0246 - accuracy: 0.9926\n",
            "Epoch 8/25\n",
            "938/938 [==============================] - 18s 19ms/step - loss: 0.0211 - accuracy: 0.9937\n",
            "Epoch 9/25\n",
            "938/938 [==============================] - 19s 21ms/step - loss: 0.0164 - accuracy: 0.9951\n",
            "Epoch 10/25\n",
            "938/938 [==============================] - 18s 20ms/step - loss: 0.0140 - accuracy: 0.9962\n",
            "Epoch 11/25\n",
            "938/938 [==============================] - 21s 22ms/step - loss: 0.0111 - accuracy: 0.9969\n",
            "Epoch 12/25\n",
            "938/938 [==============================] - 19s 20ms/step - loss: 0.0110 - accuracy: 0.9968\n",
            "Epoch 13/25\n",
            "938/938 [==============================] - 19s 20ms/step - loss: 0.0095 - accuracy: 0.9973\n",
            "Epoch 14/25\n",
            "938/938 [==============================] - 18s 19ms/step - loss: 0.0075 - accuracy: 0.9977\n",
            "Epoch 15/25\n",
            "938/938 [==============================] - 18s 19ms/step - loss: 0.0074 - accuracy: 0.9979\n",
            "Epoch 16/25\n",
            "938/938 [==============================] - 19s 20ms/step - loss: 0.0065 - accuracy: 0.9982\n",
            "Epoch 17/25\n",
            "938/938 [==============================] - 18s 19ms/step - loss: 0.0044 - accuracy: 0.9987\n",
            "Epoch 18/25\n",
            "938/938 [==============================] - 20s 22ms/step - loss: 0.0037 - accuracy: 0.9991\n",
            "Epoch 19/25\n",
            "938/938 [==============================] - 19s 21ms/step - loss: 0.0035 - accuracy: 0.9991\n",
            "Epoch 20/25\n",
            "938/938 [==============================] - 19s 20ms/step - loss: 0.0035 - accuracy: 0.9989\n",
            "Epoch 21/25\n",
            "938/938 [==============================] - 19s 20ms/step - loss: 0.0045 - accuracy: 0.9988\n",
            "Epoch 22/25\n",
            "938/938 [==============================] - 18s 19ms/step - loss: 0.0028 - accuracy: 0.9992\n",
            "Epoch 23/25\n",
            "938/938 [==============================] - 18s 19ms/step - loss: 0.0023 - accuracy: 0.9994\n",
            "Epoch 24/25\n",
            "938/938 [==============================] - 18s 20ms/step - loss: 0.0015 - accuracy: 0.9994\n",
            "Epoch 25/25\n",
            "938/938 [==============================] - 18s 19ms/step - loss: 0.0024 - accuracy: 0.9994\n",
            "313/313 [==============================] - 2s 5ms/step - loss: 0.1235 - accuracy: 0.9842\n",
            "test_acc: 0.9842000007629395\n"
          ]
        }
      ]
    },
    {
      "cell_type": "code",
      "source": [
        "from tensorflow import keras\n",
        "from tensorflow.keras import layers\n",
        "from tensorflow.keras.datasets import mnist\n",
        "(train_images, train_labels), (test_images, test_labels) = mnist.load_data()\n",
        "model = keras.Sequential([\n",
        "    layers.Dense(512, activation=\"relu\"),\n",
        "    layers.Dense(512, activation=\"relu\"),\n",
        "    layers.Dense(512, activation=\"tanh\"),\n",
        "    layers.Dense(512, activation=\"tanh\"),\n",
        "    layers.Dense(10, activation=\"softmax\")\n",
        "])\n",
        "\n",
        "model.compile(optimizer=\"rmsprop\",\n",
        "              loss=\"sparse_categorical_crossentropy\",\n",
        "              metrics=[\"accuracy\"])\n",
        "\n",
        "train_images = train_images.reshape((60000, 28 * 28))\n",
        "train_images = train_images.astype(\"float32\") / 255\n",
        "test_images = test_images.reshape((10000, 28 * 28))\n",
        "test_images = test_images.astype(\"float32\") / 255\n",
        "\n",
        "model.fit(train_images, train_labels, epochs=25, batch_size=128) #128 batch size\n",
        "test_loss, test_acc = model.evaluate(test_images, test_labels)\n",
        "print(f\"test_acc: {test_acc}\")\n"
      ],
      "metadata": {
        "id": "nivfUAYcrCMU",
        "colab": {
          "base_uri": "https://localhost:8080/"
        },
        "outputId": "fd598da4-5895-41d3-bcdc-a2851282583f"
      },
      "execution_count": 2,
      "outputs": [
        {
          "output_type": "stream",
          "name": "stdout",
          "text": [
            "Epoch 1/25\n",
            "469/469 [==============================] - 14s 27ms/step - loss: 0.2511 - accuracy: 0.9220\n",
            "Epoch 2/25\n",
            "469/469 [==============================] - 13s 27ms/step - loss: 0.0929 - accuracy: 0.9713\n",
            "Epoch 3/25\n",
            "469/469 [==============================] - 14s 30ms/step - loss: 0.0604 - accuracy: 0.9808\n",
            "Epoch 4/25\n",
            "469/469 [==============================] - 14s 30ms/step - loss: 0.0440 - accuracy: 0.9863\n",
            "Epoch 5/25\n",
            "469/469 [==============================] - 13s 27ms/step - loss: 0.0322 - accuracy: 0.9901\n",
            "Epoch 6/25\n",
            "469/469 [==============================] - 14s 31ms/step - loss: 0.0237 - accuracy: 0.9924\n",
            "Epoch 7/25\n",
            "469/469 [==============================] - 13s 28ms/step - loss: 0.0198 - accuracy: 0.9938\n",
            "Epoch 8/25\n",
            "469/469 [==============================] - 13s 28ms/step - loss: 0.0153 - accuracy: 0.9951\n",
            "Epoch 9/25\n",
            "469/469 [==============================] - 13s 28ms/step - loss: 0.0142 - accuracy: 0.9957\n",
            "Epoch 10/25\n",
            "469/469 [==============================] - 13s 28ms/step - loss: 0.0105 - accuracy: 0.9967\n",
            "Epoch 11/25\n",
            "469/469 [==============================] - 13s 27ms/step - loss: 0.0104 - accuracy: 0.9967\n",
            "Epoch 12/25\n",
            "469/469 [==============================] - 13s 27ms/step - loss: 0.0084 - accuracy: 0.9976\n",
            "Epoch 13/25\n",
            "469/469 [==============================] - 13s 27ms/step - loss: 0.0068 - accuracy: 0.9981\n",
            "Epoch 14/25\n",
            "469/469 [==============================] - 14s 30ms/step - loss: 0.0055 - accuracy: 0.9983\n",
            "Epoch 15/25\n",
            "469/469 [==============================] - 14s 30ms/step - loss: 0.0053 - accuracy: 0.9983\n",
            "Epoch 16/25\n",
            "469/469 [==============================] - 13s 27ms/step - loss: 0.0043 - accuracy: 0.9988\n",
            "Epoch 17/25\n",
            "469/469 [==============================] - 14s 30ms/step - loss: 0.0027 - accuracy: 0.9992\n",
            "Epoch 18/25\n",
            "469/469 [==============================] - 13s 28ms/step - loss: 0.0030 - accuracy: 0.9991\n",
            "Epoch 19/25\n",
            "469/469 [==============================] - 13s 27ms/step - loss: 0.0039 - accuracy: 0.9989\n",
            "Epoch 20/25\n",
            "469/469 [==============================] - 13s 27ms/step - loss: 0.0037 - accuracy: 0.9987\n",
            "Epoch 21/25\n",
            "469/469 [==============================] - 13s 27ms/step - loss: 0.0053 - accuracy: 0.9984\n",
            "Epoch 22/25\n",
            "469/469 [==============================] - 13s 27ms/step - loss: 0.0018 - accuracy: 0.9995\n",
            "Epoch 23/25\n",
            "469/469 [==============================] - 13s 27ms/step - loss: 0.0021 - accuracy: 0.9993\n",
            "Epoch 24/25\n",
            "469/469 [==============================] - 13s 27ms/step - loss: 0.0031 - accuracy: 0.9989\n",
            "Epoch 25/25\n",
            "469/469 [==============================] - 13s 28ms/step - loss: 0.0025 - accuracy: 0.9993\n",
            "313/313 [==============================] - 2s 6ms/step - loss: 0.1141 - accuracy: 0.9846\n",
            "test_acc: 0.9846000075340271\n"
          ]
        }
      ]
    },
    {
      "cell_type": "code",
      "source": [
        "from tensorflow import keras\n",
        "from tensorflow.keras import layers\n",
        "from tensorflow.keras.datasets import mnist\n",
        "(train_images, train_labels), (test_images, test_labels) = mnist.load_data()\n",
        "model = keras.Sequential([\n",
        "    layers.Dense(512, activation=\"relu\"),\n",
        "    layers.Dense(512, activation=\"relu\"),\n",
        "    layers.Dense(512, activation=\"tanh\"),\n",
        "    layers.Dense(512, activation=\"tanh\"),\n",
        "    layers.Dense(10, activation=\"softmax\")\n",
        "])\n",
        "\n",
        "model.compile(optimizer=\"rmsprop\",\n",
        "              loss=\"sparse_categorical_crossentropy\",\n",
        "              metrics=[\"accuracy\"])\n",
        "\n",
        "train_images = train_images.reshape((60000, 28 * 28))\n",
        "train_images = train_images.astype(\"float32\") / 255\n",
        "test_images = test_images.reshape((10000, 28 * 28))\n",
        "test_images = test_images.astype(\"float32\") / 255\n",
        "\n",
        "model.fit(train_images, train_labels, epochs=10, batch_size=128)\n",
        "test_loss, test_acc = model.evaluate(test_images, test_labels)\n",
        "print(f\"test_acc: {test_acc}\")\n"
      ],
      "metadata": {
        "colab": {
          "base_uri": "https://localhost:8080/"
        },
        "id": "X8W5R9L-a6kx",
        "outputId": "e27ea92f-24f8-4ad5-b153-f08085fac3c4"
      },
      "execution_count": null,
      "outputs": [
        {
          "output_type": "stream",
          "name": "stdout",
          "text": [
            "Epoch 1/10\n",
            "469/469 [==============================] - 25s 49ms/step - loss: 0.2586 - accuracy: 0.9209\n",
            "Epoch 2/10\n",
            "469/469 [==============================] - 15s 33ms/step - loss: 0.0915 - accuracy: 0.9722\n",
            "Epoch 3/10\n",
            "469/469 [==============================] - 12s 26ms/step - loss: 0.0606 - accuracy: 0.9811\n",
            "Epoch 4/10\n",
            "469/469 [==============================] - 12s 25ms/step - loss: 0.0430 - accuracy: 0.9869\n",
            "Epoch 5/10\n",
            "469/469 [==============================] - 14s 30ms/step - loss: 0.0318 - accuracy: 0.9898\n",
            "Epoch 6/10\n",
            "469/469 [==============================] - 12s 25ms/step - loss: 0.0241 - accuracy: 0.9925\n",
            "Epoch 7/10\n",
            "469/469 [==============================] - 12s 26ms/step - loss: 0.0196 - accuracy: 0.9937\n",
            "Epoch 8/10\n",
            "469/469 [==============================] - 12s 27ms/step - loss: 0.0174 - accuracy: 0.9946\n",
            "Epoch 9/10\n",
            "469/469 [==============================] - 12s 27ms/step - loss: 0.0129 - accuracy: 0.9958\n",
            "Epoch 10/10\n",
            "469/469 [==============================] - 13s 28ms/step - loss: 0.0119 - accuracy: 0.9959\n",
            "313/313 [==============================] - 1s 4ms/step - loss: 0.0929 - accuracy: 0.9801\n",
            "test_acc: 0.9800999760627747\n"
          ]
        }
      ]
    },
    {
      "cell_type": "markdown",
      "source": [
        "**2 relu + 2 tanh + 1 linear**"
      ],
      "metadata": {
        "id": "sMAORTFIkVN4"
      }
    },
    {
      "cell_type": "code",
      "source": [
        "from tensorflow import keras\n",
        "from tensorflow.keras import layers\n",
        "from tensorflow.keras.datasets import mnist\n",
        "(train_images, train_labels), (test_images, test_labels) = mnist.load_data()\n",
        "model = keras.Sequential([\n",
        "    layers.Dense(512, activation=\"relu\"),\n",
        "    layers.Dense(512, activation=\"relu\"),\n",
        "    layers.Dense(512, activation=\"tanh\"),\n",
        "    layers.Dense(512, activation=\"tanh\"),\n",
        "    layers.Dense(512, activation = \"linear\"),\n",
        "    layers.Dense(10, activation=\"softmax\")\n",
        "])\n",
        "\n",
        "model.compile(optimizer=\"rmsprop\",\n",
        "              loss=\"sparse_categorical_crossentropy\",\n",
        "              metrics=[\"accuracy\"])\n",
        "\n",
        "train_images = train_images.reshape((60000, 28 * 28))\n",
        "train_images = train_images.astype(\"float32\") / 255\n",
        "test_images = test_images.reshape((10000, 28 * 28))\n",
        "test_images = test_images.astype(\"float32\") / 255\n",
        "\n",
        "model.fit(train_images, train_labels, epochs=10, batch_size=128)\n",
        "test_loss, test_acc = model.evaluate(test_images, test_labels)\n",
        "print(f\"test_acc: {test_acc}\")\n"
      ],
      "metadata": {
        "colab": {
          "base_uri": "https://localhost:8080/",
          "height": 418
        },
        "id": "kkD1XTxbjDAj",
        "outputId": "468b5af8-66c8-4553-cabe-93577aa0851a"
      },
      "execution_count": null,
      "outputs": [
        {
          "output_type": "stream",
          "name": "stdout",
          "text": [
            "Epoch 1/10\n",
            "209/469 [============>.................] - ETA: 7s - loss: 0.4558 - accuracy: 0.8644"
          ]
        },
        {
          "output_type": "error",
          "ename": "KeyboardInterrupt",
          "evalue": "",
          "traceback": [
            "\u001b[0;31m---------------------------------------------------------------------------\u001b[0m",
            "\u001b[0;31mKeyboardInterrupt\u001b[0m                         Traceback (most recent call last)",
            "\u001b[0;32m<ipython-input-3-28755ba463ce>\u001b[0m in \u001b[0;36m<cell line: 23>\u001b[0;34m()\u001b[0m\n\u001b[1;32m     21\u001b[0m \u001b[0mtest_images\u001b[0m \u001b[0;34m=\u001b[0m \u001b[0mtest_images\u001b[0m\u001b[0;34m.\u001b[0m\u001b[0mastype\u001b[0m\u001b[0;34m(\u001b[0m\u001b[0;34m\"float32\"\u001b[0m\u001b[0;34m)\u001b[0m \u001b[0;34m/\u001b[0m \u001b[0;36m255\u001b[0m\u001b[0;34m\u001b[0m\u001b[0;34m\u001b[0m\u001b[0m\n\u001b[1;32m     22\u001b[0m \u001b[0;34m\u001b[0m\u001b[0m\n\u001b[0;32m---> 23\u001b[0;31m \u001b[0mmodel\u001b[0m\u001b[0;34m.\u001b[0m\u001b[0mfit\u001b[0m\u001b[0;34m(\u001b[0m\u001b[0mtrain_images\u001b[0m\u001b[0;34m,\u001b[0m \u001b[0mtrain_labels\u001b[0m\u001b[0;34m,\u001b[0m \u001b[0mepochs\u001b[0m\u001b[0;34m=\u001b[0m\u001b[0;36m10\u001b[0m\u001b[0;34m,\u001b[0m \u001b[0mbatch_size\u001b[0m\u001b[0;34m=\u001b[0m\u001b[0;36m128\u001b[0m\u001b[0;34m)\u001b[0m\u001b[0;34m\u001b[0m\u001b[0;34m\u001b[0m\u001b[0m\n\u001b[0m\u001b[1;32m     24\u001b[0m \u001b[0mtest_loss\u001b[0m\u001b[0;34m,\u001b[0m \u001b[0mtest_acc\u001b[0m \u001b[0;34m=\u001b[0m \u001b[0mmodel\u001b[0m\u001b[0;34m.\u001b[0m\u001b[0mevaluate\u001b[0m\u001b[0;34m(\u001b[0m\u001b[0mtest_images\u001b[0m\u001b[0;34m,\u001b[0m \u001b[0mtest_labels\u001b[0m\u001b[0;34m)\u001b[0m\u001b[0;34m\u001b[0m\u001b[0;34m\u001b[0m\u001b[0m\n\u001b[1;32m     25\u001b[0m \u001b[0mprint\u001b[0m\u001b[0;34m(\u001b[0m\u001b[0;34mf\"test_acc: {test_acc}\"\u001b[0m\u001b[0;34m)\u001b[0m\u001b[0;34m\u001b[0m\u001b[0;34m\u001b[0m\u001b[0m\n",
            "\u001b[0;32m/usr/local/lib/python3.10/dist-packages/keras/src/utils/traceback_utils.py\u001b[0m in \u001b[0;36merror_handler\u001b[0;34m(*args, **kwargs)\u001b[0m\n\u001b[1;32m     63\u001b[0m         \u001b[0mfiltered_tb\u001b[0m \u001b[0;34m=\u001b[0m \u001b[0;32mNone\u001b[0m\u001b[0;34m\u001b[0m\u001b[0;34m\u001b[0m\u001b[0m\n\u001b[1;32m     64\u001b[0m         \u001b[0;32mtry\u001b[0m\u001b[0;34m:\u001b[0m\u001b[0;34m\u001b[0m\u001b[0;34m\u001b[0m\u001b[0m\n\u001b[0;32m---> 65\u001b[0;31m             \u001b[0;32mreturn\u001b[0m \u001b[0mfn\u001b[0m\u001b[0;34m(\u001b[0m\u001b[0;34m*\u001b[0m\u001b[0margs\u001b[0m\u001b[0;34m,\u001b[0m \u001b[0;34m**\u001b[0m\u001b[0mkwargs\u001b[0m\u001b[0;34m)\u001b[0m\u001b[0;34m\u001b[0m\u001b[0;34m\u001b[0m\u001b[0m\n\u001b[0m\u001b[1;32m     66\u001b[0m         \u001b[0;32mexcept\u001b[0m \u001b[0mException\u001b[0m \u001b[0;32mas\u001b[0m \u001b[0me\u001b[0m\u001b[0;34m:\u001b[0m\u001b[0;34m\u001b[0m\u001b[0;34m\u001b[0m\u001b[0m\n\u001b[1;32m     67\u001b[0m             \u001b[0mfiltered_tb\u001b[0m \u001b[0;34m=\u001b[0m \u001b[0m_process_traceback_frames\u001b[0m\u001b[0;34m(\u001b[0m\u001b[0me\u001b[0m\u001b[0;34m.\u001b[0m\u001b[0m__traceback__\u001b[0m\u001b[0;34m)\u001b[0m\u001b[0;34m\u001b[0m\u001b[0;34m\u001b[0m\u001b[0m\n",
            "\u001b[0;32m/usr/local/lib/python3.10/dist-packages/keras/src/engine/training.py\u001b[0m in \u001b[0;36mfit\u001b[0;34m(self, x, y, batch_size, epochs, verbose, callbacks, validation_split, validation_data, shuffle, class_weight, sample_weight, initial_epoch, steps_per_epoch, validation_steps, validation_batch_size, validation_freq, max_queue_size, workers, use_multiprocessing)\u001b[0m\n\u001b[1;32m   1805\u001b[0m                         ):\n\u001b[1;32m   1806\u001b[0m                             \u001b[0mcallbacks\u001b[0m\u001b[0;34m.\u001b[0m\u001b[0mon_train_batch_begin\u001b[0m\u001b[0;34m(\u001b[0m\u001b[0mstep\u001b[0m\u001b[0;34m)\u001b[0m\u001b[0;34m\u001b[0m\u001b[0;34m\u001b[0m\u001b[0m\n\u001b[0;32m-> 1807\u001b[0;31m                             \u001b[0mtmp_logs\u001b[0m \u001b[0;34m=\u001b[0m \u001b[0mself\u001b[0m\u001b[0;34m.\u001b[0m\u001b[0mtrain_function\u001b[0m\u001b[0;34m(\u001b[0m\u001b[0miterator\u001b[0m\u001b[0;34m)\u001b[0m\u001b[0;34m\u001b[0m\u001b[0;34m\u001b[0m\u001b[0m\n\u001b[0m\u001b[1;32m   1808\u001b[0m                             \u001b[0;32mif\u001b[0m \u001b[0mdata_handler\u001b[0m\u001b[0;34m.\u001b[0m\u001b[0mshould_sync\u001b[0m\u001b[0;34m:\u001b[0m\u001b[0;34m\u001b[0m\u001b[0;34m\u001b[0m\u001b[0m\n\u001b[1;32m   1809\u001b[0m                                 \u001b[0mcontext\u001b[0m\u001b[0;34m.\u001b[0m\u001b[0masync_wait\u001b[0m\u001b[0;34m(\u001b[0m\u001b[0;34m)\u001b[0m\u001b[0;34m\u001b[0m\u001b[0;34m\u001b[0m\u001b[0m\n",
            "\u001b[0;32m/usr/local/lib/python3.10/dist-packages/tensorflow/python/util/traceback_utils.py\u001b[0m in \u001b[0;36merror_handler\u001b[0;34m(*args, **kwargs)\u001b[0m\n\u001b[1;32m    148\u001b[0m     \u001b[0mfiltered_tb\u001b[0m \u001b[0;34m=\u001b[0m \u001b[0;32mNone\u001b[0m\u001b[0;34m\u001b[0m\u001b[0;34m\u001b[0m\u001b[0m\n\u001b[1;32m    149\u001b[0m     \u001b[0;32mtry\u001b[0m\u001b[0;34m:\u001b[0m\u001b[0;34m\u001b[0m\u001b[0;34m\u001b[0m\u001b[0m\n\u001b[0;32m--> 150\u001b[0;31m       \u001b[0;32mreturn\u001b[0m \u001b[0mfn\u001b[0m\u001b[0;34m(\u001b[0m\u001b[0;34m*\u001b[0m\u001b[0margs\u001b[0m\u001b[0;34m,\u001b[0m \u001b[0;34m**\u001b[0m\u001b[0mkwargs\u001b[0m\u001b[0;34m)\u001b[0m\u001b[0;34m\u001b[0m\u001b[0;34m\u001b[0m\u001b[0m\n\u001b[0m\u001b[1;32m    151\u001b[0m     \u001b[0;32mexcept\u001b[0m \u001b[0mException\u001b[0m \u001b[0;32mas\u001b[0m \u001b[0me\u001b[0m\u001b[0;34m:\u001b[0m\u001b[0;34m\u001b[0m\u001b[0;34m\u001b[0m\u001b[0m\n\u001b[1;32m    152\u001b[0m       \u001b[0mfiltered_tb\u001b[0m \u001b[0;34m=\u001b[0m \u001b[0m_process_traceback_frames\u001b[0m\u001b[0;34m(\u001b[0m\u001b[0me\u001b[0m\u001b[0;34m.\u001b[0m\u001b[0m__traceback__\u001b[0m\u001b[0;34m)\u001b[0m\u001b[0;34m\u001b[0m\u001b[0;34m\u001b[0m\u001b[0m\n",
            "\u001b[0;32m/usr/local/lib/python3.10/dist-packages/tensorflow/python/eager/polymorphic_function/polymorphic_function.py\u001b[0m in \u001b[0;36m__call__\u001b[0;34m(self, *args, **kwds)\u001b[0m\n\u001b[1;32m    830\u001b[0m \u001b[0;34m\u001b[0m\u001b[0m\n\u001b[1;32m    831\u001b[0m       \u001b[0;32mwith\u001b[0m \u001b[0mOptionalXlaContext\u001b[0m\u001b[0;34m(\u001b[0m\u001b[0mself\u001b[0m\u001b[0;34m.\u001b[0m\u001b[0m_jit_compile\u001b[0m\u001b[0;34m)\u001b[0m\u001b[0;34m:\u001b[0m\u001b[0;34m\u001b[0m\u001b[0;34m\u001b[0m\u001b[0m\n\u001b[0;32m--> 832\u001b[0;31m         \u001b[0mresult\u001b[0m \u001b[0;34m=\u001b[0m \u001b[0mself\u001b[0m\u001b[0;34m.\u001b[0m\u001b[0m_call\u001b[0m\u001b[0;34m(\u001b[0m\u001b[0;34m*\u001b[0m\u001b[0margs\u001b[0m\u001b[0;34m,\u001b[0m \u001b[0;34m**\u001b[0m\u001b[0mkwds\u001b[0m\u001b[0;34m)\u001b[0m\u001b[0;34m\u001b[0m\u001b[0;34m\u001b[0m\u001b[0m\n\u001b[0m\u001b[1;32m    833\u001b[0m \u001b[0;34m\u001b[0m\u001b[0m\n\u001b[1;32m    834\u001b[0m       \u001b[0mnew_tracing_count\u001b[0m \u001b[0;34m=\u001b[0m \u001b[0mself\u001b[0m\u001b[0;34m.\u001b[0m\u001b[0mexperimental_get_tracing_count\u001b[0m\u001b[0;34m(\u001b[0m\u001b[0;34m)\u001b[0m\u001b[0;34m\u001b[0m\u001b[0;34m\u001b[0m\u001b[0m\n",
            "\u001b[0;32m/usr/local/lib/python3.10/dist-packages/tensorflow/python/eager/polymorphic_function/polymorphic_function.py\u001b[0m in \u001b[0;36m_call\u001b[0;34m(self, *args, **kwds)\u001b[0m\n\u001b[1;32m    866\u001b[0m       \u001b[0;31m# In this case we have created variables on the first call, so we run the\u001b[0m\u001b[0;34m\u001b[0m\u001b[0;34m\u001b[0m\u001b[0m\n\u001b[1;32m    867\u001b[0m       \u001b[0;31m# defunned version which is guaranteed to never create variables.\u001b[0m\u001b[0;34m\u001b[0m\u001b[0;34m\u001b[0m\u001b[0m\n\u001b[0;32m--> 868\u001b[0;31m       return tracing_compilation.call_function(\n\u001b[0m\u001b[1;32m    869\u001b[0m           \u001b[0margs\u001b[0m\u001b[0;34m,\u001b[0m \u001b[0mkwds\u001b[0m\u001b[0;34m,\u001b[0m \u001b[0mself\u001b[0m\u001b[0;34m.\u001b[0m\u001b[0m_no_variable_creation_config\u001b[0m\u001b[0;34m\u001b[0m\u001b[0;34m\u001b[0m\u001b[0m\n\u001b[1;32m    870\u001b[0m       )\n",
            "\u001b[0;32m/usr/local/lib/python3.10/dist-packages/tensorflow/python/eager/polymorphic_function/tracing_compilation.py\u001b[0m in \u001b[0;36mcall_function\u001b[0;34m(args, kwargs, tracing_options)\u001b[0m\n\u001b[1;32m    137\u001b[0m   \u001b[0mbound_args\u001b[0m \u001b[0;34m=\u001b[0m \u001b[0mfunction\u001b[0m\u001b[0;34m.\u001b[0m\u001b[0mfunction_type\u001b[0m\u001b[0;34m.\u001b[0m\u001b[0mbind\u001b[0m\u001b[0;34m(\u001b[0m\u001b[0;34m*\u001b[0m\u001b[0margs\u001b[0m\u001b[0;34m,\u001b[0m \u001b[0;34m**\u001b[0m\u001b[0mkwargs\u001b[0m\u001b[0;34m)\u001b[0m\u001b[0;34m\u001b[0m\u001b[0;34m\u001b[0m\u001b[0m\n\u001b[1;32m    138\u001b[0m   \u001b[0mflat_inputs\u001b[0m \u001b[0;34m=\u001b[0m \u001b[0mfunction\u001b[0m\u001b[0;34m.\u001b[0m\u001b[0mfunction_type\u001b[0m\u001b[0;34m.\u001b[0m\u001b[0munpack_inputs\u001b[0m\u001b[0;34m(\u001b[0m\u001b[0mbound_args\u001b[0m\u001b[0;34m)\u001b[0m\u001b[0;34m\u001b[0m\u001b[0;34m\u001b[0m\u001b[0m\n\u001b[0;32m--> 139\u001b[0;31m   return function._call_flat(  # pylint: disable=protected-access\n\u001b[0m\u001b[1;32m    140\u001b[0m       \u001b[0mflat_inputs\u001b[0m\u001b[0;34m,\u001b[0m \u001b[0mcaptured_inputs\u001b[0m\u001b[0;34m=\u001b[0m\u001b[0mfunction\u001b[0m\u001b[0;34m.\u001b[0m\u001b[0mcaptured_inputs\u001b[0m\u001b[0;34m\u001b[0m\u001b[0;34m\u001b[0m\u001b[0m\n\u001b[1;32m    141\u001b[0m   )\n",
            "\u001b[0;32m/usr/local/lib/python3.10/dist-packages/tensorflow/python/eager/polymorphic_function/concrete_function.py\u001b[0m in \u001b[0;36m_call_flat\u001b[0;34m(self, tensor_inputs, captured_inputs)\u001b[0m\n\u001b[1;32m   1321\u001b[0m         and executing_eagerly):\n\u001b[1;32m   1322\u001b[0m       \u001b[0;31m# No tape is watching; skip to running the function.\u001b[0m\u001b[0;34m\u001b[0m\u001b[0;34m\u001b[0m\u001b[0m\n\u001b[0;32m-> 1323\u001b[0;31m       \u001b[0;32mreturn\u001b[0m \u001b[0mself\u001b[0m\u001b[0;34m.\u001b[0m\u001b[0m_inference_function\u001b[0m\u001b[0;34m.\u001b[0m\u001b[0mcall_preflattened\u001b[0m\u001b[0;34m(\u001b[0m\u001b[0margs\u001b[0m\u001b[0;34m)\u001b[0m\u001b[0;34m\u001b[0m\u001b[0;34m\u001b[0m\u001b[0m\n\u001b[0m\u001b[1;32m   1324\u001b[0m     forward_backward = self._select_forward_and_backward_functions(\n\u001b[1;32m   1325\u001b[0m         \u001b[0margs\u001b[0m\u001b[0;34m,\u001b[0m\u001b[0;34m\u001b[0m\u001b[0;34m\u001b[0m\u001b[0m\n",
            "\u001b[0;32m/usr/local/lib/python3.10/dist-packages/tensorflow/python/eager/polymorphic_function/atomic_function.py\u001b[0m in \u001b[0;36mcall_preflattened\u001b[0;34m(self, args)\u001b[0m\n\u001b[1;32m    214\u001b[0m   \u001b[0;32mdef\u001b[0m \u001b[0mcall_preflattened\u001b[0m\u001b[0;34m(\u001b[0m\u001b[0mself\u001b[0m\u001b[0;34m,\u001b[0m \u001b[0margs\u001b[0m\u001b[0;34m:\u001b[0m \u001b[0mSequence\u001b[0m\u001b[0;34m[\u001b[0m\u001b[0mcore\u001b[0m\u001b[0;34m.\u001b[0m\u001b[0mTensor\u001b[0m\u001b[0;34m]\u001b[0m\u001b[0;34m)\u001b[0m \u001b[0;34m->\u001b[0m \u001b[0mAny\u001b[0m\u001b[0;34m:\u001b[0m\u001b[0;34m\u001b[0m\u001b[0;34m\u001b[0m\u001b[0m\n\u001b[1;32m    215\u001b[0m     \u001b[0;34m\"\"\"Calls with flattened tensor inputs and returns the structured output.\"\"\"\u001b[0m\u001b[0;34m\u001b[0m\u001b[0;34m\u001b[0m\u001b[0m\n\u001b[0;32m--> 216\u001b[0;31m     \u001b[0mflat_outputs\u001b[0m \u001b[0;34m=\u001b[0m \u001b[0mself\u001b[0m\u001b[0;34m.\u001b[0m\u001b[0mcall_flat\u001b[0m\u001b[0;34m(\u001b[0m\u001b[0;34m*\u001b[0m\u001b[0margs\u001b[0m\u001b[0;34m)\u001b[0m\u001b[0;34m\u001b[0m\u001b[0;34m\u001b[0m\u001b[0m\n\u001b[0m\u001b[1;32m    217\u001b[0m     \u001b[0;32mreturn\u001b[0m \u001b[0mself\u001b[0m\u001b[0;34m.\u001b[0m\u001b[0mfunction_type\u001b[0m\u001b[0;34m.\u001b[0m\u001b[0mpack_output\u001b[0m\u001b[0;34m(\u001b[0m\u001b[0mflat_outputs\u001b[0m\u001b[0;34m)\u001b[0m\u001b[0;34m\u001b[0m\u001b[0;34m\u001b[0m\u001b[0m\n\u001b[1;32m    218\u001b[0m \u001b[0;34m\u001b[0m\u001b[0m\n",
            "\u001b[0;32m/usr/local/lib/python3.10/dist-packages/tensorflow/python/eager/polymorphic_function/atomic_function.py\u001b[0m in \u001b[0;36mcall_flat\u001b[0;34m(self, *args)\u001b[0m\n\u001b[1;32m    249\u001b[0m         \u001b[0;32mwith\u001b[0m \u001b[0mrecord\u001b[0m\u001b[0;34m.\u001b[0m\u001b[0mstop_recording\u001b[0m\u001b[0;34m(\u001b[0m\u001b[0;34m)\u001b[0m\u001b[0;34m:\u001b[0m\u001b[0;34m\u001b[0m\u001b[0;34m\u001b[0m\u001b[0m\n\u001b[1;32m    250\u001b[0m           \u001b[0;32mif\u001b[0m \u001b[0mself\u001b[0m\u001b[0;34m.\u001b[0m\u001b[0m_bound_context\u001b[0m\u001b[0;34m.\u001b[0m\u001b[0mexecuting_eagerly\u001b[0m\u001b[0;34m(\u001b[0m\u001b[0;34m)\u001b[0m\u001b[0;34m:\u001b[0m\u001b[0;34m\u001b[0m\u001b[0;34m\u001b[0m\u001b[0m\n\u001b[0;32m--> 251\u001b[0;31m             outputs = self._bound_context.call_function(\n\u001b[0m\u001b[1;32m    252\u001b[0m                 \u001b[0mself\u001b[0m\u001b[0;34m.\u001b[0m\u001b[0mname\u001b[0m\u001b[0;34m,\u001b[0m\u001b[0;34m\u001b[0m\u001b[0;34m\u001b[0m\u001b[0m\n\u001b[1;32m    253\u001b[0m                 \u001b[0mlist\u001b[0m\u001b[0;34m(\u001b[0m\u001b[0margs\u001b[0m\u001b[0;34m)\u001b[0m\u001b[0;34m,\u001b[0m\u001b[0;34m\u001b[0m\u001b[0;34m\u001b[0m\u001b[0m\n",
            "\u001b[0;32m/usr/local/lib/python3.10/dist-packages/tensorflow/python/eager/context.py\u001b[0m in \u001b[0;36mcall_function\u001b[0;34m(self, name, tensor_inputs, num_outputs)\u001b[0m\n\u001b[1;32m   1484\u001b[0m     \u001b[0mcancellation_context\u001b[0m \u001b[0;34m=\u001b[0m \u001b[0mcancellation\u001b[0m\u001b[0;34m.\u001b[0m\u001b[0mcontext\u001b[0m\u001b[0;34m(\u001b[0m\u001b[0;34m)\u001b[0m\u001b[0;34m\u001b[0m\u001b[0;34m\u001b[0m\u001b[0m\n\u001b[1;32m   1485\u001b[0m     \u001b[0;32mif\u001b[0m \u001b[0mcancellation_context\u001b[0m \u001b[0;32mis\u001b[0m \u001b[0;32mNone\u001b[0m\u001b[0;34m:\u001b[0m\u001b[0;34m\u001b[0m\u001b[0;34m\u001b[0m\u001b[0m\n\u001b[0;32m-> 1486\u001b[0;31m       outputs = execute.execute(\n\u001b[0m\u001b[1;32m   1487\u001b[0m           \u001b[0mname\u001b[0m\u001b[0;34m.\u001b[0m\u001b[0mdecode\u001b[0m\u001b[0;34m(\u001b[0m\u001b[0;34m\"utf-8\"\u001b[0m\u001b[0;34m)\u001b[0m\u001b[0;34m,\u001b[0m\u001b[0;34m\u001b[0m\u001b[0;34m\u001b[0m\u001b[0m\n\u001b[1;32m   1488\u001b[0m           \u001b[0mnum_outputs\u001b[0m\u001b[0;34m=\u001b[0m\u001b[0mnum_outputs\u001b[0m\u001b[0;34m,\u001b[0m\u001b[0;34m\u001b[0m\u001b[0;34m\u001b[0m\u001b[0m\n",
            "\u001b[0;32m/usr/local/lib/python3.10/dist-packages/tensorflow/python/eager/execute.py\u001b[0m in \u001b[0;36mquick_execute\u001b[0;34m(op_name, num_outputs, inputs, attrs, ctx, name)\u001b[0m\n\u001b[1;32m     51\u001b[0m   \u001b[0;32mtry\u001b[0m\u001b[0;34m:\u001b[0m\u001b[0;34m\u001b[0m\u001b[0;34m\u001b[0m\u001b[0m\n\u001b[1;32m     52\u001b[0m     \u001b[0mctx\u001b[0m\u001b[0;34m.\u001b[0m\u001b[0mensure_initialized\u001b[0m\u001b[0;34m(\u001b[0m\u001b[0;34m)\u001b[0m\u001b[0;34m\u001b[0m\u001b[0;34m\u001b[0m\u001b[0m\n\u001b[0;32m---> 53\u001b[0;31m     tensors = pywrap_tfe.TFE_Py_Execute(ctx._handle, device_name, op_name,\n\u001b[0m\u001b[1;32m     54\u001b[0m                                         inputs, attrs, num_outputs)\n\u001b[1;32m     55\u001b[0m   \u001b[0;32mexcept\u001b[0m \u001b[0mcore\u001b[0m\u001b[0;34m.\u001b[0m\u001b[0m_NotOkStatusException\u001b[0m \u001b[0;32mas\u001b[0m \u001b[0me\u001b[0m\u001b[0;34m:\u001b[0m\u001b[0;34m\u001b[0m\u001b[0;34m\u001b[0m\u001b[0m\n",
            "\u001b[0;31mKeyboardInterrupt\u001b[0m: "
          ]
        }
      ]
    },
    {
      "cell_type": "code",
      "source": [
        "from tensorflow import keras\n",
        "from tensorflow.keras import layers\n",
        "from tensorflow.keras.datasets import mnist\n",
        "(train_images, train_labels), (test_images, test_labels) = mnist.load_data()\n",
        "model = keras.Sequential([\n",
        "    layers.Dense(512, activation=\"relu\"),\n",
        "    layers.Dense(512, activation=\"relu\"),\n",
        "    layers.Dense(512, activation=\"tanh\"),\n",
        "    layers.Dense(512, activation=\"tanh\"),\n",
        "    layers.Dense(512, activation = \"linear\"),\n",
        "    layers.Dense(512, activation = \"linear\"),\n",
        "    layers.Dense(10, activation=\"softmax\")\n",
        "])\n",
        "\n",
        "model.compile(optimizer=\"rmsprop\",\n",
        "              loss=\"sparse_categorical_crossentropy\",\n",
        "              metrics=[\"accuracy\"])\n",
        "\n",
        "train_images = train_images.reshape((60000, 28 * 28))\n",
        "train_images = train_images.astype(\"float32\") / 255\n",
        "test_images = test_images.reshape((10000, 28 * 28))\n",
        "test_images = test_images.astype(\"float32\") / 255\n",
        "\n",
        "model.fit(train_images, train_labels, epochs=10, batch_size=128)\n",
        "test_loss, test_acc = model.evaluate(test_images, test_labels)\n",
        "print(f\"test_acc: {test_acc}\")\n"
      ],
      "metadata": {
        "colab": {
          "base_uri": "https://localhost:8080/"
        },
        "id": "vh56exagkXiD",
        "outputId": "1aa082a0-caba-417a-fcf8-2ff5e8ea53d8"
      },
      "execution_count": null,
      "outputs": [
        {
          "output_type": "stream",
          "name": "stdout",
          "text": [
            "Epoch 1/10\n",
            "469/469 [==============================] - 40s 80ms/step - loss: 0.3459 - accuracy: 0.9025\n",
            "Epoch 2/10\n",
            "469/469 [==============================] - 17s 37ms/step - loss: 0.1214 - accuracy: 0.9648\n",
            "Epoch 3/10\n",
            "469/469 [==============================] - 17s 37ms/step - loss: 0.0797 - accuracy: 0.9771\n",
            "Epoch 4/10\n",
            "469/469 [==============================] - 18s 39ms/step - loss: 0.0555 - accuracy: 0.9831\n",
            "Epoch 5/10\n",
            "469/469 [==============================] - 17s 37ms/step - loss: 0.0441 - accuracy: 0.9872\n",
            "Epoch 6/10\n",
            "469/469 [==============================] - 17s 36ms/step - loss: 0.0353 - accuracy: 0.9898\n",
            "Epoch 7/10\n",
            "469/469 [==============================] - 20s 42ms/step - loss: 0.0274 - accuracy: 0.9919\n",
            "Epoch 8/10\n",
            "469/469 [==============================] - 18s 38ms/step - loss: 0.0240 - accuracy: 0.9931\n",
            "Epoch 9/10\n",
            "469/469 [==============================] - 17s 36ms/step - loss: 0.0193 - accuracy: 0.9942\n",
            "Epoch 10/10\n",
            "469/469 [==============================] - 24s 52ms/step - loss: 0.0181 - accuracy: 0.9949\n",
            "313/313 [==============================] - 2s 5ms/step - loss: 0.0793 - accuracy: 0.9823\n",
            "test_acc: 0.9822999835014343\n"
          ]
        }
      ]
    },
    {
      "cell_type": "code",
      "source": [
        "from tensorflow import keras\n",
        "from tensorflow.keras import layers\n",
        "from tensorflow.keras.datasets import mnist\n",
        "(train_images, train_labels), (test_images, test_labels) = mnist.load_data()\n",
        "model = keras.Sequential([\n",
        "    layers.Dense(512, activation=\"tanh\"),\n",
        "    layers.Dense(512, activation=\"tanh\"),\n",
        "    layers.Dense(512, activation=\"relu\"),\n",
        "    layers.Dense(512, activation=\"relu\"),\n",
        "    layers.Dense(512, activation = \"linear\"),\n",
        "    layers.Dense(512, activation = \"linear\"),\n",
        "    layers.Dense(10, activation=\"softmax\")\n",
        "])\n",
        "\n",
        "model.compile(optimizer=\"rmsprop\",\n",
        "              loss=\"sparse_categorical_crossentropy\",\n",
        "              metrics=[\"accuracy\"])\n",
        "\n",
        "train_images = train_images.reshape((60000, 28 * 28))\n",
        "train_images = train_images.astype(\"float32\") / 255\n",
        "test_images = test_images.reshape((10000, 28 * 28))\n",
        "test_images = test_images.astype(\"float32\") / 255\n",
        "\n",
        "model.fit(train_images, train_labels, epochs=10, batch_size=128)\n",
        "test_loss, test_acc = model.evaluate(test_images, test_labels)\n",
        "print(f\"test_acc: {test_acc}\")\n"
      ],
      "metadata": {
        "colab": {
          "base_uri": "https://localhost:8080/"
        },
        "id": "TH5xpHXAmKec",
        "outputId": "48212240-8509-4d55-81a2-7dba9927e2f8"
      },
      "execution_count": null,
      "outputs": [
        {
          "output_type": "stream",
          "name": "stdout",
          "text": [
            "Epoch 1/10\n",
            "469/469 [==============================] - 35s 70ms/step - loss: 0.4075 - accuracy: 0.8789\n",
            "Epoch 2/10\n",
            "469/469 [==============================] - 19s 41ms/step - loss: 0.1585 - accuracy: 0.9547\n",
            "Epoch 3/10\n",
            "469/469 [==============================] - 17s 37ms/step - loss: 0.1109 - accuracy: 0.9668\n",
            "Epoch 4/10\n",
            "469/469 [==============================] - 17s 37ms/step - loss: 0.0834 - accuracy: 0.9761\n",
            "Epoch 5/10\n",
            "469/469 [==============================] - 19s 40ms/step - loss: 0.0665 - accuracy: 0.9800\n",
            "Epoch 6/10\n",
            "469/469 [==============================] - 17s 37ms/step - loss: 0.0565 - accuracy: 0.9837\n",
            "Epoch 7/10\n",
            "469/469 [==============================] - 18s 39ms/step - loss: 0.0463 - accuracy: 0.9863\n",
            "Epoch 8/10\n",
            "469/469 [==============================] - 19s 40ms/step - loss: 0.0371 - accuracy: 0.9895\n",
            "Epoch 9/10\n",
            "469/469 [==============================] - 19s 40ms/step - loss: 0.0323 - accuracy: 0.9903\n",
            "Epoch 10/10\n",
            "469/469 [==============================] - 22s 47ms/step - loss: 0.0276 - accuracy: 0.9925\n",
            "313/313 [==============================] - 2s 5ms/step - loss: 0.1128 - accuracy: 0.9736\n",
            "test_acc: 0.9735999703407288\n"
          ]
        }
      ]
    },
    {
      "cell_type": "markdown",
      "source": [
        "# Confusion Matrix"
      ],
      "metadata": {
        "id": "gQNgVaAHdgju"
      }
    },
    {
      "cell_type": "code",
      "source": [
        "import numpy as np\n",
        "from tensorflow import keras\n",
        "from tensorflow.keras import layers\n",
        "from sklearn.metrics import confusion_matrix, ConfusionMatrixDisplay\n",
        "import matplotlib.pyplot as plt\n",
        "\n",
        "# Make predictions on the test data\n",
        "predictions = model.predict(test_images)\n",
        "\n",
        "# Convert the predicted probabilities to class labels\n",
        "predicted_labels = np.argmax(predictions, axis=1)\n",
        "\n",
        "# Generate the confusion matrix\n",
        "cm = confusion_matrix(test_labels, predicted_labels)\n",
        "\n",
        "# Plot the confusion matrix\n",
        "disp = ConfusionMatrixDisplay(confusion_matrix=cm, display_labels=range(10))\n",
        "disp.plot(cmap=plt.cm.Blues)\n",
        "plt.show()"
      ],
      "metadata": {
        "colab": {
          "base_uri": "https://localhost:8080/",
          "height": 467
        },
        "id": "AVG9aXOvdit7",
        "outputId": "7e0c6e84-7874-401e-cce5-680c60073bc6"
      },
      "execution_count": null,
      "outputs": [
        {
          "output_type": "stream",
          "name": "stdout",
          "text": [
            "\u001b[1m313/313\u001b[0m \u001b[32m━━━━━━━━━━━━━━━━━━━━\u001b[0m\u001b[37m\u001b[0m \u001b[1m3s\u001b[0m 10ms/step\n"
          ]
        },
        {
          "output_type": "display_data",
          "data": {
            "text/plain": [
              "<Figure size 640x480 with 2 Axes>"
            ],
            "image/png": "[encoded data removed]"
          },
          "metadata": {}
        }
      ]
    },
    {
      "cell_type": "code",
      "source": [
        "import numpy as np\n",
        "from tensorflow import keras\n",
        "from tensorflow.keras import layers\n",
        "from sklearn.metrics import confusion_matrix, ConfusionMatrixDisplay\n",
        "import matplotlib.pyplot as plt\n",
        "\n",
        "# Make predictions on the test data\n",
        "predictions = model.predict(test_images)\n",
        "\n",
        "# Convert the predicted probabilities to class labels\n",
        "predicted_labels = np.argmax(predictions, axis=1)\n",
        "\n",
        "# Generate the confusion matrix\n",
        "cm = confusion_matrix(test_labels, predicted_labels)\n",
        "\n",
        "# Plot the confusion matrix\n",
        "disp = ConfusionMatrixDisplay(confusion_matrix=cm, display_labels=range(10))\n",
        "disp.plot(cmap=plt.cm.Blues)\n",
        "plt.show()"
      ],
      "metadata": {
        "colab": {
          "base_uri": "https://localhost:8080/",
          "height": 467
        },
        "id": "5ks31LO6wpnv",
        "outputId": "88c8d8a6-3b77-46d3-c267-ed899894e589"
      },
      "execution_count": 2,
      "outputs": [
        {
          "output_type": "stream",
          "name": "stdout",
          "text": [
            "313/313 [==============================] - 5s 14ms/step\n"
          ]
        },
        {
          "output_type": "display_data",
          "data": {
            "text/plain": [
              "<Figure size 640x480 with 2 Axes>"
            ],
            "image/png": "[encoded data removed]"
          },
          "metadata": {}
        }
      ]
    },
    {
      "cell_type": "code",
      "source": [],
      "metadata": {
        "id": "I3n4lhWYW1Si"
      },
      "execution_count": null,
      "outputs": []
    },
    {
      "cell_type": "markdown",
      "metadata": {
        "id": "8qtRbapVo2sP"
      },
      "source": [
        "**Using the model to make predictions**"
      ]
    },
    {
      "cell_type": "code",
      "execution_count": null,
      "metadata": {
        "id": "XnzAJtv_o2sP",
        "colab": {
          "base_uri": "https://localhost:8080/"
        },
        "outputId": "8f6ca573-7345-4435-8c83-779a01791c37"
      },
      "outputs": [
        {
          "output_type": "stream",
          "name": "stdout",
          "text": [
            "1/1 [==============================] - 0s 102ms/step\n"
          ]
        },
        {
          "output_type": "execute_result",
          "data": {
            "text/plain": [
              "array([1.3526715e-09, 1.1754625e-07, 9.6653393e-06, 4.6834437e-05,\n",
              "       5.2629591e-13, 2.6594373e-09, 4.8590656e-13, 9.9994308e-01,\n",
              "       2.6685493e-08, 1.9459107e-07], dtype=float32)"
            ]
          },
          "metadata": {},
          "execution_count": 16
        }
      ],
      "source": [
        "test_digits = test_images[0:10]\n",
        "predictions = model.predict(test_digits)\n",
        "predictions[0]"
      ]
    },
    {
      "cell_type": "code",
      "source": [
        "sum(predictions[0])"
      ],
      "metadata": {
        "colab": {
          "base_uri": "https://localhost:8080/"
        },
        "id": "ktdXrwQsycE4",
        "outputId": "161e90ad-4af3-46c0-d982-67bf9fed3c2c"
      },
      "execution_count": null,
      "outputs": [
        {
          "output_type": "execute_result",
          "data": {
            "text/plain": [
              "0.9999999201764626"
            ]
          },
          "metadata": {},
          "execution_count": 17
        }
      ]
    },
    {
      "cell_type": "code",
      "execution_count": null,
      "metadata": {
        "id": "J7-4nqcTo2sQ",
        "colab": {
          "base_uri": "https://localhost:8080/"
        },
        "outputId": "14f9f097-a61d-4b4a-9f2d-b95983a48b22"
      },
      "outputs": [
        {
          "output_type": "execute_result",
          "data": {
            "text/plain": [
              "7"
            ]
          },
          "metadata": {},
          "execution_count": 18
        }
      ],
      "source": [
        "predictions[0].argmax()"
      ]
    },
    {
      "cell_type": "code",
      "execution_count": null,
      "metadata": {
        "id": "Vm43xXFMo2sQ",
        "colab": {
          "base_uri": "https://localhost:8080/"
        },
        "outputId": "a2ed7ffc-4669-46f1-c27c-c54e1bd37440"
      },
      "outputs": [
        {
          "output_type": "execute_result",
          "data": {
            "text/plain": [
              "0.9999431"
            ]
          },
          "metadata": {},
          "execution_count": 19
        }
      ],
      "source": [
        "predictions[0][7]"
      ]
    },
    {
      "cell_type": "code",
      "execution_count": null,
      "metadata": {
        "id": "J9q6eJR0o2sQ",
        "colab": {
          "base_uri": "https://localhost:8080/"
        },
        "outputId": "982ae5db-87c8-4416-8564-a9e2ed2bd0fe"
      },
      "outputs": [
        {
          "output_type": "execute_result",
          "data": {
            "text/plain": [
              "7"
            ]
          },
          "metadata": {},
          "execution_count": 20
        }
      ],
      "source": [
        "test_labels[0]"
      ]
    },
    {
      "cell_type": "markdown",
      "metadata": {
        "id": "DJazg3vBo2sQ"
      },
      "source": [
        "**Evaluating the model on new data**"
      ]
    },
    {
      "cell_type": "code",
      "execution_count": null,
      "metadata": {
        "id": "78H9PTNKo2sR",
        "colab": {
          "base_uri": "https://localhost:8080/"
        },
        "outputId": "68dca963-ea14-439a-fad3-9e977f4d7c86"
      },
      "outputs": [
        {
          "output_type": "stream",
          "name": "stdout",
          "text": [
            "313/313 [==============================] - 1s 4ms/step - loss: 0.0871 - accuracy: 0.9762\n",
            "test_acc: 0.9761999845504761\n"
          ]
        }
      ],
      "source": [
        "test_loss, test_acc = model.evaluate(test_images, test_labels)\n",
        "print(f\"test_acc: {test_acc}\")"
      ]
    },
    {
      "cell_type": "markdown",
      "metadata": {
        "id": "XViBYjGho2sR"
      },
      "source": [
        "## Data representations for neural networks"
      ]
    },
    {
      "cell_type": "markdown",
      "metadata": {
        "id": "E2L1sDr8o2sR"
      },
      "source": [
        "### Scalars (rank-0 tensors)"
      ]
    },
    {
      "cell_type": "code",
      "execution_count": null,
      "metadata": {
        "id": "m_6JBzxPo2sR",
        "colab": {
          "base_uri": "https://localhost:8080/"
        },
        "outputId": "2fefe4cd-422a-462a-dd6f-c84d4cac5c56"
      },
      "outputs": [
        {
          "output_type": "execute_result",
          "data": {
            "text/plain": [
              "array(12)"
            ]
          },
          "metadata": {},
          "execution_count": 22
        }
      ],
      "source": [
        "import numpy as np\n",
        "x = np.array(12)\n",
        "x"
      ]
    },
    {
      "cell_type": "code",
      "execution_count": null,
      "metadata": {
        "id": "79f_ogypo2sS",
        "colab": {
          "base_uri": "https://localhost:8080/"
        },
        "outputId": "e47dd6c2-89c4-49bc-a545-a4bdf5910f24"
      },
      "outputs": [
        {
          "output_type": "execute_result",
          "data": {
            "text/plain": [
              "0"
            ]
          },
          "metadata": {},
          "execution_count": 23
        }
      ],
      "source": [
        "x.ndim"
      ]
    },
    {
      "cell_type": "markdown",
      "metadata": {
        "id": "LSKqtNzEo2sS"
      },
      "source": [
        "### Vectors (rank-1 tensors)"
      ]
    },
    {
      "cell_type": "code",
      "execution_count": null,
      "metadata": {
        "id": "7U_rS7T0o2sT",
        "colab": {
          "base_uri": "https://localhost:8080/"
        },
        "outputId": "89c42ef0-9b23-4cb9-d2cf-0596cff18ef3"
      },
      "outputs": [
        {
          "output_type": "execute_result",
          "data": {
            "text/plain": [
              "array([12,  3,  6, 14,  7])"
            ]
          },
          "metadata": {},
          "execution_count": 24
        }
      ],
      "source": [
        "x = np.array([12, 3, 6, 14, 7])\n",
        "x"
      ]
    },
    {
      "cell_type": "code",
      "execution_count": null,
      "metadata": {
        "id": "r_9p6XTPo2sT",
        "colab": {
          "base_uri": "https://localhost:8080/"
        },
        "outputId": "a632ac40-1418-4809-db07-3db426aab3bf"
      },
      "outputs": [
        {
          "output_type": "execute_result",
          "data": {
            "text/plain": [
              "1"
            ]
          },
          "metadata": {},
          "execution_count": 25
        }
      ],
      "source": [
        "x.ndim"
      ]
    },
    {
      "cell_type": "markdown",
      "metadata": {
        "id": "fqpLVNsOo2sU"
      },
      "source": [
        "### Matrices (rank-2 tensors)"
      ]
    },
    {
      "cell_type": "code",
      "execution_count": null,
      "metadata": {
        "id": "mmWQufVso2sV",
        "colab": {
          "base_uri": "https://localhost:8080/"
        },
        "outputId": "d04587e7-47d5-41ad-af06-8953a2d28a91"
      },
      "outputs": [
        {
          "output_type": "execute_result",
          "data": {
            "text/plain": [
              "2"
            ]
          },
          "metadata": {},
          "execution_count": 26
        }
      ],
      "source": [
        "x = np.array([[5, 78, 2, 34, 0],\n",
        "              [6, 79, 3, 35, 1],\n",
        "              [7, 80, 4, 36, 2]])\n",
        "x.ndim"
      ]
    },
    {
      "cell_type": "markdown",
      "metadata": {
        "id": "I7mGRMIko2sV"
      },
      "source": [
        "### Rank-3 and higher-rank tensors"
      ]
    },
    {
      "cell_type": "code",
      "execution_count": null,
      "metadata": {
        "id": "qTtn8tpMo2sV",
        "colab": {
          "base_uri": "https://localhost:8080/"
        },
        "outputId": "22937b76-1aec-4f62-ba89-2973e43ae15b"
      },
      "outputs": [
        {
          "output_type": "execute_result",
          "data": {
            "text/plain": [
              "3"
            ]
          },
          "metadata": {},
          "execution_count": 27
        }
      ],
      "source": [
        "x = np.array([[[5, 78, 2, 34, 0],\n",
        "               [6, 79, 3, 35, 1],\n",
        "               [7, 80, 4, 36, 2]],\n",
        "              [[5, 78, 2, 34, 0],\n",
        "               [6, 79, 3, 35, 1],\n",
        "               [7, 80, 4, 36, 2]],\n",
        "              [[5, 78, 2, 34, 0],\n",
        "               [6, 79, 3, 35, 1],\n",
        "               [7, 80, 4, 36, 2]]])\n",
        "x.ndim"
      ]
    },
    {
      "cell_type": "markdown",
      "metadata": {
        "id": "ZKo75JB3o2sW"
      },
      "source": [
        "### Key attributes"
      ]
    },
    {
      "cell_type": "code",
      "execution_count": null,
      "metadata": {
        "id": "1imlGV79o2sW"
      },
      "outputs": [],
      "source": [
        "from tensorflow.keras.datasets import mnist\n",
        "(train_images, train_labels), (test_images, test_labels) = mnist.load_data()"
      ]
    },
    {
      "cell_type": "code",
      "execution_count": null,
      "metadata": {
        "id": "KQHUliRTo2sX",
        "colab": {
          "base_uri": "https://localhost:8080/"
        },
        "outputId": "38e13e65-5e49-4ca3-f984-2456b433c3ce"
      },
      "outputs": [
        {
          "output_type": "execute_result",
          "data": {
            "text/plain": [
              "3"
            ]
          },
          "metadata": {},
          "execution_count": 29
        }
      ],
      "source": [
        "train_images.ndim"
      ]
    },
    {
      "cell_type": "code",
      "execution_count": null,
      "metadata": {
        "id": "apZY8Rpco2sX",
        "colab": {
          "base_uri": "https://localhost:8080/"
        },
        "outputId": "7ac853b0-9d6b-4a62-e68c-bf6d564c4612"
      },
      "outputs": [
        {
          "output_type": "execute_result",
          "data": {
            "text/plain": [
              "(60000, 28, 28)"
            ]
          },
          "metadata": {},
          "execution_count": 30
        }
      ],
      "source": [
        "train_images.shape"
      ]
    },
    {
      "cell_type": "code",
      "execution_count": null,
      "metadata": {
        "id": "2qVQwe02o2sX",
        "colab": {
          "base_uri": "https://localhost:8080/"
        },
        "outputId": "488c09b6-531f-49fd-bbb3-a111b0841e0a"
      },
      "outputs": [
        {
          "output_type": "execute_result",
          "data": {
            "text/plain": [
              "dtype('uint8')"
            ]
          },
          "metadata": {},
          "execution_count": 31
        }
      ],
      "source": [
        "train_images.dtype"
      ]
    },
    {
      "cell_type": "markdown",
      "metadata": {
        "id": "1yBZhGCNo2sY"
      },
      "source": [
        "**Displaying the fourth digit**"
      ]
    },
    {
      "cell_type": "code",
      "execution_count": null,
      "metadata": {
        "id": "g276K2PBo2sY",
        "colab": {
          "base_uri": "https://localhost:8080/",
          "height": 430
        },
        "outputId": "50cf9d7a-fc4b-4cda-a62e-f3a2cf587fb2"
      },
      "outputs": [
        {
          "output_type": "display_data",
          "data": {
            "text/plain": [
              "<Figure size 640x480 with 1 Axes>"
            ],
            "image/png": "[encoded data removed]"
          },
          "metadata": {}
        }
      ],
      "source": [
        "import matplotlib.pyplot as plt\n",
        "digit = train_images[4]\n",
        "plt.imshow(digit, cmap=plt.cm.binary)\n",
        "plt.show()"
      ]
    },
    {
      "cell_type": "code",
      "execution_count": null,
      "metadata": {
        "id": "sdw8LsGoo2sY",
        "colab": {
          "base_uri": "https://localhost:8080/"
        },
        "outputId": "e7dbe2a9-7c5e-4348-d207-7c4cfcc90a83"
      },
      "outputs": [
        {
          "output_type": "execute_result",
          "data": {
            "text/plain": [
              "9"
            ]
          },
          "metadata": {},
          "execution_count": 33
        }
      ],
      "source": [
        "train_labels[4]"
      ]
    },
    {
      "cell_type": "markdown",
      "metadata": {
        "id": "bMrCpdJuo2sZ"
      },
      "source": [
        "### Manipulating tensors in NumPy"
      ]
    },
    {
      "cell_type": "code",
      "execution_count": null,
      "metadata": {
        "id": "VuDvwNZso2sZ",
        "colab": {
          "base_uri": "https://localhost:8080/"
        },
        "outputId": "e9d01fee-7c25-4897-b2a6-4d4daae3ccd0"
      },
      "outputs": [
        {
          "output_type": "execute_result",
          "data": {
            "text/plain": [
              "(90, 28, 28)"
            ]
          },
          "metadata": {},
          "execution_count": 34
        }
      ],
      "source": [
        "my_slice = train_images[10:100]\n",
        "my_slice.shape"
      ]
    },
    {
      "cell_type": "code",
      "execution_count": null,
      "metadata": {
        "id": "hxVKJOEuo2sZ",
        "colab": {
          "base_uri": "https://localhost:8080/"
        },
        "outputId": "5ef53f96-3438-47e2-fa89-87cd894bbd27"
      },
      "outputs": [
        {
          "output_type": "execute_result",
          "data": {
            "text/plain": [
              "(90, 28, 28)"
            ]
          },
          "metadata": {},
          "execution_count": 35
        }
      ],
      "source": [
        "my_slice = train_images[10:100, :, :]\n",
        "my_slice.shape"
      ]
    },
    {
      "cell_type": "code",
      "execution_count": null,
      "metadata": {
        "id": "wfl-StaGo2sZ",
        "colab": {
          "base_uri": "https://localhost:8080/"
        },
        "outputId": "0a7e5309-7ddb-463a-eeff-2eae37e2ab73"
      },
      "outputs": [
        {
          "output_type": "execute_result",
          "data": {
            "text/plain": [
              "(90, 28, 28)"
            ]
          },
          "metadata": {},
          "execution_count": 36
        }
      ],
      "source": [
        "my_slice = train_images[10:100, 0:28, 0:28]\n",
        "my_slice.shape"
      ]
    },
    {
      "cell_type": "code",
      "execution_count": null,
      "metadata": {
        "id": "Ph5jUfbQo2sZ"
      },
      "outputs": [],
      "source": [
        "my_slice = train_images[:, 14:, 14:]"
      ]
    },
    {
      "cell_type": "code",
      "execution_count": null,
      "metadata": {
        "id": "t88Y5u1vo2sa"
      },
      "outputs": [],
      "source": [
        "my_slice = train_images[:, 7:-7, 7:-7]"
      ]
    },
    {
      "cell_type": "markdown",
      "metadata": {
        "id": "1yk5KiQoo2sa"
      },
      "source": [
        "### The notion of data batches"
      ]
    },
    {
      "cell_type": "code",
      "execution_count": null,
      "metadata": {
        "id": "Lrm0ENRPo2sa"
      },
      "outputs": [],
      "source": [
        "batch = train_images[:128]"
      ]
    },
    {
      "cell_type": "code",
      "execution_count": null,
      "metadata": {
        "id": "uFAttYQyo2sa"
      },
      "outputs": [],
      "source": [
        "batch = train_images[128:256]"
      ]
    },
    {
      "cell_type": "code",
      "execution_count": null,
      "metadata": {
        "id": "KQF0ea_fo2sb"
      },
      "outputs": [],
      "source": [
        "n = 3\n",
        "batch = train_images[128 * n:128 * (n + 1)]"
      ]
    },
    {
      "cell_type": "markdown",
      "metadata": {
        "id": "8LpcvkKdo2sb"
      },
      "source": [
        "### Real-world examples of data tensors"
      ]
    },
    {
      "cell_type": "markdown",
      "metadata": {
        "id": "m5rRGyZWo2sb"
      },
      "source": [
        "### Vector data"
      ]
    },
    {
      "cell_type": "markdown",
      "metadata": {
        "id": "-O_HXLw6o2sb"
      },
      "source": [
        "### Timeseries data or sequence data"
      ]
    },
    {
      "cell_type": "markdown",
      "metadata": {
        "id": "KJy_g6Ybo2sb"
      },
      "source": [
        "### Image data"
      ]
    },
    {
      "cell_type": "markdown",
      "metadata": {
        "id": "Tq5WMpVNo2sc"
      },
      "source": [
        "### Video data"
      ]
    },
    {
      "cell_type": "markdown",
      "metadata": {
        "id": "OI2UU-Bzo2sc"
      },
      "source": [
        "## The gears of neural networks: tensor operations"
      ]
    },
    {
      "cell_type": "markdown",
      "metadata": {
        "id": "kR04mtYyo2sc"
      },
      "source": [
        "### Element-wise operations"
      ]
    },
    {
      "cell_type": "code",
      "execution_count": null,
      "metadata": {
        "id": "YIrpbvkvo2sc"
      },
      "outputs": [],
      "source": [
        "def naive_relu(x):\n",
        "    assert len(x.shape) == 2\n",
        "    x = x.copy()\n",
        "    for i in range(x.shape[0]):\n",
        "        for j in range(x.shape[1]):\n",
        "            x[i, j] = max(x[i, j], 0)\n",
        "    return x"
      ]
    },
    {
      "cell_type": "code",
      "execution_count": null,
      "metadata": {
        "id": "xuirKnpro2sc"
      },
      "outputs": [],
      "source": [
        "def naive_add(x, y):\n",
        "    assert len(x.shape) == 2\n",
        "    assert x.shape == y.shape\n",
        "    x = x.copy()\n",
        "    for i in range(x.shape[0]):\n",
        "        for j in range(x.shape[1]):\n",
        "            x[i, j] += y[i, j]\n",
        "    return x"
      ]
    },
    {
      "cell_type": "code",
      "execution_count": null,
      "metadata": {
        "id": "e9PN25IHo2sc",
        "colab": {
          "base_uri": "https://localhost:8080/"
        },
        "outputId": "9c9ebc05-040a-4b4d-fbf3-092ca24a3ced"
      },
      "outputs": [
        {
          "output_type": "stream",
          "name": "stdout",
          "text": [
            "Took: 0.01 s\n"
          ]
        }
      ],
      "source": [
        "import time\n",
        "\n",
        "x = np.random.random((20, 100))\n",
        "y = np.random.random((20, 100))\n",
        "\n",
        "t0 = time.time()\n",
        "for _ in range(1000):\n",
        "    z = x + y\n",
        "    z = np.maximum(z, 0.)\n",
        "print(\"Took: {0:.2f} s\".format(time.time() - t0))"
      ]
    },
    {
      "cell_type": "code",
      "execution_count": null,
      "metadata": {
        "id": "ANuxO5Xxo2sd",
        "colab": {
          "base_uri": "https://localhost:8080/"
        },
        "outputId": "e8d5bc29-0d04-40db-e191-4290129de7f4"
      },
      "outputs": [
        {
          "output_type": "stream",
          "name": "stdout",
          "text": [
            "Took: 2.93 s\n"
          ]
        }
      ],
      "source": [
        "t0 = time.time()\n",
        "for _ in range(1000):\n",
        "    z = naive_add(x, y)\n",
        "    z = naive_relu(z)\n",
        "print(\"Took: {0:.2f} s\".format(time.time() - t0))"
      ]
    },
    {
      "cell_type": "markdown",
      "metadata": {
        "id": "FxrWvz1Lo2sd"
      },
      "source": [
        "### Broadcasting"
      ]
    },
    {
      "cell_type": "code",
      "execution_count": null,
      "metadata": {
        "id": "wPVK8B-Xo2sd"
      },
      "outputs": [],
      "source": [
        "import numpy as np\n",
        "X = np.random.random((32, 10))\n",
        "y = np.random.random((10,))"
      ]
    },
    {
      "cell_type": "code",
      "execution_count": null,
      "metadata": {
        "id": "GQvPJwRno2sd"
      },
      "outputs": [],
      "source": [
        "y = np.expand_dims(y, axis=0)"
      ]
    },
    {
      "cell_type": "code",
      "execution_count": null,
      "metadata": {
        "id": "SFV273gOo2sd"
      },
      "outputs": [],
      "source": [
        "Y = np.concatenate([y] * 32, axis=0)"
      ]
    },
    {
      "cell_type": "code",
      "execution_count": null,
      "metadata": {
        "id": "-zvzrEPuo2se"
      },
      "outputs": [],
      "source": [
        "def naive_add_matrix_and_vector(x, y):\n",
        "    assert len(x.shape) == 2\n",
        "    assert len(y.shape) == 1\n",
        "    assert x.shape[1] == y.shape[0]\n",
        "    x = x.copy()\n",
        "    for i in range(x.shape[0]):\n",
        "        for j in range(x.shape[1]):\n",
        "            x[i, j] += y[j]\n",
        "    return x"
      ]
    },
    {
      "cell_type": "code",
      "execution_count": null,
      "metadata": {
        "id": "Aw7sTeK4o2se"
      },
      "outputs": [],
      "source": [
        "import numpy as np\n",
        "x = np.random.random((64, 3, 32, 10))\n",
        "y = np.random.random((32, 10))\n",
        "z = np.maximum(x, y)"
      ]
    },
    {
      "cell_type": "markdown",
      "metadata": {
        "id": "PY5Xt0-No2se"
      },
      "source": [
        "### Tensor product"
      ]
    },
    {
      "cell_type": "code",
      "execution_count": null,
      "metadata": {
        "id": "8HiHGDi7o2se"
      },
      "outputs": [],
      "source": [
        "x = np.random.random((32,))\n",
        "y = np.random.random((32,))\n",
        "z = np.dot(x, y)"
      ]
    },
    {
      "cell_type": "code",
      "execution_count": null,
      "metadata": {
        "id": "g8hGNn4wo2sf"
      },
      "outputs": [],
      "source": [
        "def naive_vector_dot(x, y):\n",
        "    assert len(x.shape) == 1\n",
        "    assert len(y.shape) == 1\n",
        "    assert x.shape[0] == y.shape[0]\n",
        "    z = 0.\n",
        "    for i in range(x.shape[0]):\n",
        "        z += x[i] * y[i]\n",
        "    return z"
      ]
    },
    {
      "cell_type": "code",
      "execution_count": null,
      "metadata": {
        "id": "JbbbgsHjo2sf"
      },
      "outputs": [],
      "source": [
        "def naive_matrix_vector_dot(x, y):\n",
        "    assert len(x.shape) == 2\n",
        "    assert len(y.shape) == 1\n",
        "    assert x.shape[1] == y.shape[0]\n",
        "    z = np.zeros(x.shape[0])\n",
        "    for i in range(x.shape[0]):\n",
        "        for j in range(x.shape[1]):\n",
        "            z[i] += x[i, j] * y[j]\n",
        "    return z"
      ]
    },
    {
      "cell_type": "code",
      "execution_count": null,
      "metadata": {
        "id": "QYfoK06Co2sf"
      },
      "outputs": [],
      "source": [
        "def naive_matrix_vector_dot(x, y):\n",
        "    z = np.zeros(x.shape[0])\n",
        "    for i in range(x.shape[0]):\n",
        "        z[i] = naive_vector_dot(x[i, :], y)\n",
        "    return z"
      ]
    },
    {
      "cell_type": "code",
      "execution_count": null,
      "metadata": {
        "id": "Xd8VANIEo2sf"
      },
      "outputs": [],
      "source": [
        "def naive_matrix_dot(x, y):\n",
        "    assert len(x.shape) == 2\n",
        "    assert len(y.shape) == 2\n",
        "    assert x.shape[1] == y.shape[0]\n",
        "    z = np.zeros((x.shape[0], y.shape[1]))\n",
        "    for i in range(x.shape[0]):\n",
        "        for j in range(y.shape[1]):\n",
        "            row_x = x[i, :]\n",
        "            column_y = y[:, j]\n",
        "            z[i, j] = naive_vector_dot(row_x, column_y)\n",
        "    return z"
      ]
    },
    {
      "cell_type": "markdown",
      "metadata": {
        "id": "NEhMpNwMo2sf"
      },
      "source": [
        "### Tensor reshaping"
      ]
    },
    {
      "cell_type": "code",
      "execution_count": null,
      "metadata": {
        "id": "rhCaIBjGo2sg"
      },
      "outputs": [],
      "source": [
        "train_images = train_images.reshape((60000, 28 * 28))"
      ]
    },
    {
      "cell_type": "code",
      "execution_count": null,
      "metadata": {
        "id": "gKDG83Qso2sg",
        "colab": {
          "base_uri": "https://localhost:8080/"
        },
        "outputId": "9e080740-853b-4bd9-e1aa-f7545b6a6113"
      },
      "outputs": [
        {
          "output_type": "execute_result",
          "data": {
            "text/plain": [
              "(3, 2)"
            ]
          },
          "metadata": {},
          "execution_count": 57
        }
      ],
      "source": [
        "x = np.array([[0., 1.],\n",
        "             [2., 3.],\n",
        "             [4., 5.]])\n",
        "x.shape"
      ]
    },
    {
      "cell_type": "code",
      "execution_count": null,
      "metadata": {
        "id": "iFjTwEgto2sg",
        "colab": {
          "base_uri": "https://localhost:8080/"
        },
        "outputId": "5350e3a9-ab86-40da-c606-cf19a5b8c56a"
      },
      "outputs": [
        {
          "output_type": "execute_result",
          "data": {
            "text/plain": [
              "array([[0.],\n",
              "       [1.],\n",
              "       [2.],\n",
              "       [3.],\n",
              "       [4.],\n",
              "       [5.]])"
            ]
          },
          "metadata": {},
          "execution_count": 58
        }
      ],
      "source": [
        "x = x.reshape((6, 1))\n",
        "x"
      ]
    },
    {
      "cell_type": "code",
      "execution_count": null,
      "metadata": {
        "id": "8qR8M04ko2sg",
        "colab": {
          "base_uri": "https://localhost:8080/"
        },
        "outputId": "3d9dce2d-52c0-45cb-99ec-ac0d8e1ddd34"
      },
      "outputs": [
        {
          "output_type": "execute_result",
          "data": {
            "text/plain": [
              "(20, 300)"
            ]
          },
          "metadata": {},
          "execution_count": 59
        }
      ],
      "source": [
        "x = np.zeros((300, 20))\n",
        "x = np.transpose(x)\n",
        "x.shape"
      ]
    },
    {
      "cell_type": "markdown",
      "metadata": {
        "id": "vsg2D3Kho2sg"
      },
      "source": [
        "### Geometric interpretation of tensor operations"
      ]
    },
    {
      "cell_type": "markdown",
      "metadata": {
        "id": "MfqvU4Gwo2sg"
      },
      "source": [
        "### A geometric interpretation of deep learning"
      ]
    },
    {
      "cell_type": "markdown",
      "metadata": {
        "id": "PbhkFVado2sg"
      },
      "source": [
        "## The engine of neural networks: gradient-based optimization"
      ]
    },
    {
      "cell_type": "markdown",
      "metadata": {
        "id": "IQ3oTiVto2sh"
      },
      "source": [
        "### What's a derivative?"
      ]
    },
    {
      "cell_type": "markdown",
      "metadata": {
        "id": "GgROwPXgo2sh"
      },
      "source": [
        "### Derivative of a tensor operation: the gradient"
      ]
    },
    {
      "cell_type": "markdown",
      "metadata": {
        "id": "cXms-lmvo2sh"
      },
      "source": [
        "### Stochastic gradient descent"
      ]
    },
    {
      "cell_type": "markdown",
      "metadata": {
        "id": "R9FXXCvbo2sh"
      },
      "source": [
        "### Chaining derivatives: The Backpropagation algorithm"
      ]
    },
    {
      "cell_type": "markdown",
      "metadata": {
        "id": "k0HONwSAo2sh"
      },
      "source": [
        "#### The chain rule"
      ]
    },
    {
      "cell_type": "markdown",
      "metadata": {
        "id": "RaDVJiKuo2sh"
      },
      "source": [
        "#### Automatic differentiation with computation graphs"
      ]
    },
    {
      "cell_type": "markdown",
      "metadata": {
        "id": "fCwithf2o2si"
      },
      "source": [
        "#### The gradient tape in TensorFlow"
      ]
    },
    {
      "cell_type": "code",
      "execution_count": null,
      "metadata": {
        "id": "sT_NnvuJo2si"
      },
      "outputs": [],
      "source": [
        "import tensorflow as tf\n",
        "x = tf.Variable(0.)\n",
        "with tf.GradientTape() as tape:\n",
        "    y = 2 * x + 3\n",
        "grad_of_y_wrt_x = tape.gradient(y, x)"
      ]
    },
    {
      "cell_type": "code",
      "execution_count": null,
      "metadata": {
        "id": "jfXOVewXo2si"
      },
      "outputs": [],
      "source": [
        "x = tf.Variable(tf.random.uniform((2, 2)))\n",
        "with tf.GradientTape() as tape:\n",
        "    y = 2 * x + 3\n",
        "grad_of_y_wrt_x = tape.gradient(y, x)"
      ]
    },
    {
      "cell_type": "code",
      "execution_count": null,
      "metadata": {
        "id": "vzm5yPDBo2si"
      },
      "outputs": [],
      "source": [
        "W = tf.Variable(tf.random.uniform((2, 2)))\n",
        "b = tf.Variable(tf.zeros((2,)))\n",
        "x = tf.random.uniform((2, 2))\n",
        "with tf.GradientTape() as tape:\n",
        "    y = tf.matmul(x, W) + b\n",
        "grad_of_y_wrt_W_and_b = tape.gradient(y, [W, b])"
      ]
    },
    {
      "cell_type": "markdown",
      "metadata": {
        "id": "T6HLsMjxo2si"
      },
      "source": [
        "## Looking back at our first example"
      ]
    },
    {
      "cell_type": "code",
      "execution_count": null,
      "metadata": {
        "id": "IOrRA0OAo2si"
      },
      "outputs": [],
      "source": [
        "(train_images, train_labels), (test_images, test_labels) = mnist.load_data()\n",
        "train_images = train_images.reshape((60000, 28 * 28))\n",
        "train_images = train_images.astype(\"float32\") / 255\n",
        "test_images = test_images.reshape((10000, 28 * 28))\n",
        "test_images = test_images.astype(\"float32\") / 255"
      ]
    },
    {
      "cell_type": "code",
      "execution_count": null,
      "metadata": {
        "id": "v4-hlWx3o2sj"
      },
      "outputs": [],
      "source": [
        "model = keras.Sequential([\n",
        "    layers.Dense(512, activation=\"relu\"),\n",
        "    layers.Dense(10, activation=\"softmax\")\n",
        "])"
      ]
    },
    {
      "cell_type": "code",
      "execution_count": null,
      "metadata": {
        "id": "X32-5NkJo2sj"
      },
      "outputs": [],
      "source": [
        "model.compile(optimizer=\"rmsprop\",\n",
        "              loss=\"sparse_categorical_crossentropy\",\n",
        "              metrics=[\"accuracy\"])"
      ]
    },
    {
      "cell_type": "code",
      "execution_count": null,
      "metadata": {
        "id": "NJwu5_rGo2sj"
      },
      "outputs": [],
      "source": [
        "model.fit(train_images, train_labels, epochs=5, batch_size=128)"
      ]
    },
    {
      "cell_type": "markdown",
      "metadata": {
        "id": "2TGhF5dao2sk"
      },
      "source": [
        "### Reimplementing our first example from scratch in TensorFlow"
      ]
    },
    {
      "cell_type": "markdown",
      "metadata": {
        "id": "e71Xdd1Go2sk"
      },
      "source": [
        "#### A simple Dense class"
      ]
    },
    {
      "cell_type": "code",
      "execution_count": null,
      "metadata": {
        "id": "iz8IP-3Yo2sk"
      },
      "outputs": [],
      "source": [
        "import tensorflow as tf\n",
        "\n",
        "class NaiveDense:\n",
        "    def __init__(self, input_size, output_size, activation):\n",
        "        self.activation = activation\n",
        "\n",
        "        w_shape = (input_size, output_size)\n",
        "        w_initial_value = tf.random.uniform(w_shape, minval=0, maxval=1e-1)\n",
        "        self.W = tf.Variable(w_initial_value)\n",
        "\n",
        "        b_shape = (output_size,)\n",
        "        b_initial_value = tf.zeros(b_shape)\n",
        "        self.b = tf.Variable(b_initial_value)\n",
        "\n",
        "    def __call__(self, inputs):\n",
        "        return self.activation(tf.matmul(inputs, self.W) + self.b)\n",
        "\n",
        "    @property\n",
        "    def weights(self):\n",
        "        return [self.W, self.b]"
      ]
    },
    {
      "cell_type": "markdown",
      "metadata": {
        "id": "p7XLZwcdo2sk"
      },
      "source": [
        "#### A simple Sequential class"
      ]
    },
    {
      "cell_type": "code",
      "execution_count": null,
      "metadata": {
        "id": "Rx2nMpm2o2sk"
      },
      "outputs": [],
      "source": [
        "class NaiveSequential:\n",
        "    def __init__(self, layers):\n",
        "        self.layers = layers\n",
        "\n",
        "    def __call__(self, inputs):\n",
        "        x = inputs\n",
        "        for layer in self.layers:\n",
        "           x = layer(x)\n",
        "        return x\n",
        "\n",
        "    @property\n",
        "    def weights(self):\n",
        "       weights = []\n",
        "       for layer in self.layers:\n",
        "           weights += layer.weights\n",
        "       return weights"
      ]
    },
    {
      "cell_type": "code",
      "execution_count": null,
      "metadata": {
        "id": "J2D10GsIo2sl"
      },
      "outputs": [],
      "source": [
        "model = NaiveSequential([\n",
        "    NaiveDense(input_size=28 * 28, output_size=512, activation=tf.nn.relu),\n",
        "    NaiveDense(input_size=512, output_size=10, activation=tf.nn.softmax)\n",
        "])\n",
        "assert len(model.weights) == 4"
      ]
    },
    {
      "cell_type": "markdown",
      "metadata": {
        "id": "sZewgMTVo2sl"
      },
      "source": [
        "#### A batch generator"
      ]
    },
    {
      "cell_type": "code",
      "execution_count": null,
      "metadata": {
        "id": "iHj6Y28_o2sl"
      },
      "outputs": [],
      "source": [
        "import math\n",
        "\n",
        "class BatchGenerator:\n",
        "    def __init__(self, images, labels, batch_size=128):\n",
        "        assert len(images) == len(labels)\n",
        "        self.index = 0\n",
        "        self.images = images\n",
        "        self.labels = labels\n",
        "        self.batch_size = batch_size\n",
        "        self.num_batches = math.ceil(len(images) / batch_size)\n",
        "\n",
        "    def next(self):\n",
        "        images = self.images[self.index : self.index + self.batch_size]\n",
        "        labels = self.labels[self.index : self.index + self.batch_size]\n",
        "        self.index += self.batch_size\n",
        "        return images, labels"
      ]
    },
    {
      "cell_type": "markdown",
      "metadata": {
        "id": "YD8GS_kco2sl"
      },
      "source": [
        "### Running one training step"
      ]
    },
    {
      "cell_type": "code",
      "execution_count": null,
      "metadata": {
        "id": "3-I9Uaeno2sm"
      },
      "outputs": [],
      "source": [
        "def one_training_step(model, images_batch, labels_batch):\n",
        "    with tf.GradientTape() as tape:\n",
        "        predictions = model(images_batch)\n",
        "        per_sample_losses = tf.keras.losses.sparse_categorical_crossentropy(\n",
        "            labels_batch, predictions)\n",
        "        average_loss = tf.reduce_mean(per_sample_losses)\n",
        "    gradients = tape.gradient(average_loss, model.weights)\n",
        "    update_weights(gradients, model.weights)\n",
        "    return average_loss"
      ]
    },
    {
      "cell_type": "code",
      "execution_count": null,
      "metadata": {
        "id": "s0p4tyoco2sm"
      },
      "outputs": [],
      "source": [
        "learning_rate = 1e-3\n",
        "\n",
        "def update_weights(gradients, weights):\n",
        "    for g, w in zip(gradients, weights):\n",
        "        w.assign_sub(g * learning_rate)"
      ]
    },
    {
      "cell_type": "code",
      "execution_count": null,
      "metadata": {
        "id": "oKiU9613o2sm"
      },
      "outputs": [],
      "source": [
        "from tensorflow.keras import optimizers\n",
        "\n",
        "optimizer = optimizers.SGD(learning_rate=1e-3)\n",
        "\n",
        "def update_weights(gradients, weights):\n",
        "    optimizer.apply_gradients(zip(gradients, weights))"
      ]
    },
    {
      "cell_type": "markdown",
      "metadata": {
        "id": "LpL8NuU-o2sm"
      },
      "source": [
        "### The full training loop"
      ]
    },
    {
      "cell_type": "code",
      "execution_count": null,
      "metadata": {
        "id": "OrJVmo5No2sm"
      },
      "outputs": [],
      "source": [
        "def fit(model, images, labels, epochs, batch_size=128):\n",
        "    for epoch_counter in range(epochs):\n",
        "        print(f\"Epoch {epoch_counter}\")\n",
        "        batch_generator = BatchGenerator(images, labels)\n",
        "        for batch_counter in range(batch_generator.num_batches):\n",
        "            images_batch, labels_batch = batch_generator.next()\n",
        "            loss = one_training_step(model, images_batch, labels_batch)\n",
        "            if batch_counter % 100 == 0:\n",
        "                print(f\"loss at batch {batch_counter}: {loss:.2f}\")"
      ]
    },
    {
      "cell_type": "code",
      "execution_count": null,
      "metadata": {
        "id": "-FwMxIkuo2sn",
        "colab": {
          "base_uri": "https://localhost:8080/"
        },
        "outputId": "ffaf4851-5f9a-466b-a1e8-8e0f4575d403"
      },
      "outputs": [
        {
          "output_type": "stream",
          "name": "stdout",
          "text": [
            "Epoch 0\n",
            "loss at batch 0: 5.43\n",
            "loss at batch 100: 2.28\n",
            "loss at batch 200: 2.23\n",
            "loss at batch 300: 2.10\n",
            "loss at batch 400: 2.25\n",
            "Epoch 1\n",
            "loss at batch 0: 1.94\n",
            "loss at batch 100: 1.91\n",
            "loss at batch 200: 1.85\n",
            "loss at batch 300: 1.72\n",
            "loss at batch 400: 1.85\n",
            "Epoch 2\n",
            "loss at batch 0: 1.61\n",
            "loss at batch 100: 1.61\n",
            "loss at batch 200: 1.52\n",
            "loss at batch 300: 1.44\n",
            "loss at batch 400: 1.53\n",
            "Epoch 3\n",
            "loss at batch 0: 1.35\n",
            "loss at batch 100: 1.37\n",
            "loss at batch 200: 1.25\n",
            "loss at batch 300: 1.21\n",
            "loss at batch 400: 1.29\n",
            "Epoch 4\n",
            "loss at batch 0: 1.14\n",
            "loss at batch 100: 1.18\n",
            "loss at batch 200: 1.05\n",
            "loss at batch 300: 1.05\n",
            "loss at batch 400: 1.12\n",
            "Epoch 5\n",
            "loss at batch 0: 0.99\n",
            "loss at batch 100: 1.03\n",
            "loss at batch 200: 0.91\n",
            "loss at batch 300: 0.93\n",
            "loss at batch 400: 1.00\n",
            "Epoch 6\n",
            "loss at batch 0: 0.87\n",
            "loss at batch 100: 0.92\n",
            "loss at batch 200: 0.81\n",
            "loss at batch 300: 0.83\n",
            "loss at batch 400: 0.91\n",
            "Epoch 7\n",
            "loss at batch 0: 0.79\n",
            "loss at batch 100: 0.83\n",
            "loss at batch 200: 0.73\n",
            "loss at batch 300: 0.76\n",
            "loss at batch 400: 0.84\n",
            "Epoch 8\n",
            "loss at batch 0: 0.72\n",
            "loss at batch 100: 0.76\n",
            "loss at batch 200: 0.67\n",
            "loss at batch 300: 0.70\n",
            "loss at batch 400: 0.79\n",
            "Epoch 9\n",
            "loss at batch 0: 0.67\n",
            "loss at batch 100: 0.71\n",
            "loss at batch 200: 0.62\n",
            "loss at batch 300: 0.66\n",
            "loss at batch 400: 0.74\n"
          ]
        }
      ],
      "source": [
        "from tensorflow.keras.datasets import mnist\n",
        "(train_images, train_labels), (test_images, test_labels) = mnist.load_data()\n",
        "\n",
        "train_images = train_images.reshape((60000, 28 * 28))\n",
        "train_images = train_images.astype(\"float32\") / 255\n",
        "test_images = test_images.reshape((10000, 28 * 28))\n",
        "test_images = test_images.astype(\"float32\") / 255\n",
        "\n",
        "fit(model, train_images, train_labels, epochs=10, batch_size=128)"
      ]
    },
    {
      "cell_type": "markdown",
      "metadata": {
        "id": "5-GtS0_io2sn"
      },
      "source": [
        "### Evaluating the model"
      ]
    },
    {
      "cell_type": "code",
      "execution_count": null,
      "metadata": {
        "id": "jYbS1Ufmo2sn",
        "colab": {
          "base_uri": "https://localhost:8080/"
        },
        "outputId": "032eb29d-2334-476f-bafc-6a5445f03855"
      },
      "outputs": [
        {
          "output_type": "stream",
          "name": "stdout",
          "text": [
            "accuracy: 0.82\n"
          ]
        }
      ],
      "source": [
        "predictions = model(test_images)\n",
        "predictions = predictions.numpy()\n",
        "predicted_labels = np.argmax(predictions, axis=1)\n",
        "matches = predicted_labels == test_labels\n",
        "print(f\"accuracy: {matches.mean():.2f}\")"
      ]
    },
    {
      "cell_type": "markdown",
      "metadata": {
        "id": "C2QswsBgo2sn"
      },
      "source": [
        "## Summary"
      ]
    }
  ],
  "metadata": {
    "colab": {
      "provenance": [],
      "toc_visible": true
    },
    "kernelspec": {
      "display_name": "Python 3",
      "language": "python",
      "name": "python3"
    },
    "language_info": {
      "codemirror_mode": {
        "name": "ipython",
        "version": 3
      },
      "file_extension": ".py",
      "mimetype": "text/x-python",
      "name": "python",
      "nbconvert_exporter": "python",
      "pygments_lexer": "ipython3",
      "version": "3.7.0"
    }
  },
  "nbformat": 4,
  "nbformat_minor": 0
}